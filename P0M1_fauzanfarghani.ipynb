{
 "cells": [
  {
   "cell_type": "markdown",
   "id": "d3925e71",
   "metadata": {},
   "source": [
    "```\n",
    "=================================================\n",
    "Milestone 1\n",
    "\n",
    "Nama  : Fauzan Rahmat Farghani\n",
    "Batch : HCK-027\n",
    "\n",
    "Proyek ini dibuat untuk melakukan praktif analisis statistik deskriptif dan inferensial.\n",
    "=================================================\n",
    "```"
   ]
  },
  {
   "cell_type": "markdown",
   "id": "8ce23612",
   "metadata": {},
   "source": [
    "Judul Milestone: Customer Purchasing Behaviour Analysis\n",
    "\n",
    "Link Dataset: https://www.kaggle.com/datasets/rohitsahoo/sales-forecasting/data\n",
    "\n",
    "Link Tableau Dashboard: https://public.tableau.com/app/profile/fauzan.farghani/viz/M1_FauzanFarghani2/Dashboard1?publish=yes"
   ]
  },
  {
   "cell_type": "markdown",
   "id": "1bc3d538",
   "metadata": {},
   "source": [
    "# Latar Belakang\n",
    "\n",
    "Pemahaman terkait perilaku pelanggan merupakan kunci utama bagi perusahaan-perusahaan sebagai acuan guna untuk mengembangkan potensi bisnis. Kunci utama ini tentunya didasari oleh aktivitas pelanggan. Seperti identitas, segmen, lokasi, informasi produk, dan detail transaksi. Pengembangan potensi bisnis dilakukan dengan tujuan untuk mengidentifikasi pola pembelian, penentuan kategori produk terlaris, evaluasi relasi antara produk dan besaran penjualan, dan pengembangan strategi penjualan agar pemasaran tepat sasaran. Dari tujuan-tujuan yang telah disebutkan sebelumnya, adapun analisis dan dataset yang akan digunakannya nanti berfungsi untuk mengukur pola penjualan selama sepekan kedepan."
   ]
  },
  {
   "cell_type": "markdown",
   "id": "3bc83bcc",
   "metadata": {},
   "source": [
    "# a. Deskripsi Permasalahan\n",
    "\n",
    "**Problem Statement:**\n",
    "\n",
    "Perusahaan X mengalami kendala terkait minimnya pemahaman tentang perilaku pembelian pelanggan, dimana minimnya pemahaman tersebut mengakibatkan beberapa aspek seperti strategi pemasaran tidak efisien, Kinerja penjualan yang tidak definitif, dan kurangnya preferensi terkait pengiriman yang berpotensi memengaruhi kepuasan pelanggan. \n",
    "\n",
    "**SMART Framework:**\n",
    "\n",
    "    - Specific: \n",
    "    Optimasi Strategi Pemasaran: Mencari tau apakah moda pengiriman memengaruhi tingkat pemesanan dari pelanggan.\n",
    "    Identifikasi Daerah Penjualan Potensial: Identifikasi penjualan dengan performa tinggi.\n",
    "\n",
    "\t    Metrik: Pelanggan, Produk, dan waktu\n",
    "\n",
    "    - Measureable:\n",
    "    Meningkatkan Penjualan sebanyak 20% berdasarkan sebaran daerah dengan transaksi penjualan terbesar\n",
    "    Efisiensi waktu pengiriman barang sebanyak 10%\n",
    "\n",
    "    - Achievable:\n",
    "    Analysis Dataset terkait transaksi pembelian retail\n",
    "    Analysis Extreme Data Analysis terkait dataset\n",
    "    Penerapan Pengolahan Data pada dataset\n",
    "    Visualisasi Hasil Analisa data\n",
    "\n",
    "    - Relevant: \n",
    "    Upaya Peningkatan Penjualan dan efisiensi waktu pengiriman berpotensi dapat meningkatkan kepuasan pelanggan dan memengaruhi perilaku pelanggan dalam berminat untuk meningkatkan transaksi yang berdampak pada meningkatnya penjualan secara keseluruhan.\n",
    "\n",
    "    - Time-Bound: Proses Pengerjaan proyek analisis dilakukan selama 5 hari meliputi:\n",
    "    EDA, data cleaning\n",
    "    Analisis produk, tren dan pengiriman\n",
    "    Rekomendasi Strategi, dokumentasi laporan\n",
    "    Visualisasi analisa data\n",
    "\n",
    "**5W + 1H:**\n",
    "\n",
    "1. Apakah ada perbedaan yang signifikan dalam penjualan dan kategori produk yang berbeda?\n",
    "2. Mengapa analisis perilaku pelanggan menjadi kunci dalam peningkatan penjualan dan loyalitas?\n",
    "3. Siapa saja (segmentasi pelanggan) yang berpotensi terkena dampak negatif dari perubahan perilaku pelanggan?\n",
    "4. Apa indikator dari permasalahan yang muncul dari faktor perilaku pelanggan?\n",
    "5. Divisi mana saja yang berpotensi terkena dampak penurunan penjualan akibat perilaku pelanggan?\n",
    "6. Bagaimana penyebaran pola perilaku pelanggan terbentuk?\n"
   ]
  },
  {
   "cell_type": "markdown",
   "id": "3a7644df",
   "metadata": {},
   "source": [
    "# b. Loading Data"
   ]
  },
  {
   "cell_type": "markdown",
   "id": "c5453c73",
   "metadata": {},
   "source": [
    "Akses file CSV dataset menggunakan pandas"
   ]
  },
  {
   "cell_type": "code",
   "execution_count": 1,
   "id": "565dda35",
   "metadata": {},
   "outputs": [],
   "source": [
    "import pandas as pd\n",
    "import plotly.express as px\n",
    "from scipy import stats"
   ]
  },
  {
   "cell_type": "code",
   "execution_count": 2,
   "id": "e8b6fa83",
   "metadata": {},
   "outputs": [
    {
     "data": {
      "application/vnd.microsoft.datawrangler.viewer.v0+json": {
       "columns": [
        {
         "name": "index",
         "rawType": "int64",
         "type": "integer"
        },
        {
         "name": "Row ID",
         "rawType": "int64",
         "type": "integer"
        },
        {
         "name": "Order ID",
         "rawType": "object",
         "type": "string"
        },
        {
         "name": "Order Date",
         "rawType": "object",
         "type": "string"
        },
        {
         "name": "Ship Date",
         "rawType": "object",
         "type": "string"
        },
        {
         "name": "Ship Mode",
         "rawType": "object",
         "type": "string"
        },
        {
         "name": "Customer ID",
         "rawType": "object",
         "type": "string"
        },
        {
         "name": "Customer Name",
         "rawType": "object",
         "type": "string"
        },
        {
         "name": "Segment",
         "rawType": "object",
         "type": "string"
        },
        {
         "name": "Country",
         "rawType": "object",
         "type": "string"
        },
        {
         "name": "City",
         "rawType": "object",
         "type": "string"
        },
        {
         "name": "State",
         "rawType": "object",
         "type": "string"
        },
        {
         "name": "Postal Code",
         "rawType": "float64",
         "type": "float"
        },
        {
         "name": "Region",
         "rawType": "object",
         "type": "string"
        },
        {
         "name": "Product ID",
         "rawType": "object",
         "type": "string"
        },
        {
         "name": "Category",
         "rawType": "object",
         "type": "string"
        },
        {
         "name": "Sub-Category",
         "rawType": "object",
         "type": "string"
        },
        {
         "name": "Product Name",
         "rawType": "object",
         "type": "string"
        },
        {
         "name": "Sales",
         "rawType": "float64",
         "type": "float"
        }
       ],
       "ref": "88701be6-a34d-4e8f-b768-1f3721f13387",
       "rows": [
        [
         "0",
         "1",
         "CA-2017-152156",
         "08/11/2017",
         "11/11/2017",
         "Second Class",
         "CG-12520",
         "Claire Gute",
         "Consumer",
         "United States",
         "Henderson",
         "Kentucky",
         "42420.0",
         "South",
         "FUR-BO-10001798",
         "Furniture",
         "Bookcases",
         "Bush Somerset Collection Bookcase",
         "261.96"
        ],
        [
         "1",
         "2",
         "CA-2017-152156",
         "08/11/2017",
         "11/11/2017",
         "Second Class",
         "CG-12520",
         "Claire Gute",
         "Consumer",
         "United States",
         "Henderson",
         "Kentucky",
         "42420.0",
         "South",
         "FUR-CH-10000454",
         "Furniture",
         "Chairs",
         "Hon Deluxe Fabric Upholstered Stacking Chairs, Rounded Back",
         "731.94"
        ],
        [
         "2",
         "3",
         "CA-2017-138688",
         "12/06/2017",
         "16/06/2017",
         "Second Class",
         "DV-13045",
         "Darrin Van Huff",
         "Corporate",
         "United States",
         "Los Angeles",
         "California",
         "90036.0",
         "West",
         "OFF-LA-10000240",
         "Office Supplies",
         "Labels",
         "Self-Adhesive Address Labels for Typewriters by Universal",
         "14.62"
        ],
        [
         "3",
         "4",
         "US-2016-108966",
         "11/10/2016",
         "18/10/2016",
         "Standard Class",
         "SO-20335",
         "Sean O'Donnell",
         "Consumer",
         "United States",
         "Fort Lauderdale",
         "Florida",
         "33311.0",
         "South",
         "FUR-TA-10000577",
         "Furniture",
         "Tables",
         "Bretford CR4500 Series Slim Rectangular Table",
         "957.5775"
        ],
        [
         "4",
         "5",
         "US-2016-108966",
         "11/10/2016",
         "18/10/2016",
         "Standard Class",
         "SO-20335",
         "Sean O'Donnell",
         "Consumer",
         "United States",
         "Fort Lauderdale",
         "Florida",
         "33311.0",
         "South",
         "OFF-ST-10000760",
         "Office Supplies",
         "Storage",
         "Eldon Fold 'N Roll Cart System",
         "22.368"
        ],
        [
         "5",
         "6",
         "CA-2015-115812",
         "09/06/2015",
         "14/06/2015",
         "Standard Class",
         "BH-11710",
         "Brosina Hoffman",
         "Consumer",
         "United States",
         "Los Angeles",
         "California",
         "90032.0",
         "West",
         "FUR-FU-10001487",
         "Furniture",
         "Furnishings",
         "Eldon Expressions Wood and Plastic Desk Accessories, Cherry Wood",
         "48.86"
        ],
        [
         "6",
         "7",
         "CA-2015-115812",
         "09/06/2015",
         "14/06/2015",
         "Standard Class",
         "BH-11710",
         "Brosina Hoffman",
         "Consumer",
         "United States",
         "Los Angeles",
         "California",
         "90032.0",
         "West",
         "OFF-AR-10002833",
         "Office Supplies",
         "Art",
         "Newell 322",
         "7.28"
        ],
        [
         "7",
         "8",
         "CA-2015-115812",
         "09/06/2015",
         "14/06/2015",
         "Standard Class",
         "BH-11710",
         "Brosina Hoffman",
         "Consumer",
         "United States",
         "Los Angeles",
         "California",
         "90032.0",
         "West",
         "TEC-PH-10002275",
         "Technology",
         "Phones",
         "Mitel 5320 IP Phone VoIP phone",
         "907.152"
        ],
        [
         "8",
         "9",
         "CA-2015-115812",
         "09/06/2015",
         "14/06/2015",
         "Standard Class",
         "BH-11710",
         "Brosina Hoffman",
         "Consumer",
         "United States",
         "Los Angeles",
         "California",
         "90032.0",
         "West",
         "OFF-BI-10003910",
         "Office Supplies",
         "Binders",
         "DXL Angle-View Binders with Locking Rings by Samsill",
         "18.504"
        ],
        [
         "9",
         "10",
         "CA-2015-115812",
         "09/06/2015",
         "14/06/2015",
         "Standard Class",
         "BH-11710",
         "Brosina Hoffman",
         "Consumer",
         "United States",
         "Los Angeles",
         "California",
         "90032.0",
         "West",
         "OFF-AP-10002892",
         "Office Supplies",
         "Appliances",
         "Belkin F5C206VTEL 6 Outlet Surge",
         "114.9"
        ],
        [
         "10",
         "11",
         "CA-2015-115812",
         "09/06/2015",
         "14/06/2015",
         "Standard Class",
         "BH-11710",
         "Brosina Hoffman",
         "Consumer",
         "United States",
         "Los Angeles",
         "California",
         "90032.0",
         "West",
         "FUR-TA-10001539",
         "Furniture",
         "Tables",
         "Chromcraft Rectangular Conference Tables",
         "1706.184"
        ],
        [
         "11",
         "12",
         "CA-2015-115812",
         "09/06/2015",
         "14/06/2015",
         "Standard Class",
         "BH-11710",
         "Brosina Hoffman",
         "Consumer",
         "United States",
         "Los Angeles",
         "California",
         "90032.0",
         "West",
         "TEC-PH-10002033",
         "Technology",
         "Phones",
         "Konftel 250 Conference phone - Charcoal black",
         "911.424"
        ],
        [
         "12",
         "13",
         "CA-2018-114412",
         "15/04/2018",
         "20/04/2018",
         "Standard Class",
         "AA-10480",
         "Andrew Allen",
         "Consumer",
         "United States",
         "Concord",
         "North Carolina",
         "28027.0",
         "South",
         "OFF-PA-10002365",
         "Office Supplies",
         "Paper",
         "Xerox 1967",
         "15.552"
        ],
        [
         "13",
         "14",
         "CA-2017-161389",
         "05/12/2017",
         "10/12/2017",
         "Standard Class",
         "IM-15070",
         "Irene Maddox",
         "Consumer",
         "United States",
         "Seattle",
         "Washington",
         "98103.0",
         "West",
         "OFF-BI-10003656",
         "Office Supplies",
         "Binders",
         "Fellowes PB200 Plastic Comb Binding Machine",
         "407.976"
        ],
        [
         "14",
         "15",
         "US-2016-118983",
         "22/11/2016",
         "26/11/2016",
         "Standard Class",
         "HP-14815",
         "Harold Pawlan",
         "Home Office",
         "United States",
         "Fort Worth",
         "Texas",
         "76106.0",
         "Central",
         "OFF-AP-10002311",
         "Office Supplies",
         "Appliances",
         "Holmes Replacement Filter for HEPA Air Cleaner, Very Large Room, HEPA Filter",
         "68.81"
        ],
        [
         "15",
         "16",
         "US-2016-118983",
         "22/11/2016",
         "26/11/2016",
         "Standard Class",
         "HP-14815",
         "Harold Pawlan",
         "Home Office",
         "United States",
         "Fort Worth",
         "Texas",
         "76106.0",
         "Central",
         "OFF-BI-10000756",
         "Office Supplies",
         "Binders",
         "Storex DuraTech Recycled Plastic Frosted Binders",
         "2.544"
        ],
        [
         "16",
         "17",
         "CA-2015-105893",
         "11/11/2015",
         "18/11/2015",
         "Standard Class",
         "PK-19075",
         "Pete Kriz",
         "Consumer",
         "United States",
         "Madison",
         "Wisconsin",
         "53711.0",
         "Central",
         "OFF-ST-10004186",
         "Office Supplies",
         "Storage",
         "Stur-D-Stor Shelving, Vertical 5-Shelf: 72\"H x 36\"W x 18 1/2\"D",
         "665.88"
        ],
        [
         "17",
         "18",
         "CA-2015-167164",
         "13/05/2015",
         "15/05/2015",
         "Second Class",
         "AG-10270",
         "Alejandro Grove",
         "Consumer",
         "United States",
         "West Jordan",
         "Utah",
         "84084.0",
         "West",
         "OFF-ST-10000107",
         "Office Supplies",
         "Storage",
         "Fellowes Super Stor/Drawer",
         "55.5"
        ],
        [
         "18",
         "19",
         "CA-2015-143336",
         "27/08/2015",
         "01/09/2015",
         "Second Class",
         "ZD-21925",
         "Zuschuss Donatelli",
         "Consumer",
         "United States",
         "San Francisco",
         "California",
         "94109.0",
         "West",
         "OFF-AR-10003056",
         "Office Supplies",
         "Art",
         "Newell 341",
         "8.56"
        ],
        [
         "19",
         "20",
         "CA-2015-143336",
         "27/08/2015",
         "01/09/2015",
         "Second Class",
         "ZD-21925",
         "Zuschuss Donatelli",
         "Consumer",
         "United States",
         "San Francisco",
         "California",
         "94109.0",
         "West",
         "TEC-PH-10001949",
         "Technology",
         "Phones",
         "Cisco SPA 501G IP Phone",
         "213.48"
        ],
        [
         "20",
         "21",
         "CA-2015-143336",
         "27/08/2015",
         "01/09/2015",
         "Second Class",
         "ZD-21925",
         "Zuschuss Donatelli",
         "Consumer",
         "United States",
         "San Francisco",
         "California",
         "94109.0",
         "West",
         "OFF-BI-10002215",
         "Office Supplies",
         "Binders",
         "Wilson Jones Hanging View Binder, White, 1\"",
         "22.72"
        ],
        [
         "21",
         "22",
         "CA-2017-137330",
         "09/12/2017",
         "13/12/2017",
         "Standard Class",
         "KB-16585",
         "Ken Black",
         "Corporate",
         "United States",
         "Fremont",
         "Nebraska",
         "68025.0",
         "Central",
         "OFF-AR-10000246",
         "Office Supplies",
         "Art",
         "Newell 318",
         "19.46"
        ],
        [
         "22",
         "23",
         "CA-2017-137330",
         "09/12/2017",
         "13/12/2017",
         "Standard Class",
         "KB-16585",
         "Ken Black",
         "Corporate",
         "United States",
         "Fremont",
         "Nebraska",
         "68025.0",
         "Central",
         "OFF-AP-10001492",
         "Office Supplies",
         "Appliances",
         "Acco Six-Outlet Power Strip, 4' Cord Length",
         "60.34"
        ],
        [
         "23",
         "24",
         "US-2018-156909",
         "16/07/2018",
         "18/07/2018",
         "Second Class",
         "SF-20065",
         "Sandra Flanagan",
         "Consumer",
         "United States",
         "Philadelphia",
         "Pennsylvania",
         "19140.0",
         "East",
         "FUR-CH-10002774",
         "Furniture",
         "Chairs",
         "Global Deluxe Stacking Chair, Gray",
         "71.372"
        ],
        [
         "24",
         "25",
         "CA-2016-106320",
         "25/09/2016",
         "30/09/2016",
         "Standard Class",
         "EB-13870",
         "Emily Burns",
         "Consumer",
         "United States",
         "Orem",
         "Utah",
         "84057.0",
         "West",
         "FUR-TA-10000577",
         "Furniture",
         "Tables",
         "Bretford CR4500 Series Slim Rectangular Table",
         "1044.63"
        ],
        [
         "25",
         "26",
         "CA-2017-121755",
         "16/01/2017",
         "20/01/2017",
         "Second Class",
         "EH-13945",
         "Eric Hoffmann",
         "Consumer",
         "United States",
         "Los Angeles",
         "California",
         "90049.0",
         "West",
         "OFF-BI-10001634",
         "Office Supplies",
         "Binders",
         "Wilson Jones Active Use Binders",
         "11.648"
        ],
        [
         "26",
         "27",
         "CA-2017-121755",
         "16/01/2017",
         "20/01/2017",
         "Second Class",
         "EH-13945",
         "Eric Hoffmann",
         "Consumer",
         "United States",
         "Los Angeles",
         "California",
         "90049.0",
         "West",
         "TEC-AC-10003027",
         "Technology",
         "Accessories",
         "Imation 8GB Mini TravelDrive USB 2.0 Flash Drive",
         "90.57"
        ],
        [
         "27",
         "28",
         "US-2016-150630",
         "17/09/2016",
         "21/09/2016",
         "Standard Class",
         "TB-21520",
         "Tracy Blumstein",
         "Consumer",
         "United States",
         "Philadelphia",
         "Pennsylvania",
         "19140.0",
         "East",
         "FUR-BO-10004834",
         "Furniture",
         "Bookcases",
         "Riverside Palais Royal Lawyers Bookcase, Royale Cherry Finish",
         "3083.43"
        ],
        [
         "28",
         "29",
         "US-2016-150630",
         "17/09/2016",
         "21/09/2016",
         "Standard Class",
         "TB-21520",
         "Tracy Blumstein",
         "Consumer",
         "United States",
         "Philadelphia",
         "Pennsylvania",
         "19140.0",
         "East",
         "OFF-BI-10000474",
         "Office Supplies",
         "Binders",
         "Avery Recycled Flexi-View Covers for Binding Systems",
         "9.618"
        ],
        [
         "29",
         "30",
         "US-2016-150630",
         "17/09/2016",
         "21/09/2016",
         "Standard Class",
         "TB-21520",
         "Tracy Blumstein",
         "Consumer",
         "United States",
         "Philadelphia",
         "Pennsylvania",
         "19140.0",
         "East",
         "FUR-FU-10004848",
         "Furniture",
         "Furnishings",
         "Howard Miller 13-3/4\" Diameter Brushed Chrome Round Wall Clock",
         "124.2"
        ],
        [
         "30",
         "31",
         "US-2016-150630",
         "17/09/2016",
         "21/09/2016",
         "Standard Class",
         "TB-21520",
         "Tracy Blumstein",
         "Consumer",
         "United States",
         "Philadelphia",
         "Pennsylvania",
         "19140.0",
         "East",
         "OFF-EN-10001509",
         "Office Supplies",
         "Envelopes",
         "Poly String Tie Envelopes",
         "3.264"
        ],
        [
         "31",
         "32",
         "US-2016-150630",
         "17/09/2016",
         "21/09/2016",
         "Standard Class",
         "TB-21520",
         "Tracy Blumstein",
         "Consumer",
         "United States",
         "Philadelphia",
         "Pennsylvania",
         "19140.0",
         "East",
         "OFF-AR-10004042",
         "Office Supplies",
         "Art",
         "BOSTON Model 1800 Electric Pencil Sharpeners, Putty/Woodgrain",
         "86.304"
        ],
        [
         "32",
         "33",
         "US-2016-150630",
         "17/09/2016",
         "21/09/2016",
         "Standard Class",
         "TB-21520",
         "Tracy Blumstein",
         "Consumer",
         "United States",
         "Philadelphia",
         "Pennsylvania",
         "19140.0",
         "East",
         "OFF-BI-10001525",
         "Office Supplies",
         "Binders",
         "Acco Pressboard Covers with Storage Hooks, 14 7/8\" x 11\", Executive Red",
         "6.858"
        ],
        [
         "33",
         "34",
         "US-2016-150630",
         "17/09/2016",
         "21/09/2016",
         "Standard Class",
         "TB-21520",
         "Tracy Blumstein",
         "Consumer",
         "United States",
         "Philadelphia",
         "Pennsylvania",
         "19140.0",
         "East",
         "OFF-AR-10001683",
         "Office Supplies",
         "Art",
         "Lumber Crayons",
         "15.76"
        ],
        [
         "34",
         "35",
         "CA-2018-107727",
         "19/10/2018",
         "23/10/2018",
         "Second Class",
         "MA-17560",
         "Matt Abelman",
         "Home Office",
         "United States",
         "Houston",
         "Texas",
         "77095.0",
         "Central",
         "OFF-PA-10000249",
         "Office Supplies",
         "Paper",
         "Easy-staple paper",
         "29.472"
        ],
        [
         "35",
         "36",
         "CA-2017-117590",
         "08/12/2017",
         "10/12/2017",
         "First Class",
         "GH-14485",
         "Gene Hale",
         "Corporate",
         "United States",
         "Richardson",
         "Texas",
         "75080.0",
         "Central",
         "TEC-PH-10004977",
         "Technology",
         "Phones",
         "GE 30524EE4",
         "1097.544"
        ],
        [
         "36",
         "37",
         "CA-2017-117590",
         "08/12/2017",
         "10/12/2017",
         "First Class",
         "GH-14485",
         "Gene Hale",
         "Corporate",
         "United States",
         "Richardson",
         "Texas",
         "75080.0",
         "Central",
         "FUR-FU-10003664",
         "Furniture",
         "Furnishings",
         "Electrix Architect's Clamp-On Swing Arm Lamp, Black",
         "190.92"
        ],
        [
         "37",
         "38",
         "CA-2016-117415",
         "27/12/2016",
         "31/12/2016",
         "Standard Class",
         "SN-20710",
         "Steve Nguyen",
         "Home Office",
         "United States",
         "Houston",
         "Texas",
         "77041.0",
         "Central",
         "OFF-EN-10002986",
         "Office Supplies",
         "Envelopes",
         "#10-4 1/8\" x 9 1/2\" Premium Diagonal Seam Envelopes",
         "113.328"
        ],
        [
         "38",
         "39",
         "CA-2016-117415",
         "27/12/2016",
         "31/12/2016",
         "Standard Class",
         "SN-20710",
         "Steve Nguyen",
         "Home Office",
         "United States",
         "Houston",
         "Texas",
         "77041.0",
         "Central",
         "FUR-BO-10002545",
         "Furniture",
         "Bookcases",
         "Atlantic Metals Mobile 3-Shelf Bookcases, Custom Colors",
         "532.3992"
        ],
        [
         "39",
         "40",
         "CA-2016-117415",
         "27/12/2016",
         "31/12/2016",
         "Standard Class",
         "SN-20710",
         "Steve Nguyen",
         "Home Office",
         "United States",
         "Houston",
         "Texas",
         "77041.0",
         "Central",
         "FUR-CH-10004218",
         "Furniture",
         "Chairs",
         "Global Fabric Manager's Chair, Dark Gray",
         "212.058"
        ],
        [
         "40",
         "41",
         "CA-2016-117415",
         "27/12/2016",
         "31/12/2016",
         "Standard Class",
         "SN-20710",
         "Steve Nguyen",
         "Home Office",
         "United States",
         "Houston",
         "Texas",
         "77041.0",
         "Central",
         "TEC-PH-10000486",
         "Technology",
         "Phones",
         "Plantronics HL10 Handset Lifter",
         "371.168"
        ],
        [
         "41",
         "42",
         "CA-2018-120999",
         "10/09/2018",
         "15/09/2018",
         "Standard Class",
         "LC-16930",
         "Linda Cazamias",
         "Corporate",
         "United States",
         "Naperville",
         "Illinois",
         "60540.0",
         "Central",
         "TEC-PH-10004093",
         "Technology",
         "Phones",
         "Panasonic Kx-TS550",
         "147.168"
        ],
        [
         "42",
         "43",
         "CA-2017-101343",
         "17/07/2017",
         "22/07/2017",
         "Standard Class",
         "RA-19885",
         "Ruben Ausman",
         "Corporate",
         "United States",
         "Los Angeles",
         "California",
         "90049.0",
         "West",
         "OFF-ST-10003479",
         "Office Supplies",
         "Storage",
         "Eldon Base for stackable storage shelf, platinum",
         "77.88"
        ],
        [
         "43",
         "44",
         "CA-2018-139619",
         "19/09/2018",
         "23/09/2018",
         "Standard Class",
         "ES-14080",
         "Erin Smith",
         "Corporate",
         "United States",
         "Melbourne",
         "Florida",
         "32935.0",
         "South",
         "OFF-ST-10003282",
         "Office Supplies",
         "Storage",
         "Advantus 10-Drawer Portable Organizer, Chrome Metal Frame, Smoke Drawers",
         "95.616"
        ],
        [
         "44",
         "45",
         "CA-2017-118255",
         "11/03/2017",
         "13/03/2017",
         "First Class",
         "ON-18715",
         "Odella Nelson",
         "Corporate",
         "United States",
         "Eagan",
         "Minnesota",
         "55122.0",
         "Central",
         "TEC-AC-10000171",
         "Technology",
         "Accessories",
         "Verbatim 25 GB 6x Blu-ray Single Layer Recordable Disc, 25/Pack",
         "45.98"
        ],
        [
         "45",
         "46",
         "CA-2017-118255",
         "11/03/2017",
         "13/03/2017",
         "First Class",
         "ON-18715",
         "Odella Nelson",
         "Corporate",
         "United States",
         "Eagan",
         "Minnesota",
         "55122.0",
         "Central",
         "OFF-BI-10003291",
         "Office Supplies",
         "Binders",
         "Wilson Jones Leather-Like Binders with DublLock Round Rings",
         "17.46"
        ],
        [
         "46",
         "47",
         "CA-2015-146703",
         "20/10/2015",
         "25/10/2015",
         "Second Class",
         "PO-18865",
         "Patrick O'Donnell",
         "Consumer",
         "United States",
         "Westland",
         "Michigan",
         "48185.0",
         "Central",
         "OFF-ST-10001713",
         "Office Supplies",
         "Storage",
         "Gould Plastics 9-Pocket Panel Bin, 18-3/8w x 5-1/4d x 20-1/2h, Black",
         "211.96"
        ],
        [
         "47",
         "48",
         "CA-2017-169194",
         "20/06/2017",
         "25/06/2017",
         "Standard Class",
         "LH-16900",
         "Lena Hernandez",
         "Consumer",
         "United States",
         "Dover",
         "Delaware",
         "19901.0",
         "East",
         "TEC-AC-10002167",
         "Technology",
         "Accessories",
         "Imation 8gb Micro Traveldrive Usb 2.0 Flash Drive",
         "45.0"
        ],
        [
         "48",
         "49",
         "CA-2017-169194",
         "20/06/2017",
         "25/06/2017",
         "Standard Class",
         "LH-16900",
         "Lena Hernandez",
         "Consumer",
         "United States",
         "Dover",
         "Delaware",
         "19901.0",
         "East",
         "TEC-PH-10003988",
         "Technology",
         "Phones",
         "LF Elite 3D Dazzle Designer Hard Case Cover, Lf Stylus Pen and Wiper For Apple Iphone 5c Mini Lite",
         "21.8"
        ],
        [
         "49",
         "50",
         "CA-2016-115742",
         "18/04/2016",
         "22/04/2016",
         "Standard Class",
         "DP-13000",
         "Darren Powers",
         "Consumer",
         "United States",
         "New Albany",
         "Indiana",
         "47150.0",
         "Central",
         "OFF-BI-10004410",
         "Office Supplies",
         "Binders",
         "C-Line Peel & Stick Add-On Filing Pockets, 8-3/4 x 5-1/8, 10/Pack",
         "38.22"
        ]
       ],
       "shape": {
        "columns": 18,
        "rows": 9800
       }
      },
      "text/html": [
       "<div>\n",
       "<style scoped>\n",
       "    .dataframe tbody tr th:only-of-type {\n",
       "        vertical-align: middle;\n",
       "    }\n",
       "\n",
       "    .dataframe tbody tr th {\n",
       "        vertical-align: top;\n",
       "    }\n",
       "\n",
       "    .dataframe thead th {\n",
       "        text-align: right;\n",
       "    }\n",
       "</style>\n",
       "<table border=\"1\" class=\"dataframe\">\n",
       "  <thead>\n",
       "    <tr style=\"text-align: right;\">\n",
       "      <th></th>\n",
       "      <th>Row ID</th>\n",
       "      <th>Order ID</th>\n",
       "      <th>Order Date</th>\n",
       "      <th>Ship Date</th>\n",
       "      <th>Ship Mode</th>\n",
       "      <th>Customer ID</th>\n",
       "      <th>Customer Name</th>\n",
       "      <th>Segment</th>\n",
       "      <th>Country</th>\n",
       "      <th>City</th>\n",
       "      <th>State</th>\n",
       "      <th>Postal Code</th>\n",
       "      <th>Region</th>\n",
       "      <th>Product ID</th>\n",
       "      <th>Category</th>\n",
       "      <th>Sub-Category</th>\n",
       "      <th>Product Name</th>\n",
       "      <th>Sales</th>\n",
       "    </tr>\n",
       "  </thead>\n",
       "  <tbody>\n",
       "    <tr>\n",
       "      <th>0</th>\n",
       "      <td>1</td>\n",
       "      <td>CA-2017-152156</td>\n",
       "      <td>08/11/2017</td>\n",
       "      <td>11/11/2017</td>\n",
       "      <td>Second Class</td>\n",
       "      <td>CG-12520</td>\n",
       "      <td>Claire Gute</td>\n",
       "      <td>Consumer</td>\n",
       "      <td>United States</td>\n",
       "      <td>Henderson</td>\n",
       "      <td>Kentucky</td>\n",
       "      <td>42420.0</td>\n",
       "      <td>South</td>\n",
       "      <td>FUR-BO-10001798</td>\n",
       "      <td>Furniture</td>\n",
       "      <td>Bookcases</td>\n",
       "      <td>Bush Somerset Collection Bookcase</td>\n",
       "      <td>261.9600</td>\n",
       "    </tr>\n",
       "    <tr>\n",
       "      <th>1</th>\n",
       "      <td>2</td>\n",
       "      <td>CA-2017-152156</td>\n",
       "      <td>08/11/2017</td>\n",
       "      <td>11/11/2017</td>\n",
       "      <td>Second Class</td>\n",
       "      <td>CG-12520</td>\n",
       "      <td>Claire Gute</td>\n",
       "      <td>Consumer</td>\n",
       "      <td>United States</td>\n",
       "      <td>Henderson</td>\n",
       "      <td>Kentucky</td>\n",
       "      <td>42420.0</td>\n",
       "      <td>South</td>\n",
       "      <td>FUR-CH-10000454</td>\n",
       "      <td>Furniture</td>\n",
       "      <td>Chairs</td>\n",
       "      <td>Hon Deluxe Fabric Upholstered Stacking Chairs,...</td>\n",
       "      <td>731.9400</td>\n",
       "    </tr>\n",
       "    <tr>\n",
       "      <th>2</th>\n",
       "      <td>3</td>\n",
       "      <td>CA-2017-138688</td>\n",
       "      <td>12/06/2017</td>\n",
       "      <td>16/06/2017</td>\n",
       "      <td>Second Class</td>\n",
       "      <td>DV-13045</td>\n",
       "      <td>Darrin Van Huff</td>\n",
       "      <td>Corporate</td>\n",
       "      <td>United States</td>\n",
       "      <td>Los Angeles</td>\n",
       "      <td>California</td>\n",
       "      <td>90036.0</td>\n",
       "      <td>West</td>\n",
       "      <td>OFF-LA-10000240</td>\n",
       "      <td>Office Supplies</td>\n",
       "      <td>Labels</td>\n",
       "      <td>Self-Adhesive Address Labels for Typewriters b...</td>\n",
       "      <td>14.6200</td>\n",
       "    </tr>\n",
       "    <tr>\n",
       "      <th>3</th>\n",
       "      <td>4</td>\n",
       "      <td>US-2016-108966</td>\n",
       "      <td>11/10/2016</td>\n",
       "      <td>18/10/2016</td>\n",
       "      <td>Standard Class</td>\n",
       "      <td>SO-20335</td>\n",
       "      <td>Sean O'Donnell</td>\n",
       "      <td>Consumer</td>\n",
       "      <td>United States</td>\n",
       "      <td>Fort Lauderdale</td>\n",
       "      <td>Florida</td>\n",
       "      <td>33311.0</td>\n",
       "      <td>South</td>\n",
       "      <td>FUR-TA-10000577</td>\n",
       "      <td>Furniture</td>\n",
       "      <td>Tables</td>\n",
       "      <td>Bretford CR4500 Series Slim Rectangular Table</td>\n",
       "      <td>957.5775</td>\n",
       "    </tr>\n",
       "    <tr>\n",
       "      <th>4</th>\n",
       "      <td>5</td>\n",
       "      <td>US-2016-108966</td>\n",
       "      <td>11/10/2016</td>\n",
       "      <td>18/10/2016</td>\n",
       "      <td>Standard Class</td>\n",
       "      <td>SO-20335</td>\n",
       "      <td>Sean O'Donnell</td>\n",
       "      <td>Consumer</td>\n",
       "      <td>United States</td>\n",
       "      <td>Fort Lauderdale</td>\n",
       "      <td>Florida</td>\n",
       "      <td>33311.0</td>\n",
       "      <td>South</td>\n",
       "      <td>OFF-ST-10000760</td>\n",
       "      <td>Office Supplies</td>\n",
       "      <td>Storage</td>\n",
       "      <td>Eldon Fold 'N Roll Cart System</td>\n",
       "      <td>22.3680</td>\n",
       "    </tr>\n",
       "    <tr>\n",
       "      <th>...</th>\n",
       "      <td>...</td>\n",
       "      <td>...</td>\n",
       "      <td>...</td>\n",
       "      <td>...</td>\n",
       "      <td>...</td>\n",
       "      <td>...</td>\n",
       "      <td>...</td>\n",
       "      <td>...</td>\n",
       "      <td>...</td>\n",
       "      <td>...</td>\n",
       "      <td>...</td>\n",
       "      <td>...</td>\n",
       "      <td>...</td>\n",
       "      <td>...</td>\n",
       "      <td>...</td>\n",
       "      <td>...</td>\n",
       "      <td>...</td>\n",
       "      <td>...</td>\n",
       "    </tr>\n",
       "    <tr>\n",
       "      <th>9795</th>\n",
       "      <td>9796</td>\n",
       "      <td>CA-2017-125920</td>\n",
       "      <td>21/05/2017</td>\n",
       "      <td>28/05/2017</td>\n",
       "      <td>Standard Class</td>\n",
       "      <td>SH-19975</td>\n",
       "      <td>Sally Hughsby</td>\n",
       "      <td>Corporate</td>\n",
       "      <td>United States</td>\n",
       "      <td>Chicago</td>\n",
       "      <td>Illinois</td>\n",
       "      <td>60610.0</td>\n",
       "      <td>Central</td>\n",
       "      <td>OFF-BI-10003429</td>\n",
       "      <td>Office Supplies</td>\n",
       "      <td>Binders</td>\n",
       "      <td>Cardinal HOLDit! Binder Insert Strips,Extra St...</td>\n",
       "      <td>3.7980</td>\n",
       "    </tr>\n",
       "    <tr>\n",
       "      <th>9796</th>\n",
       "      <td>9797</td>\n",
       "      <td>CA-2016-128608</td>\n",
       "      <td>12/01/2016</td>\n",
       "      <td>17/01/2016</td>\n",
       "      <td>Standard Class</td>\n",
       "      <td>CS-12490</td>\n",
       "      <td>Cindy Schnelling</td>\n",
       "      <td>Corporate</td>\n",
       "      <td>United States</td>\n",
       "      <td>Toledo</td>\n",
       "      <td>Ohio</td>\n",
       "      <td>43615.0</td>\n",
       "      <td>East</td>\n",
       "      <td>OFF-AR-10001374</td>\n",
       "      <td>Office Supplies</td>\n",
       "      <td>Art</td>\n",
       "      <td>BIC Brite Liner Highlighters, Chisel Tip</td>\n",
       "      <td>10.3680</td>\n",
       "    </tr>\n",
       "    <tr>\n",
       "      <th>9797</th>\n",
       "      <td>9798</td>\n",
       "      <td>CA-2016-128608</td>\n",
       "      <td>12/01/2016</td>\n",
       "      <td>17/01/2016</td>\n",
       "      <td>Standard Class</td>\n",
       "      <td>CS-12490</td>\n",
       "      <td>Cindy Schnelling</td>\n",
       "      <td>Corporate</td>\n",
       "      <td>United States</td>\n",
       "      <td>Toledo</td>\n",
       "      <td>Ohio</td>\n",
       "      <td>43615.0</td>\n",
       "      <td>East</td>\n",
       "      <td>TEC-PH-10004977</td>\n",
       "      <td>Technology</td>\n",
       "      <td>Phones</td>\n",
       "      <td>GE 30524EE4</td>\n",
       "      <td>235.1880</td>\n",
       "    </tr>\n",
       "    <tr>\n",
       "      <th>9798</th>\n",
       "      <td>9799</td>\n",
       "      <td>CA-2016-128608</td>\n",
       "      <td>12/01/2016</td>\n",
       "      <td>17/01/2016</td>\n",
       "      <td>Standard Class</td>\n",
       "      <td>CS-12490</td>\n",
       "      <td>Cindy Schnelling</td>\n",
       "      <td>Corporate</td>\n",
       "      <td>United States</td>\n",
       "      <td>Toledo</td>\n",
       "      <td>Ohio</td>\n",
       "      <td>43615.0</td>\n",
       "      <td>East</td>\n",
       "      <td>TEC-PH-10000912</td>\n",
       "      <td>Technology</td>\n",
       "      <td>Phones</td>\n",
       "      <td>Anker 24W Portable Micro USB Car Charger</td>\n",
       "      <td>26.3760</td>\n",
       "    </tr>\n",
       "    <tr>\n",
       "      <th>9799</th>\n",
       "      <td>9800</td>\n",
       "      <td>CA-2016-128608</td>\n",
       "      <td>12/01/2016</td>\n",
       "      <td>17/01/2016</td>\n",
       "      <td>Standard Class</td>\n",
       "      <td>CS-12490</td>\n",
       "      <td>Cindy Schnelling</td>\n",
       "      <td>Corporate</td>\n",
       "      <td>United States</td>\n",
       "      <td>Toledo</td>\n",
       "      <td>Ohio</td>\n",
       "      <td>43615.0</td>\n",
       "      <td>East</td>\n",
       "      <td>TEC-AC-10000487</td>\n",
       "      <td>Technology</td>\n",
       "      <td>Accessories</td>\n",
       "      <td>SanDisk Cruzer 4 GB USB Flash Drive</td>\n",
       "      <td>10.3840</td>\n",
       "    </tr>\n",
       "  </tbody>\n",
       "</table>\n",
       "<p>9800 rows × 18 columns</p>\n",
       "</div>"
      ],
      "text/plain": [
       "      Row ID        Order ID  Order Date   Ship Date       Ship Mode  \\\n",
       "0          1  CA-2017-152156  08/11/2017  11/11/2017    Second Class   \n",
       "1          2  CA-2017-152156  08/11/2017  11/11/2017    Second Class   \n",
       "2          3  CA-2017-138688  12/06/2017  16/06/2017    Second Class   \n",
       "3          4  US-2016-108966  11/10/2016  18/10/2016  Standard Class   \n",
       "4          5  US-2016-108966  11/10/2016  18/10/2016  Standard Class   \n",
       "...      ...             ...         ...         ...             ...   \n",
       "9795    9796  CA-2017-125920  21/05/2017  28/05/2017  Standard Class   \n",
       "9796    9797  CA-2016-128608  12/01/2016  17/01/2016  Standard Class   \n",
       "9797    9798  CA-2016-128608  12/01/2016  17/01/2016  Standard Class   \n",
       "9798    9799  CA-2016-128608  12/01/2016  17/01/2016  Standard Class   \n",
       "9799    9800  CA-2016-128608  12/01/2016  17/01/2016  Standard Class   \n",
       "\n",
       "     Customer ID     Customer Name    Segment        Country             City  \\\n",
       "0       CG-12520       Claire Gute   Consumer  United States        Henderson   \n",
       "1       CG-12520       Claire Gute   Consumer  United States        Henderson   \n",
       "2       DV-13045   Darrin Van Huff  Corporate  United States      Los Angeles   \n",
       "3       SO-20335    Sean O'Donnell   Consumer  United States  Fort Lauderdale   \n",
       "4       SO-20335    Sean O'Donnell   Consumer  United States  Fort Lauderdale   \n",
       "...          ...               ...        ...            ...              ...   \n",
       "9795    SH-19975     Sally Hughsby  Corporate  United States          Chicago   \n",
       "9796    CS-12490  Cindy Schnelling  Corporate  United States           Toledo   \n",
       "9797    CS-12490  Cindy Schnelling  Corporate  United States           Toledo   \n",
       "9798    CS-12490  Cindy Schnelling  Corporate  United States           Toledo   \n",
       "9799    CS-12490  Cindy Schnelling  Corporate  United States           Toledo   \n",
       "\n",
       "           State  Postal Code   Region       Product ID         Category  \\\n",
       "0       Kentucky      42420.0    South  FUR-BO-10001798        Furniture   \n",
       "1       Kentucky      42420.0    South  FUR-CH-10000454        Furniture   \n",
       "2     California      90036.0     West  OFF-LA-10000240  Office Supplies   \n",
       "3        Florida      33311.0    South  FUR-TA-10000577        Furniture   \n",
       "4        Florida      33311.0    South  OFF-ST-10000760  Office Supplies   \n",
       "...          ...          ...      ...              ...              ...   \n",
       "9795    Illinois      60610.0  Central  OFF-BI-10003429  Office Supplies   \n",
       "9796        Ohio      43615.0     East  OFF-AR-10001374  Office Supplies   \n",
       "9797        Ohio      43615.0     East  TEC-PH-10004977       Technology   \n",
       "9798        Ohio      43615.0     East  TEC-PH-10000912       Technology   \n",
       "9799        Ohio      43615.0     East  TEC-AC-10000487       Technology   \n",
       "\n",
       "     Sub-Category                                       Product Name     Sales  \n",
       "0       Bookcases                  Bush Somerset Collection Bookcase  261.9600  \n",
       "1          Chairs  Hon Deluxe Fabric Upholstered Stacking Chairs,...  731.9400  \n",
       "2          Labels  Self-Adhesive Address Labels for Typewriters b...   14.6200  \n",
       "3          Tables      Bretford CR4500 Series Slim Rectangular Table  957.5775  \n",
       "4         Storage                     Eldon Fold 'N Roll Cart System   22.3680  \n",
       "...           ...                                                ...       ...  \n",
       "9795      Binders  Cardinal HOLDit! Binder Insert Strips,Extra St...    3.7980  \n",
       "9796          Art           BIC Brite Liner Highlighters, Chisel Tip   10.3680  \n",
       "9797       Phones                                        GE 30524EE4  235.1880  \n",
       "9798       Phones           Anker 24W Portable Micro USB Car Charger   26.3760  \n",
       "9799  Accessories                SanDisk Cruzer 4 GB USB Flash Drive   10.3840  \n",
       "\n",
       "[9800 rows x 18 columns]"
      ]
     },
     "execution_count": 2,
     "metadata": {},
     "output_type": "execute_result"
    }
   ],
   "source": [
    "# Tampilkan data dari file CSV\n",
    "df = pd.read_csv('train 2.csv')\n",
    "df"
   ]
  },
  {
   "cell_type": "markdown",
   "id": "449b9c73",
   "metadata": {},
   "source": [
    "Head dari dataset:"
   ]
  },
  {
   "cell_type": "code",
   "execution_count": 3,
   "id": "c13d8f2e",
   "metadata": {},
   "outputs": [
    {
     "data": {
      "application/vnd.microsoft.datawrangler.viewer.v0+json": {
       "columns": [
        {
         "name": "index",
         "rawType": "int64",
         "type": "integer"
        },
        {
         "name": "Row ID",
         "rawType": "int64",
         "type": "integer"
        },
        {
         "name": "Order ID",
         "rawType": "object",
         "type": "string"
        },
        {
         "name": "Order Date",
         "rawType": "object",
         "type": "string"
        },
        {
         "name": "Ship Date",
         "rawType": "object",
         "type": "string"
        },
        {
         "name": "Ship Mode",
         "rawType": "object",
         "type": "string"
        },
        {
         "name": "Customer ID",
         "rawType": "object",
         "type": "string"
        },
        {
         "name": "Customer Name",
         "rawType": "object",
         "type": "string"
        },
        {
         "name": "Segment",
         "rawType": "object",
         "type": "string"
        },
        {
         "name": "Country",
         "rawType": "object",
         "type": "string"
        },
        {
         "name": "City",
         "rawType": "object",
         "type": "string"
        },
        {
         "name": "State",
         "rawType": "object",
         "type": "string"
        },
        {
         "name": "Postal Code",
         "rawType": "float64",
         "type": "float"
        },
        {
         "name": "Region",
         "rawType": "object",
         "type": "string"
        },
        {
         "name": "Product ID",
         "rawType": "object",
         "type": "string"
        },
        {
         "name": "Category",
         "rawType": "object",
         "type": "string"
        },
        {
         "name": "Sub-Category",
         "rawType": "object",
         "type": "string"
        },
        {
         "name": "Product Name",
         "rawType": "object",
         "type": "string"
        },
        {
         "name": "Sales",
         "rawType": "float64",
         "type": "float"
        }
       ],
       "ref": "49bc3db5-24da-4214-8eda-62a50b47fbd2",
       "rows": [
        [
         "0",
         "1",
         "CA-2017-152156",
         "08/11/2017",
         "11/11/2017",
         "Second Class",
         "CG-12520",
         "Claire Gute",
         "Consumer",
         "United States",
         "Henderson",
         "Kentucky",
         "42420.0",
         "South",
         "FUR-BO-10001798",
         "Furniture",
         "Bookcases",
         "Bush Somerset Collection Bookcase",
         "261.96"
        ],
        [
         "1",
         "2",
         "CA-2017-152156",
         "08/11/2017",
         "11/11/2017",
         "Second Class",
         "CG-12520",
         "Claire Gute",
         "Consumer",
         "United States",
         "Henderson",
         "Kentucky",
         "42420.0",
         "South",
         "FUR-CH-10000454",
         "Furniture",
         "Chairs",
         "Hon Deluxe Fabric Upholstered Stacking Chairs, Rounded Back",
         "731.94"
        ],
        [
         "2",
         "3",
         "CA-2017-138688",
         "12/06/2017",
         "16/06/2017",
         "Second Class",
         "DV-13045",
         "Darrin Van Huff",
         "Corporate",
         "United States",
         "Los Angeles",
         "California",
         "90036.0",
         "West",
         "OFF-LA-10000240",
         "Office Supplies",
         "Labels",
         "Self-Adhesive Address Labels for Typewriters by Universal",
         "14.62"
        ],
        [
         "3",
         "4",
         "US-2016-108966",
         "11/10/2016",
         "18/10/2016",
         "Standard Class",
         "SO-20335",
         "Sean O'Donnell",
         "Consumer",
         "United States",
         "Fort Lauderdale",
         "Florida",
         "33311.0",
         "South",
         "FUR-TA-10000577",
         "Furniture",
         "Tables",
         "Bretford CR4500 Series Slim Rectangular Table",
         "957.5775"
        ],
        [
         "4",
         "5",
         "US-2016-108966",
         "11/10/2016",
         "18/10/2016",
         "Standard Class",
         "SO-20335",
         "Sean O'Donnell",
         "Consumer",
         "United States",
         "Fort Lauderdale",
         "Florida",
         "33311.0",
         "South",
         "OFF-ST-10000760",
         "Office Supplies",
         "Storage",
         "Eldon Fold 'N Roll Cart System",
         "22.368"
        ],
        [
         "5",
         "6",
         "CA-2015-115812",
         "09/06/2015",
         "14/06/2015",
         "Standard Class",
         "BH-11710",
         "Brosina Hoffman",
         "Consumer",
         "United States",
         "Los Angeles",
         "California",
         "90032.0",
         "West",
         "FUR-FU-10001487",
         "Furniture",
         "Furnishings",
         "Eldon Expressions Wood and Plastic Desk Accessories, Cherry Wood",
         "48.86"
        ],
        [
         "6",
         "7",
         "CA-2015-115812",
         "09/06/2015",
         "14/06/2015",
         "Standard Class",
         "BH-11710",
         "Brosina Hoffman",
         "Consumer",
         "United States",
         "Los Angeles",
         "California",
         "90032.0",
         "West",
         "OFF-AR-10002833",
         "Office Supplies",
         "Art",
         "Newell 322",
         "7.28"
        ],
        [
         "7",
         "8",
         "CA-2015-115812",
         "09/06/2015",
         "14/06/2015",
         "Standard Class",
         "BH-11710",
         "Brosina Hoffman",
         "Consumer",
         "United States",
         "Los Angeles",
         "California",
         "90032.0",
         "West",
         "TEC-PH-10002275",
         "Technology",
         "Phones",
         "Mitel 5320 IP Phone VoIP phone",
         "907.152"
        ],
        [
         "8",
         "9",
         "CA-2015-115812",
         "09/06/2015",
         "14/06/2015",
         "Standard Class",
         "BH-11710",
         "Brosina Hoffman",
         "Consumer",
         "United States",
         "Los Angeles",
         "California",
         "90032.0",
         "West",
         "OFF-BI-10003910",
         "Office Supplies",
         "Binders",
         "DXL Angle-View Binders with Locking Rings by Samsill",
         "18.504"
        ],
        [
         "9",
         "10",
         "CA-2015-115812",
         "09/06/2015",
         "14/06/2015",
         "Standard Class",
         "BH-11710",
         "Brosina Hoffman",
         "Consumer",
         "United States",
         "Los Angeles",
         "California",
         "90032.0",
         "West",
         "OFF-AP-10002892",
         "Office Supplies",
         "Appliances",
         "Belkin F5C206VTEL 6 Outlet Surge",
         "114.9"
        ]
       ],
       "shape": {
        "columns": 18,
        "rows": 10
       }
      },
      "text/html": [
       "<div>\n",
       "<style scoped>\n",
       "    .dataframe tbody tr th:only-of-type {\n",
       "        vertical-align: middle;\n",
       "    }\n",
       "\n",
       "    .dataframe tbody tr th {\n",
       "        vertical-align: top;\n",
       "    }\n",
       "\n",
       "    .dataframe thead th {\n",
       "        text-align: right;\n",
       "    }\n",
       "</style>\n",
       "<table border=\"1\" class=\"dataframe\">\n",
       "  <thead>\n",
       "    <tr style=\"text-align: right;\">\n",
       "      <th></th>\n",
       "      <th>Row ID</th>\n",
       "      <th>Order ID</th>\n",
       "      <th>Order Date</th>\n",
       "      <th>Ship Date</th>\n",
       "      <th>Ship Mode</th>\n",
       "      <th>Customer ID</th>\n",
       "      <th>Customer Name</th>\n",
       "      <th>Segment</th>\n",
       "      <th>Country</th>\n",
       "      <th>City</th>\n",
       "      <th>State</th>\n",
       "      <th>Postal Code</th>\n",
       "      <th>Region</th>\n",
       "      <th>Product ID</th>\n",
       "      <th>Category</th>\n",
       "      <th>Sub-Category</th>\n",
       "      <th>Product Name</th>\n",
       "      <th>Sales</th>\n",
       "    </tr>\n",
       "  </thead>\n",
       "  <tbody>\n",
       "    <tr>\n",
       "      <th>0</th>\n",
       "      <td>1</td>\n",
       "      <td>CA-2017-152156</td>\n",
       "      <td>08/11/2017</td>\n",
       "      <td>11/11/2017</td>\n",
       "      <td>Second Class</td>\n",
       "      <td>CG-12520</td>\n",
       "      <td>Claire Gute</td>\n",
       "      <td>Consumer</td>\n",
       "      <td>United States</td>\n",
       "      <td>Henderson</td>\n",
       "      <td>Kentucky</td>\n",
       "      <td>42420.0</td>\n",
       "      <td>South</td>\n",
       "      <td>FUR-BO-10001798</td>\n",
       "      <td>Furniture</td>\n",
       "      <td>Bookcases</td>\n",
       "      <td>Bush Somerset Collection Bookcase</td>\n",
       "      <td>261.9600</td>\n",
       "    </tr>\n",
       "    <tr>\n",
       "      <th>1</th>\n",
       "      <td>2</td>\n",
       "      <td>CA-2017-152156</td>\n",
       "      <td>08/11/2017</td>\n",
       "      <td>11/11/2017</td>\n",
       "      <td>Second Class</td>\n",
       "      <td>CG-12520</td>\n",
       "      <td>Claire Gute</td>\n",
       "      <td>Consumer</td>\n",
       "      <td>United States</td>\n",
       "      <td>Henderson</td>\n",
       "      <td>Kentucky</td>\n",
       "      <td>42420.0</td>\n",
       "      <td>South</td>\n",
       "      <td>FUR-CH-10000454</td>\n",
       "      <td>Furniture</td>\n",
       "      <td>Chairs</td>\n",
       "      <td>Hon Deluxe Fabric Upholstered Stacking Chairs,...</td>\n",
       "      <td>731.9400</td>\n",
       "    </tr>\n",
       "    <tr>\n",
       "      <th>2</th>\n",
       "      <td>3</td>\n",
       "      <td>CA-2017-138688</td>\n",
       "      <td>12/06/2017</td>\n",
       "      <td>16/06/2017</td>\n",
       "      <td>Second Class</td>\n",
       "      <td>DV-13045</td>\n",
       "      <td>Darrin Van Huff</td>\n",
       "      <td>Corporate</td>\n",
       "      <td>United States</td>\n",
       "      <td>Los Angeles</td>\n",
       "      <td>California</td>\n",
       "      <td>90036.0</td>\n",
       "      <td>West</td>\n",
       "      <td>OFF-LA-10000240</td>\n",
       "      <td>Office Supplies</td>\n",
       "      <td>Labels</td>\n",
       "      <td>Self-Adhesive Address Labels for Typewriters b...</td>\n",
       "      <td>14.6200</td>\n",
       "    </tr>\n",
       "    <tr>\n",
       "      <th>3</th>\n",
       "      <td>4</td>\n",
       "      <td>US-2016-108966</td>\n",
       "      <td>11/10/2016</td>\n",
       "      <td>18/10/2016</td>\n",
       "      <td>Standard Class</td>\n",
       "      <td>SO-20335</td>\n",
       "      <td>Sean O'Donnell</td>\n",
       "      <td>Consumer</td>\n",
       "      <td>United States</td>\n",
       "      <td>Fort Lauderdale</td>\n",
       "      <td>Florida</td>\n",
       "      <td>33311.0</td>\n",
       "      <td>South</td>\n",
       "      <td>FUR-TA-10000577</td>\n",
       "      <td>Furniture</td>\n",
       "      <td>Tables</td>\n",
       "      <td>Bretford CR4500 Series Slim Rectangular Table</td>\n",
       "      <td>957.5775</td>\n",
       "    </tr>\n",
       "    <tr>\n",
       "      <th>4</th>\n",
       "      <td>5</td>\n",
       "      <td>US-2016-108966</td>\n",
       "      <td>11/10/2016</td>\n",
       "      <td>18/10/2016</td>\n",
       "      <td>Standard Class</td>\n",
       "      <td>SO-20335</td>\n",
       "      <td>Sean O'Donnell</td>\n",
       "      <td>Consumer</td>\n",
       "      <td>United States</td>\n",
       "      <td>Fort Lauderdale</td>\n",
       "      <td>Florida</td>\n",
       "      <td>33311.0</td>\n",
       "      <td>South</td>\n",
       "      <td>OFF-ST-10000760</td>\n",
       "      <td>Office Supplies</td>\n",
       "      <td>Storage</td>\n",
       "      <td>Eldon Fold 'N Roll Cart System</td>\n",
       "      <td>22.3680</td>\n",
       "    </tr>\n",
       "    <tr>\n",
       "      <th>5</th>\n",
       "      <td>6</td>\n",
       "      <td>CA-2015-115812</td>\n",
       "      <td>09/06/2015</td>\n",
       "      <td>14/06/2015</td>\n",
       "      <td>Standard Class</td>\n",
       "      <td>BH-11710</td>\n",
       "      <td>Brosina Hoffman</td>\n",
       "      <td>Consumer</td>\n",
       "      <td>United States</td>\n",
       "      <td>Los Angeles</td>\n",
       "      <td>California</td>\n",
       "      <td>90032.0</td>\n",
       "      <td>West</td>\n",
       "      <td>FUR-FU-10001487</td>\n",
       "      <td>Furniture</td>\n",
       "      <td>Furnishings</td>\n",
       "      <td>Eldon Expressions Wood and Plastic Desk Access...</td>\n",
       "      <td>48.8600</td>\n",
       "    </tr>\n",
       "    <tr>\n",
       "      <th>6</th>\n",
       "      <td>7</td>\n",
       "      <td>CA-2015-115812</td>\n",
       "      <td>09/06/2015</td>\n",
       "      <td>14/06/2015</td>\n",
       "      <td>Standard Class</td>\n",
       "      <td>BH-11710</td>\n",
       "      <td>Brosina Hoffman</td>\n",
       "      <td>Consumer</td>\n",
       "      <td>United States</td>\n",
       "      <td>Los Angeles</td>\n",
       "      <td>California</td>\n",
       "      <td>90032.0</td>\n",
       "      <td>West</td>\n",
       "      <td>OFF-AR-10002833</td>\n",
       "      <td>Office Supplies</td>\n",
       "      <td>Art</td>\n",
       "      <td>Newell 322</td>\n",
       "      <td>7.2800</td>\n",
       "    </tr>\n",
       "    <tr>\n",
       "      <th>7</th>\n",
       "      <td>8</td>\n",
       "      <td>CA-2015-115812</td>\n",
       "      <td>09/06/2015</td>\n",
       "      <td>14/06/2015</td>\n",
       "      <td>Standard Class</td>\n",
       "      <td>BH-11710</td>\n",
       "      <td>Brosina Hoffman</td>\n",
       "      <td>Consumer</td>\n",
       "      <td>United States</td>\n",
       "      <td>Los Angeles</td>\n",
       "      <td>California</td>\n",
       "      <td>90032.0</td>\n",
       "      <td>West</td>\n",
       "      <td>TEC-PH-10002275</td>\n",
       "      <td>Technology</td>\n",
       "      <td>Phones</td>\n",
       "      <td>Mitel 5320 IP Phone VoIP phone</td>\n",
       "      <td>907.1520</td>\n",
       "    </tr>\n",
       "    <tr>\n",
       "      <th>8</th>\n",
       "      <td>9</td>\n",
       "      <td>CA-2015-115812</td>\n",
       "      <td>09/06/2015</td>\n",
       "      <td>14/06/2015</td>\n",
       "      <td>Standard Class</td>\n",
       "      <td>BH-11710</td>\n",
       "      <td>Brosina Hoffman</td>\n",
       "      <td>Consumer</td>\n",
       "      <td>United States</td>\n",
       "      <td>Los Angeles</td>\n",
       "      <td>California</td>\n",
       "      <td>90032.0</td>\n",
       "      <td>West</td>\n",
       "      <td>OFF-BI-10003910</td>\n",
       "      <td>Office Supplies</td>\n",
       "      <td>Binders</td>\n",
       "      <td>DXL Angle-View Binders with Locking Rings by S...</td>\n",
       "      <td>18.5040</td>\n",
       "    </tr>\n",
       "    <tr>\n",
       "      <th>9</th>\n",
       "      <td>10</td>\n",
       "      <td>CA-2015-115812</td>\n",
       "      <td>09/06/2015</td>\n",
       "      <td>14/06/2015</td>\n",
       "      <td>Standard Class</td>\n",
       "      <td>BH-11710</td>\n",
       "      <td>Brosina Hoffman</td>\n",
       "      <td>Consumer</td>\n",
       "      <td>United States</td>\n",
       "      <td>Los Angeles</td>\n",
       "      <td>California</td>\n",
       "      <td>90032.0</td>\n",
       "      <td>West</td>\n",
       "      <td>OFF-AP-10002892</td>\n",
       "      <td>Office Supplies</td>\n",
       "      <td>Appliances</td>\n",
       "      <td>Belkin F5C206VTEL 6 Outlet Surge</td>\n",
       "      <td>114.9000</td>\n",
       "    </tr>\n",
       "  </tbody>\n",
       "</table>\n",
       "</div>"
      ],
      "text/plain": [
       "   Row ID        Order ID  Order Date   Ship Date       Ship Mode Customer ID  \\\n",
       "0       1  CA-2017-152156  08/11/2017  11/11/2017    Second Class    CG-12520   \n",
       "1       2  CA-2017-152156  08/11/2017  11/11/2017    Second Class    CG-12520   \n",
       "2       3  CA-2017-138688  12/06/2017  16/06/2017    Second Class    DV-13045   \n",
       "3       4  US-2016-108966  11/10/2016  18/10/2016  Standard Class    SO-20335   \n",
       "4       5  US-2016-108966  11/10/2016  18/10/2016  Standard Class    SO-20335   \n",
       "5       6  CA-2015-115812  09/06/2015  14/06/2015  Standard Class    BH-11710   \n",
       "6       7  CA-2015-115812  09/06/2015  14/06/2015  Standard Class    BH-11710   \n",
       "7       8  CA-2015-115812  09/06/2015  14/06/2015  Standard Class    BH-11710   \n",
       "8       9  CA-2015-115812  09/06/2015  14/06/2015  Standard Class    BH-11710   \n",
       "9      10  CA-2015-115812  09/06/2015  14/06/2015  Standard Class    BH-11710   \n",
       "\n",
       "     Customer Name    Segment        Country             City       State  \\\n",
       "0      Claire Gute   Consumer  United States        Henderson    Kentucky   \n",
       "1      Claire Gute   Consumer  United States        Henderson    Kentucky   \n",
       "2  Darrin Van Huff  Corporate  United States      Los Angeles  California   \n",
       "3   Sean O'Donnell   Consumer  United States  Fort Lauderdale     Florida   \n",
       "4   Sean O'Donnell   Consumer  United States  Fort Lauderdale     Florida   \n",
       "5  Brosina Hoffman   Consumer  United States      Los Angeles  California   \n",
       "6  Brosina Hoffman   Consumer  United States      Los Angeles  California   \n",
       "7  Brosina Hoffman   Consumer  United States      Los Angeles  California   \n",
       "8  Brosina Hoffman   Consumer  United States      Los Angeles  California   \n",
       "9  Brosina Hoffman   Consumer  United States      Los Angeles  California   \n",
       "\n",
       "   Postal Code Region       Product ID         Category Sub-Category  \\\n",
       "0      42420.0  South  FUR-BO-10001798        Furniture    Bookcases   \n",
       "1      42420.0  South  FUR-CH-10000454        Furniture       Chairs   \n",
       "2      90036.0   West  OFF-LA-10000240  Office Supplies       Labels   \n",
       "3      33311.0  South  FUR-TA-10000577        Furniture       Tables   \n",
       "4      33311.0  South  OFF-ST-10000760  Office Supplies      Storage   \n",
       "5      90032.0   West  FUR-FU-10001487        Furniture  Furnishings   \n",
       "6      90032.0   West  OFF-AR-10002833  Office Supplies          Art   \n",
       "7      90032.0   West  TEC-PH-10002275       Technology       Phones   \n",
       "8      90032.0   West  OFF-BI-10003910  Office Supplies      Binders   \n",
       "9      90032.0   West  OFF-AP-10002892  Office Supplies   Appliances   \n",
       "\n",
       "                                        Product Name     Sales  \n",
       "0                  Bush Somerset Collection Bookcase  261.9600  \n",
       "1  Hon Deluxe Fabric Upholstered Stacking Chairs,...  731.9400  \n",
       "2  Self-Adhesive Address Labels for Typewriters b...   14.6200  \n",
       "3      Bretford CR4500 Series Slim Rectangular Table  957.5775  \n",
       "4                     Eldon Fold 'N Roll Cart System   22.3680  \n",
       "5  Eldon Expressions Wood and Plastic Desk Access...   48.8600  \n",
       "6                                         Newell 322    7.2800  \n",
       "7                     Mitel 5320 IP Phone VoIP phone  907.1520  \n",
       "8  DXL Angle-View Binders with Locking Rings by S...   18.5040  \n",
       "9                   Belkin F5C206VTEL 6 Outlet Surge  114.9000  "
      ]
     },
     "execution_count": 3,
     "metadata": {},
     "output_type": "execute_result"
    }
   ],
   "source": [
    "df.head(10)"
   ]
  },
  {
   "cell_type": "markdown",
   "id": "bc19586d",
   "metadata": {},
   "source": [
    "Tampilkan list kolom di dataset:"
   ]
  },
  {
   "cell_type": "code",
   "execution_count": 4,
   "id": "dca4e7f1",
   "metadata": {},
   "outputs": [
    {
     "data": {
      "text/plain": [
       "Index(['Row ID', 'Order ID', 'Order Date', 'Ship Date', 'Ship Mode',\n",
       "       'Customer ID', 'Customer Name', 'Segment', 'Country', 'City', 'State',\n",
       "       'Postal Code', 'Region', 'Product ID', 'Category', 'Sub-Category',\n",
       "       'Product Name', 'Sales'],\n",
       "      dtype='object')"
      ]
     },
     "execution_count": 4,
     "metadata": {},
     "output_type": "execute_result"
    }
   ],
   "source": [
    "df.columns"
   ]
  },
  {
   "cell_type": "markdown",
   "id": "c14fe3c1",
   "metadata": {},
   "source": [
    "Cek Summary Data"
   ]
  },
  {
   "cell_type": "code",
   "execution_count": 5,
   "id": "3c11e191",
   "metadata": {},
   "outputs": [
    {
     "name": "stdout",
     "output_type": "stream",
     "text": [
      "<class 'pandas.core.frame.DataFrame'>\n",
      "RangeIndex: 9800 entries, 0 to 9799\n",
      "Data columns (total 18 columns):\n",
      " #   Column         Non-Null Count  Dtype  \n",
      "---  ------         --------------  -----  \n",
      " 0   Row ID         9800 non-null   int64  \n",
      " 1   Order ID       9800 non-null   object \n",
      " 2   Order Date     9800 non-null   object \n",
      " 3   Ship Date      9800 non-null   object \n",
      " 4   Ship Mode      9800 non-null   object \n",
      " 5   Customer ID    9800 non-null   object \n",
      " 6   Customer Name  9800 non-null   object \n",
      " 7   Segment        9800 non-null   object \n",
      " 8   Country        9800 non-null   object \n",
      " 9   City           9800 non-null   object \n",
      " 10  State          9800 non-null   object \n",
      " 11  Postal Code    9789 non-null   float64\n",
      " 12  Region         9800 non-null   object \n",
      " 13  Product ID     9800 non-null   object \n",
      " 14  Category       9800 non-null   object \n",
      " 15  Sub-Category   9800 non-null   object \n",
      " 16  Product Name   9800 non-null   object \n",
      " 17  Sales          9800 non-null   float64\n",
      "dtypes: float64(2), int64(1), object(15)\n",
      "memory usage: 1.3+ MB\n"
     ]
    }
   ],
   "source": [
    "df.info()"
   ]
  },
  {
   "cell_type": "markdown",
   "id": "4df95fbb",
   "metadata": {},
   "source": [
    "Dari preview summary data kotor, terdapat 11 null value pada kolom postal code, sehingga perlu ada sedikit pembersihan data pada kolom tersebut. Ditambah dengan format tipe data yang tidak sesuai pada kolom order date dan ship date dimana tipe datanya masih berupa objek."
   ]
  },
  {
   "cell_type": "markdown",
   "id": "c0dec226",
   "metadata": {},
   "source": [
    "# c. Pembersihan Data"
   ]
  },
  {
   "cell_type": "markdown",
   "id": "1330b555",
   "metadata": {},
   "source": [
    "Dalam proses pembersihan data, kegiatan yang terlibat adalah pengisian value untuk kode pos, pengubahan tipe data tanggal menggunakan format datetime, pembulatan angka penjualan, dan striping nama produk."
   ]
  },
  {
   "cell_type": "code",
   "execution_count": 6,
   "id": "debbeda0",
   "metadata": {},
   "outputs": [
    {
     "data": {
      "application/vnd.microsoft.datawrangler.viewer.v0+json": {
       "columns": [
        {
         "name": "index",
         "rawType": "int64",
         "type": "integer"
        },
        {
         "name": "Row ID",
         "rawType": "int64",
         "type": "integer"
        },
        {
         "name": "Order ID",
         "rawType": "object",
         "type": "string"
        },
        {
         "name": "Order Date",
         "rawType": "datetime64[ns]",
         "type": "datetime"
        },
        {
         "name": "Ship Date",
         "rawType": "datetime64[ns]",
         "type": "datetime"
        },
        {
         "name": "Ship Mode",
         "rawType": "object",
         "type": "string"
        },
        {
         "name": "Customer ID",
         "rawType": "object",
         "type": "string"
        },
        {
         "name": "Customer Name",
         "rawType": "object",
         "type": "string"
        },
        {
         "name": "Segment",
         "rawType": "object",
         "type": "string"
        },
        {
         "name": "Country",
         "rawType": "object",
         "type": "string"
        },
        {
         "name": "City",
         "rawType": "object",
         "type": "string"
        },
        {
         "name": "State",
         "rawType": "object",
         "type": "string"
        },
        {
         "name": "Postal Code",
         "rawType": "object",
         "type": "string"
        },
        {
         "name": "Region",
         "rawType": "object",
         "type": "string"
        },
        {
         "name": "Product ID",
         "rawType": "object",
         "type": "string"
        },
        {
         "name": "Category",
         "rawType": "object",
         "type": "string"
        },
        {
         "name": "Sub-Category",
         "rawType": "object",
         "type": "string"
        },
        {
         "name": "Product Name",
         "rawType": "object",
         "type": "string"
        },
        {
         "name": "Sales",
         "rawType": "float64",
         "type": "float"
        }
       ],
       "ref": "2f9b9ad7-71a8-4b75-b269-6cfe7566bc30",
       "rows": [
        [
         "0",
         "1",
         "CA-2017-152156",
         "2017-11-08 00:00:00",
         "2017-11-11 00:00:00",
         "Second Class",
         "CG-12520",
         "Claire Gute",
         "Consumer",
         "United States",
         "Henderson",
         "Kentucky",
         "42420.0",
         "South",
         "FUR-BO-10001798",
         "Furniture",
         "Bookcases",
         "Bush Somerset Collection Bookcase",
         "261.96"
        ],
        [
         "1",
         "2",
         "CA-2017-152156",
         "2017-11-08 00:00:00",
         "2017-11-11 00:00:00",
         "Second Class",
         "CG-12520",
         "Claire Gute",
         "Consumer",
         "United States",
         "Henderson",
         "Kentucky",
         "42420.0",
         "South",
         "FUR-CH-10000454",
         "Furniture",
         "Chairs",
         "Hon Deluxe Fabric Upholstered Stacking Chairs, Rounded Back",
         "731.94"
        ],
        [
         "2",
         "3",
         "CA-2017-138688",
         "2017-06-12 00:00:00",
         "2017-06-16 00:00:00",
         "Second Class",
         "DV-13045",
         "Darrin Van Huff",
         "Corporate",
         "United States",
         "Los Angeles",
         "California",
         "90036.0",
         "West",
         "OFF-LA-10000240",
         "Office Supplies",
         "Labels",
         "Self-Adhesive Address Labels for Typewriters by Universal",
         "14.62"
        ],
        [
         "3",
         "4",
         "US-2016-108966",
         "2016-10-11 00:00:00",
         "2016-10-18 00:00:00",
         "Standard Class",
         "SO-20335",
         "Sean O'Donnell",
         "Consumer",
         "United States",
         "Fort Lauderdale",
         "Florida",
         "33311.0",
         "South",
         "FUR-TA-10000577",
         "Furniture",
         "Tables",
         "Bretford CR4500 Series Slim Rectangular Table",
         "957.58"
        ],
        [
         "4",
         "5",
         "US-2016-108966",
         "2016-10-11 00:00:00",
         "2016-10-18 00:00:00",
         "Standard Class",
         "SO-20335",
         "Sean O'Donnell",
         "Consumer",
         "United States",
         "Fort Lauderdale",
         "Florida",
         "33311.0",
         "South",
         "OFF-ST-10000760",
         "Office Supplies",
         "Storage",
         "Eldon Fold 'N Roll Cart System",
         "22.37"
        ],
        [
         "5",
         "6",
         "CA-2015-115812",
         "2015-06-09 00:00:00",
         "2015-06-14 00:00:00",
         "Standard Class",
         "BH-11710",
         "Brosina Hoffman",
         "Consumer",
         "United States",
         "Los Angeles",
         "California",
         "90032.0",
         "West",
         "FUR-FU-10001487",
         "Furniture",
         "Furnishings",
         "Eldon Expressions Wood and Plastic Desk Accessories, Cherry Wood",
         "48.86"
        ],
        [
         "6",
         "7",
         "CA-2015-115812",
         "2015-06-09 00:00:00",
         "2015-06-14 00:00:00",
         "Standard Class",
         "BH-11710",
         "Brosina Hoffman",
         "Consumer",
         "United States",
         "Los Angeles",
         "California",
         "90032.0",
         "West",
         "OFF-AR-10002833",
         "Office Supplies",
         "Art",
         "Newell 322",
         "7.28"
        ],
        [
         "7",
         "8",
         "CA-2015-115812",
         "2015-06-09 00:00:00",
         "2015-06-14 00:00:00",
         "Standard Class",
         "BH-11710",
         "Brosina Hoffman",
         "Consumer",
         "United States",
         "Los Angeles",
         "California",
         "90032.0",
         "West",
         "TEC-PH-10002275",
         "Technology",
         "Phones",
         "Mitel 5320 IP Phone VoIP phone",
         "907.15"
        ],
        [
         "8",
         "9",
         "CA-2015-115812",
         "2015-06-09 00:00:00",
         "2015-06-14 00:00:00",
         "Standard Class",
         "BH-11710",
         "Brosina Hoffman",
         "Consumer",
         "United States",
         "Los Angeles",
         "California",
         "90032.0",
         "West",
         "OFF-BI-10003910",
         "Office Supplies",
         "Binders",
         "DXL Angle-View Binders with Locking Rings by Samsill",
         "18.5"
        ],
        [
         "9",
         "10",
         "CA-2015-115812",
         "2015-06-09 00:00:00",
         "2015-06-14 00:00:00",
         "Standard Class",
         "BH-11710",
         "Brosina Hoffman",
         "Consumer",
         "United States",
         "Los Angeles",
         "California",
         "90032.0",
         "West",
         "OFF-AP-10002892",
         "Office Supplies",
         "Appliances",
         "Belkin F5C206VTEL 6 Outlet Surge",
         "114.9"
        ],
        [
         "10",
         "11",
         "CA-2015-115812",
         "2015-06-09 00:00:00",
         "2015-06-14 00:00:00",
         "Standard Class",
         "BH-11710",
         "Brosina Hoffman",
         "Consumer",
         "United States",
         "Los Angeles",
         "California",
         "90032.0",
         "West",
         "FUR-TA-10001539",
         "Furniture",
         "Tables",
         "Chromcraft Rectangular Conference Tables",
         "1706.18"
        ],
        [
         "11",
         "12",
         "CA-2015-115812",
         "2015-06-09 00:00:00",
         "2015-06-14 00:00:00",
         "Standard Class",
         "BH-11710",
         "Brosina Hoffman",
         "Consumer",
         "United States",
         "Los Angeles",
         "California",
         "90032.0",
         "West",
         "TEC-PH-10002033",
         "Technology",
         "Phones",
         "Konftel 250 Conference phone - Charcoal black",
         "911.42"
        ],
        [
         "12",
         "13",
         "CA-2018-114412",
         "2018-04-15 00:00:00",
         "2018-04-20 00:00:00",
         "Standard Class",
         "AA-10480",
         "Andrew Allen",
         "Consumer",
         "United States",
         "Concord",
         "North Carolina",
         "28027.0",
         "South",
         "OFF-PA-10002365",
         "Office Supplies",
         "Paper",
         "Xerox 1967",
         "15.55"
        ],
        [
         "13",
         "14",
         "CA-2017-161389",
         "2017-12-05 00:00:00",
         "2017-12-10 00:00:00",
         "Standard Class",
         "IM-15070",
         "Irene Maddox",
         "Consumer",
         "United States",
         "Seattle",
         "Washington",
         "98103.0",
         "West",
         "OFF-BI-10003656",
         "Office Supplies",
         "Binders",
         "Fellowes PB200 Plastic Comb Binding Machine",
         "407.98"
        ],
        [
         "14",
         "15",
         "US-2016-118983",
         "2016-11-22 00:00:00",
         "2016-11-26 00:00:00",
         "Standard Class",
         "HP-14815",
         "Harold Pawlan",
         "Home Office",
         "United States",
         "Fort Worth",
         "Texas",
         "76106.0",
         "Central",
         "OFF-AP-10002311",
         "Office Supplies",
         "Appliances",
         "Holmes Replacement Filter for HEPA Air Cleaner, Very Large Room, HEPA Filter",
         "68.81"
        ],
        [
         "15",
         "16",
         "US-2016-118983",
         "2016-11-22 00:00:00",
         "2016-11-26 00:00:00",
         "Standard Class",
         "HP-14815",
         "Harold Pawlan",
         "Home Office",
         "United States",
         "Fort Worth",
         "Texas",
         "76106.0",
         "Central",
         "OFF-BI-10000756",
         "Office Supplies",
         "Binders",
         "Storex DuraTech Recycled Plastic Frosted Binders",
         "2.54"
        ],
        [
         "16",
         "17",
         "CA-2015-105893",
         "2015-11-11 00:00:00",
         "2015-11-18 00:00:00",
         "Standard Class",
         "PK-19075",
         "Pete Kriz",
         "Consumer",
         "United States",
         "Madison",
         "Wisconsin",
         "53711.0",
         "Central",
         "OFF-ST-10004186",
         "Office Supplies",
         "Storage",
         "Stur-D-Stor Shelving, Vertical 5-Shelf: 72\"H x 36\"W x 18 1/2\"D",
         "665.88"
        ],
        [
         "17",
         "18",
         "CA-2015-167164",
         "2015-05-13 00:00:00",
         "2015-05-15 00:00:00",
         "Second Class",
         "AG-10270",
         "Alejandro Grove",
         "Consumer",
         "United States",
         "West Jordan",
         "Utah",
         "84084.0",
         "West",
         "OFF-ST-10000107",
         "Office Supplies",
         "Storage",
         "Fellowes Super Stor/Drawer",
         "55.5"
        ],
        [
         "18",
         "19",
         "CA-2015-143336",
         "2015-08-27 00:00:00",
         "2015-09-01 00:00:00",
         "Second Class",
         "ZD-21925",
         "Zuschuss Donatelli",
         "Consumer",
         "United States",
         "San Francisco",
         "California",
         "94109.0",
         "West",
         "OFF-AR-10003056",
         "Office Supplies",
         "Art",
         "Newell 341",
         "8.56"
        ],
        [
         "19",
         "20",
         "CA-2015-143336",
         "2015-08-27 00:00:00",
         "2015-09-01 00:00:00",
         "Second Class",
         "ZD-21925",
         "Zuschuss Donatelli",
         "Consumer",
         "United States",
         "San Francisco",
         "California",
         "94109.0",
         "West",
         "TEC-PH-10001949",
         "Technology",
         "Phones",
         "Cisco SPA 501G IP Phone",
         "213.48"
        ],
        [
         "20",
         "21",
         "CA-2015-143336",
         "2015-08-27 00:00:00",
         "2015-09-01 00:00:00",
         "Second Class",
         "ZD-21925",
         "Zuschuss Donatelli",
         "Consumer",
         "United States",
         "San Francisco",
         "California",
         "94109.0",
         "West",
         "OFF-BI-10002215",
         "Office Supplies",
         "Binders",
         "Wilson Jones Hanging View Binder, White, 1\"",
         "22.72"
        ],
        [
         "21",
         "22",
         "CA-2017-137330",
         "2017-12-09 00:00:00",
         "2017-12-13 00:00:00",
         "Standard Class",
         "KB-16585",
         "Ken Black",
         "Corporate",
         "United States",
         "Fremont",
         "Nebraska",
         "68025.0",
         "Central",
         "OFF-AR-10000246",
         "Office Supplies",
         "Art",
         "Newell 318",
         "19.46"
        ],
        [
         "22",
         "23",
         "CA-2017-137330",
         "2017-12-09 00:00:00",
         "2017-12-13 00:00:00",
         "Standard Class",
         "KB-16585",
         "Ken Black",
         "Corporate",
         "United States",
         "Fremont",
         "Nebraska",
         "68025.0",
         "Central",
         "OFF-AP-10001492",
         "Office Supplies",
         "Appliances",
         "Acco Six-Outlet Power Strip, 4' Cord Length",
         "60.34"
        ],
        [
         "23",
         "24",
         "US-2018-156909",
         "2018-07-16 00:00:00",
         "2018-07-18 00:00:00",
         "Second Class",
         "SF-20065",
         "Sandra Flanagan",
         "Consumer",
         "United States",
         "Philadelphia",
         "Pennsylvania",
         "19140.0",
         "East",
         "FUR-CH-10002774",
         "Furniture",
         "Chairs",
         "Global Deluxe Stacking Chair, Gray",
         "71.37"
        ],
        [
         "24",
         "25",
         "CA-2016-106320",
         "2016-09-25 00:00:00",
         "2016-09-30 00:00:00",
         "Standard Class",
         "EB-13870",
         "Emily Burns",
         "Consumer",
         "United States",
         "Orem",
         "Utah",
         "84057.0",
         "West",
         "FUR-TA-10000577",
         "Furniture",
         "Tables",
         "Bretford CR4500 Series Slim Rectangular Table",
         "1044.63"
        ],
        [
         "25",
         "26",
         "CA-2017-121755",
         "2017-01-16 00:00:00",
         "2017-01-20 00:00:00",
         "Second Class",
         "EH-13945",
         "Eric Hoffmann",
         "Consumer",
         "United States",
         "Los Angeles",
         "California",
         "90049.0",
         "West",
         "OFF-BI-10001634",
         "Office Supplies",
         "Binders",
         "Wilson Jones Active Use Binders",
         "11.65"
        ],
        [
         "26",
         "27",
         "CA-2017-121755",
         "2017-01-16 00:00:00",
         "2017-01-20 00:00:00",
         "Second Class",
         "EH-13945",
         "Eric Hoffmann",
         "Consumer",
         "United States",
         "Los Angeles",
         "California",
         "90049.0",
         "West",
         "TEC-AC-10003027",
         "Technology",
         "Accessories",
         "Imation 8GB Mini TravelDrive USB 2.0 Flash Drive",
         "90.57"
        ],
        [
         "27",
         "28",
         "US-2016-150630",
         "2016-09-17 00:00:00",
         "2016-09-21 00:00:00",
         "Standard Class",
         "TB-21520",
         "Tracy Blumstein",
         "Consumer",
         "United States",
         "Philadelphia",
         "Pennsylvania",
         "19140.0",
         "East",
         "FUR-BO-10004834",
         "Furniture",
         "Bookcases",
         "Riverside Palais Royal Lawyers Bookcase, Royale Cherry Finish",
         "3083.43"
        ],
        [
         "28",
         "29",
         "US-2016-150630",
         "2016-09-17 00:00:00",
         "2016-09-21 00:00:00",
         "Standard Class",
         "TB-21520",
         "Tracy Blumstein",
         "Consumer",
         "United States",
         "Philadelphia",
         "Pennsylvania",
         "19140.0",
         "East",
         "OFF-BI-10000474",
         "Office Supplies",
         "Binders",
         "Avery Recycled Flexi-View Covers for Binding Systems",
         "9.62"
        ],
        [
         "29",
         "30",
         "US-2016-150630",
         "2016-09-17 00:00:00",
         "2016-09-21 00:00:00",
         "Standard Class",
         "TB-21520",
         "Tracy Blumstein",
         "Consumer",
         "United States",
         "Philadelphia",
         "Pennsylvania",
         "19140.0",
         "East",
         "FUR-FU-10004848",
         "Furniture",
         "Furnishings",
         "Howard Miller 13-3/4\" Diameter Brushed Chrome Round Wall Clock",
         "124.2"
        ],
        [
         "30",
         "31",
         "US-2016-150630",
         "2016-09-17 00:00:00",
         "2016-09-21 00:00:00",
         "Standard Class",
         "TB-21520",
         "Tracy Blumstein",
         "Consumer",
         "United States",
         "Philadelphia",
         "Pennsylvania",
         "19140.0",
         "East",
         "OFF-EN-10001509",
         "Office Supplies",
         "Envelopes",
         "Poly String Tie Envelopes",
         "3.26"
        ],
        [
         "31",
         "32",
         "US-2016-150630",
         "2016-09-17 00:00:00",
         "2016-09-21 00:00:00",
         "Standard Class",
         "TB-21520",
         "Tracy Blumstein",
         "Consumer",
         "United States",
         "Philadelphia",
         "Pennsylvania",
         "19140.0",
         "East",
         "OFF-AR-10004042",
         "Office Supplies",
         "Art",
         "BOSTON Model 1800 Electric Pencil Sharpeners, Putty/Woodgrain",
         "86.3"
        ],
        [
         "32",
         "33",
         "US-2016-150630",
         "2016-09-17 00:00:00",
         "2016-09-21 00:00:00",
         "Standard Class",
         "TB-21520",
         "Tracy Blumstein",
         "Consumer",
         "United States",
         "Philadelphia",
         "Pennsylvania",
         "19140.0",
         "East",
         "OFF-BI-10001525",
         "Office Supplies",
         "Binders",
         "Acco Pressboard Covers with Storage Hooks, 14 7/8\" x 11\", Executive Red",
         "6.86"
        ],
        [
         "33",
         "34",
         "US-2016-150630",
         "2016-09-17 00:00:00",
         "2016-09-21 00:00:00",
         "Standard Class",
         "TB-21520",
         "Tracy Blumstein",
         "Consumer",
         "United States",
         "Philadelphia",
         "Pennsylvania",
         "19140.0",
         "East",
         "OFF-AR-10001683",
         "Office Supplies",
         "Art",
         "Lumber Crayons",
         "15.76"
        ],
        [
         "34",
         "35",
         "CA-2018-107727",
         "2018-10-19 00:00:00",
         "2018-10-23 00:00:00",
         "Second Class",
         "MA-17560",
         "Matt Abelman",
         "Home Office",
         "United States",
         "Houston",
         "Texas",
         "77095.0",
         "Central",
         "OFF-PA-10000249",
         "Office Supplies",
         "Paper",
         "Easy-staple paper",
         "29.47"
        ],
        [
         "35",
         "36",
         "CA-2017-117590",
         "2017-12-08 00:00:00",
         "2017-12-10 00:00:00",
         "First Class",
         "GH-14485",
         "Gene Hale",
         "Corporate",
         "United States",
         "Richardson",
         "Texas",
         "75080.0",
         "Central",
         "TEC-PH-10004977",
         "Technology",
         "Phones",
         "GE 30524EE4",
         "1097.54"
        ],
        [
         "36",
         "37",
         "CA-2017-117590",
         "2017-12-08 00:00:00",
         "2017-12-10 00:00:00",
         "First Class",
         "GH-14485",
         "Gene Hale",
         "Corporate",
         "United States",
         "Richardson",
         "Texas",
         "75080.0",
         "Central",
         "FUR-FU-10003664",
         "Furniture",
         "Furnishings",
         "Electrix Architect's Clamp-On Swing Arm Lamp, Black",
         "190.92"
        ],
        [
         "37",
         "38",
         "CA-2016-117415",
         "2016-12-27 00:00:00",
         "2016-12-31 00:00:00",
         "Standard Class",
         "SN-20710",
         "Steve Nguyen",
         "Home Office",
         "United States",
         "Houston",
         "Texas",
         "77041.0",
         "Central",
         "OFF-EN-10002986",
         "Office Supplies",
         "Envelopes",
         "#10-4 1/8\" x 9 1/2\" Premium Diagonal Seam Envelopes",
         "113.33"
        ],
        [
         "38",
         "39",
         "CA-2016-117415",
         "2016-12-27 00:00:00",
         "2016-12-31 00:00:00",
         "Standard Class",
         "SN-20710",
         "Steve Nguyen",
         "Home Office",
         "United States",
         "Houston",
         "Texas",
         "77041.0",
         "Central",
         "FUR-BO-10002545",
         "Furniture",
         "Bookcases",
         "Atlantic Metals Mobile 3-Shelf Bookcases, Custom Colors",
         "532.4"
        ],
        [
         "39",
         "40",
         "CA-2016-117415",
         "2016-12-27 00:00:00",
         "2016-12-31 00:00:00",
         "Standard Class",
         "SN-20710",
         "Steve Nguyen",
         "Home Office",
         "United States",
         "Houston",
         "Texas",
         "77041.0",
         "Central",
         "FUR-CH-10004218",
         "Furniture",
         "Chairs",
         "Global Fabric Manager's Chair, Dark Gray",
         "212.06"
        ],
        [
         "40",
         "41",
         "CA-2016-117415",
         "2016-12-27 00:00:00",
         "2016-12-31 00:00:00",
         "Standard Class",
         "SN-20710",
         "Steve Nguyen",
         "Home Office",
         "United States",
         "Houston",
         "Texas",
         "77041.0",
         "Central",
         "TEC-PH-10000486",
         "Technology",
         "Phones",
         "Plantronics HL10 Handset Lifter",
         "371.17"
        ],
        [
         "41",
         "42",
         "CA-2018-120999",
         "2018-09-10 00:00:00",
         "2018-09-15 00:00:00",
         "Standard Class",
         "LC-16930",
         "Linda Cazamias",
         "Corporate",
         "United States",
         "Naperville",
         "Illinois",
         "60540.0",
         "Central",
         "TEC-PH-10004093",
         "Technology",
         "Phones",
         "Panasonic Kx-TS550",
         "147.17"
        ],
        [
         "42",
         "43",
         "CA-2017-101343",
         "2017-07-17 00:00:00",
         "2017-07-22 00:00:00",
         "Standard Class",
         "RA-19885",
         "Ruben Ausman",
         "Corporate",
         "United States",
         "Los Angeles",
         "California",
         "90049.0",
         "West",
         "OFF-ST-10003479",
         "Office Supplies",
         "Storage",
         "Eldon Base for stackable storage shelf, platinum",
         "77.88"
        ],
        [
         "43",
         "44",
         "CA-2018-139619",
         "2018-09-19 00:00:00",
         "2018-09-23 00:00:00",
         "Standard Class",
         "ES-14080",
         "Erin Smith",
         "Corporate",
         "United States",
         "Melbourne",
         "Florida",
         "32935.0",
         "South",
         "OFF-ST-10003282",
         "Office Supplies",
         "Storage",
         "Advantus 10-Drawer Portable Organizer, Chrome Metal Frame, Smoke Drawers",
         "95.62"
        ],
        [
         "44",
         "45",
         "CA-2017-118255",
         "2017-03-11 00:00:00",
         "2017-03-13 00:00:00",
         "First Class",
         "ON-18715",
         "Odella Nelson",
         "Corporate",
         "United States",
         "Eagan",
         "Minnesota",
         "55122.0",
         "Central",
         "TEC-AC-10000171",
         "Technology",
         "Accessories",
         "Verbatim 25 GB 6x Blu-ray Single Layer Recordable Disc, 25/Pack",
         "45.98"
        ],
        [
         "45",
         "46",
         "CA-2017-118255",
         "2017-03-11 00:00:00",
         "2017-03-13 00:00:00",
         "First Class",
         "ON-18715",
         "Odella Nelson",
         "Corporate",
         "United States",
         "Eagan",
         "Minnesota",
         "55122.0",
         "Central",
         "OFF-BI-10003291",
         "Office Supplies",
         "Binders",
         "Wilson Jones Leather-Like Binders with DublLock Round Rings",
         "17.46"
        ],
        [
         "46",
         "47",
         "CA-2015-146703",
         "2015-10-20 00:00:00",
         "2015-10-25 00:00:00",
         "Second Class",
         "PO-18865",
         "Patrick O'Donnell",
         "Consumer",
         "United States",
         "Westland",
         "Michigan",
         "48185.0",
         "Central",
         "OFF-ST-10001713",
         "Office Supplies",
         "Storage",
         "Gould Plastics 9-Pocket Panel Bin, 18-3/8w x 5-1/4d x 20-1/2h, Black",
         "211.96"
        ],
        [
         "47",
         "48",
         "CA-2017-169194",
         "2017-06-20 00:00:00",
         "2017-06-25 00:00:00",
         "Standard Class",
         "LH-16900",
         "Lena Hernandez",
         "Consumer",
         "United States",
         "Dover",
         "Delaware",
         "19901.0",
         "East",
         "TEC-AC-10002167",
         "Technology",
         "Accessories",
         "Imation 8gb Micro Traveldrive Usb 2.0 Flash Drive",
         "45.0"
        ],
        [
         "48",
         "49",
         "CA-2017-169194",
         "2017-06-20 00:00:00",
         "2017-06-25 00:00:00",
         "Standard Class",
         "LH-16900",
         "Lena Hernandez",
         "Consumer",
         "United States",
         "Dover",
         "Delaware",
         "19901.0",
         "East",
         "TEC-PH-10003988",
         "Technology",
         "Phones",
         "LF Elite 3D Dazzle Designer Hard Case Cover, Lf Stylus Pen and Wiper For Apple Iphone 5c Mini Lite",
         "21.8"
        ],
        [
         "49",
         "50",
         "CA-2016-115742",
         "2016-04-18 00:00:00",
         "2016-04-22 00:00:00",
         "Standard Class",
         "DP-13000",
         "Darren Powers",
         "Consumer",
         "United States",
         "New Albany",
         "Indiana",
         "47150.0",
         "Central",
         "OFF-BI-10004410",
         "Office Supplies",
         "Binders",
         "C-Line Peel & Stick Add-On Filing Pockets, 8-3/4 x 5-1/8, 10/Pack",
         "38.22"
        ]
       ],
       "shape": {
        "columns": 18,
        "rows": 9800
       }
      },
      "text/html": [
       "<div>\n",
       "<style scoped>\n",
       "    .dataframe tbody tr th:only-of-type {\n",
       "        vertical-align: middle;\n",
       "    }\n",
       "\n",
       "    .dataframe tbody tr th {\n",
       "        vertical-align: top;\n",
       "    }\n",
       "\n",
       "    .dataframe thead th {\n",
       "        text-align: right;\n",
       "    }\n",
       "</style>\n",
       "<table border=\"1\" class=\"dataframe\">\n",
       "  <thead>\n",
       "    <tr style=\"text-align: right;\">\n",
       "      <th></th>\n",
       "      <th>Row ID</th>\n",
       "      <th>Order ID</th>\n",
       "      <th>Order Date</th>\n",
       "      <th>Ship Date</th>\n",
       "      <th>Ship Mode</th>\n",
       "      <th>Customer ID</th>\n",
       "      <th>Customer Name</th>\n",
       "      <th>Segment</th>\n",
       "      <th>Country</th>\n",
       "      <th>City</th>\n",
       "      <th>State</th>\n",
       "      <th>Postal Code</th>\n",
       "      <th>Region</th>\n",
       "      <th>Product ID</th>\n",
       "      <th>Category</th>\n",
       "      <th>Sub-Category</th>\n",
       "      <th>Product Name</th>\n",
       "      <th>Sales</th>\n",
       "    </tr>\n",
       "  </thead>\n",
       "  <tbody>\n",
       "    <tr>\n",
       "      <th>0</th>\n",
       "      <td>1</td>\n",
       "      <td>CA-2017-152156</td>\n",
       "      <td>2017-11-08</td>\n",
       "      <td>2017-11-11</td>\n",
       "      <td>Second Class</td>\n",
       "      <td>CG-12520</td>\n",
       "      <td>Claire Gute</td>\n",
       "      <td>Consumer</td>\n",
       "      <td>United States</td>\n",
       "      <td>Henderson</td>\n",
       "      <td>Kentucky</td>\n",
       "      <td>42420.0</td>\n",
       "      <td>South</td>\n",
       "      <td>FUR-BO-10001798</td>\n",
       "      <td>Furniture</td>\n",
       "      <td>Bookcases</td>\n",
       "      <td>Bush Somerset Collection Bookcase</td>\n",
       "      <td>261.96</td>\n",
       "    </tr>\n",
       "    <tr>\n",
       "      <th>1</th>\n",
       "      <td>2</td>\n",
       "      <td>CA-2017-152156</td>\n",
       "      <td>2017-11-08</td>\n",
       "      <td>2017-11-11</td>\n",
       "      <td>Second Class</td>\n",
       "      <td>CG-12520</td>\n",
       "      <td>Claire Gute</td>\n",
       "      <td>Consumer</td>\n",
       "      <td>United States</td>\n",
       "      <td>Henderson</td>\n",
       "      <td>Kentucky</td>\n",
       "      <td>42420.0</td>\n",
       "      <td>South</td>\n",
       "      <td>FUR-CH-10000454</td>\n",
       "      <td>Furniture</td>\n",
       "      <td>Chairs</td>\n",
       "      <td>Hon Deluxe Fabric Upholstered Stacking Chairs,...</td>\n",
       "      <td>731.94</td>\n",
       "    </tr>\n",
       "    <tr>\n",
       "      <th>2</th>\n",
       "      <td>3</td>\n",
       "      <td>CA-2017-138688</td>\n",
       "      <td>2017-06-12</td>\n",
       "      <td>2017-06-16</td>\n",
       "      <td>Second Class</td>\n",
       "      <td>DV-13045</td>\n",
       "      <td>Darrin Van Huff</td>\n",
       "      <td>Corporate</td>\n",
       "      <td>United States</td>\n",
       "      <td>Los Angeles</td>\n",
       "      <td>California</td>\n",
       "      <td>90036.0</td>\n",
       "      <td>West</td>\n",
       "      <td>OFF-LA-10000240</td>\n",
       "      <td>Office Supplies</td>\n",
       "      <td>Labels</td>\n",
       "      <td>Self-Adhesive Address Labels for Typewriters b...</td>\n",
       "      <td>14.62</td>\n",
       "    </tr>\n",
       "    <tr>\n",
       "      <th>3</th>\n",
       "      <td>4</td>\n",
       "      <td>US-2016-108966</td>\n",
       "      <td>2016-10-11</td>\n",
       "      <td>2016-10-18</td>\n",
       "      <td>Standard Class</td>\n",
       "      <td>SO-20335</td>\n",
       "      <td>Sean O'Donnell</td>\n",
       "      <td>Consumer</td>\n",
       "      <td>United States</td>\n",
       "      <td>Fort Lauderdale</td>\n",
       "      <td>Florida</td>\n",
       "      <td>33311.0</td>\n",
       "      <td>South</td>\n",
       "      <td>FUR-TA-10000577</td>\n",
       "      <td>Furniture</td>\n",
       "      <td>Tables</td>\n",
       "      <td>Bretford CR4500 Series Slim Rectangular Table</td>\n",
       "      <td>957.58</td>\n",
       "    </tr>\n",
       "    <tr>\n",
       "      <th>4</th>\n",
       "      <td>5</td>\n",
       "      <td>US-2016-108966</td>\n",
       "      <td>2016-10-11</td>\n",
       "      <td>2016-10-18</td>\n",
       "      <td>Standard Class</td>\n",
       "      <td>SO-20335</td>\n",
       "      <td>Sean O'Donnell</td>\n",
       "      <td>Consumer</td>\n",
       "      <td>United States</td>\n",
       "      <td>Fort Lauderdale</td>\n",
       "      <td>Florida</td>\n",
       "      <td>33311.0</td>\n",
       "      <td>South</td>\n",
       "      <td>OFF-ST-10000760</td>\n",
       "      <td>Office Supplies</td>\n",
       "      <td>Storage</td>\n",
       "      <td>Eldon Fold 'N Roll Cart System</td>\n",
       "      <td>22.37</td>\n",
       "    </tr>\n",
       "    <tr>\n",
       "      <th>...</th>\n",
       "      <td>...</td>\n",
       "      <td>...</td>\n",
       "      <td>...</td>\n",
       "      <td>...</td>\n",
       "      <td>...</td>\n",
       "      <td>...</td>\n",
       "      <td>...</td>\n",
       "      <td>...</td>\n",
       "      <td>...</td>\n",
       "      <td>...</td>\n",
       "      <td>...</td>\n",
       "      <td>...</td>\n",
       "      <td>...</td>\n",
       "      <td>...</td>\n",
       "      <td>...</td>\n",
       "      <td>...</td>\n",
       "      <td>...</td>\n",
       "      <td>...</td>\n",
       "    </tr>\n",
       "    <tr>\n",
       "      <th>9795</th>\n",
       "      <td>9796</td>\n",
       "      <td>CA-2017-125920</td>\n",
       "      <td>2017-05-21</td>\n",
       "      <td>2017-05-28</td>\n",
       "      <td>Standard Class</td>\n",
       "      <td>SH-19975</td>\n",
       "      <td>Sally Hughsby</td>\n",
       "      <td>Corporate</td>\n",
       "      <td>United States</td>\n",
       "      <td>Chicago</td>\n",
       "      <td>Illinois</td>\n",
       "      <td>60610.0</td>\n",
       "      <td>Central</td>\n",
       "      <td>OFF-BI-10003429</td>\n",
       "      <td>Office Supplies</td>\n",
       "      <td>Binders</td>\n",
       "      <td>Cardinal HOLDit! Binder Insert Strips,Extra St...</td>\n",
       "      <td>3.80</td>\n",
       "    </tr>\n",
       "    <tr>\n",
       "      <th>9796</th>\n",
       "      <td>9797</td>\n",
       "      <td>CA-2016-128608</td>\n",
       "      <td>2016-01-12</td>\n",
       "      <td>2016-01-17</td>\n",
       "      <td>Standard Class</td>\n",
       "      <td>CS-12490</td>\n",
       "      <td>Cindy Schnelling</td>\n",
       "      <td>Corporate</td>\n",
       "      <td>United States</td>\n",
       "      <td>Toledo</td>\n",
       "      <td>Ohio</td>\n",
       "      <td>43615.0</td>\n",
       "      <td>East</td>\n",
       "      <td>OFF-AR-10001374</td>\n",
       "      <td>Office Supplies</td>\n",
       "      <td>Art</td>\n",
       "      <td>BIC Brite Liner Highlighters, Chisel Tip</td>\n",
       "      <td>10.37</td>\n",
       "    </tr>\n",
       "    <tr>\n",
       "      <th>9797</th>\n",
       "      <td>9798</td>\n",
       "      <td>CA-2016-128608</td>\n",
       "      <td>2016-01-12</td>\n",
       "      <td>2016-01-17</td>\n",
       "      <td>Standard Class</td>\n",
       "      <td>CS-12490</td>\n",
       "      <td>Cindy Schnelling</td>\n",
       "      <td>Corporate</td>\n",
       "      <td>United States</td>\n",
       "      <td>Toledo</td>\n",
       "      <td>Ohio</td>\n",
       "      <td>43615.0</td>\n",
       "      <td>East</td>\n",
       "      <td>TEC-PH-10004977</td>\n",
       "      <td>Technology</td>\n",
       "      <td>Phones</td>\n",
       "      <td>GE 30524EE4</td>\n",
       "      <td>235.19</td>\n",
       "    </tr>\n",
       "    <tr>\n",
       "      <th>9798</th>\n",
       "      <td>9799</td>\n",
       "      <td>CA-2016-128608</td>\n",
       "      <td>2016-01-12</td>\n",
       "      <td>2016-01-17</td>\n",
       "      <td>Standard Class</td>\n",
       "      <td>CS-12490</td>\n",
       "      <td>Cindy Schnelling</td>\n",
       "      <td>Corporate</td>\n",
       "      <td>United States</td>\n",
       "      <td>Toledo</td>\n",
       "      <td>Ohio</td>\n",
       "      <td>43615.0</td>\n",
       "      <td>East</td>\n",
       "      <td>TEC-PH-10000912</td>\n",
       "      <td>Technology</td>\n",
       "      <td>Phones</td>\n",
       "      <td>Anker 24W Portable Micro USB Car Charger</td>\n",
       "      <td>26.38</td>\n",
       "    </tr>\n",
       "    <tr>\n",
       "      <th>9799</th>\n",
       "      <td>9800</td>\n",
       "      <td>CA-2016-128608</td>\n",
       "      <td>2016-01-12</td>\n",
       "      <td>2016-01-17</td>\n",
       "      <td>Standard Class</td>\n",
       "      <td>CS-12490</td>\n",
       "      <td>Cindy Schnelling</td>\n",
       "      <td>Corporate</td>\n",
       "      <td>United States</td>\n",
       "      <td>Toledo</td>\n",
       "      <td>Ohio</td>\n",
       "      <td>43615.0</td>\n",
       "      <td>East</td>\n",
       "      <td>TEC-AC-10000487</td>\n",
       "      <td>Technology</td>\n",
       "      <td>Accessories</td>\n",
       "      <td>SanDisk Cruzer 4 GB USB Flash Drive</td>\n",
       "      <td>10.38</td>\n",
       "    </tr>\n",
       "  </tbody>\n",
       "</table>\n",
       "<p>9800 rows × 18 columns</p>\n",
       "</div>"
      ],
      "text/plain": [
       "      Row ID        Order ID Order Date  Ship Date       Ship Mode  \\\n",
       "0          1  CA-2017-152156 2017-11-08 2017-11-11    Second Class   \n",
       "1          2  CA-2017-152156 2017-11-08 2017-11-11    Second Class   \n",
       "2          3  CA-2017-138688 2017-06-12 2017-06-16    Second Class   \n",
       "3          4  US-2016-108966 2016-10-11 2016-10-18  Standard Class   \n",
       "4          5  US-2016-108966 2016-10-11 2016-10-18  Standard Class   \n",
       "...      ...             ...        ...        ...             ...   \n",
       "9795    9796  CA-2017-125920 2017-05-21 2017-05-28  Standard Class   \n",
       "9796    9797  CA-2016-128608 2016-01-12 2016-01-17  Standard Class   \n",
       "9797    9798  CA-2016-128608 2016-01-12 2016-01-17  Standard Class   \n",
       "9798    9799  CA-2016-128608 2016-01-12 2016-01-17  Standard Class   \n",
       "9799    9800  CA-2016-128608 2016-01-12 2016-01-17  Standard Class   \n",
       "\n",
       "     Customer ID     Customer Name    Segment        Country             City  \\\n",
       "0       CG-12520       Claire Gute   Consumer  United States        Henderson   \n",
       "1       CG-12520       Claire Gute   Consumer  United States        Henderson   \n",
       "2       DV-13045   Darrin Van Huff  Corporate  United States      Los Angeles   \n",
       "3       SO-20335    Sean O'Donnell   Consumer  United States  Fort Lauderdale   \n",
       "4       SO-20335    Sean O'Donnell   Consumer  United States  Fort Lauderdale   \n",
       "...          ...               ...        ...            ...              ...   \n",
       "9795    SH-19975     Sally Hughsby  Corporate  United States          Chicago   \n",
       "9796    CS-12490  Cindy Schnelling  Corporate  United States           Toledo   \n",
       "9797    CS-12490  Cindy Schnelling  Corporate  United States           Toledo   \n",
       "9798    CS-12490  Cindy Schnelling  Corporate  United States           Toledo   \n",
       "9799    CS-12490  Cindy Schnelling  Corporate  United States           Toledo   \n",
       "\n",
       "           State Postal Code   Region       Product ID         Category  \\\n",
       "0       Kentucky     42420.0    South  FUR-BO-10001798        Furniture   \n",
       "1       Kentucky     42420.0    South  FUR-CH-10000454        Furniture   \n",
       "2     California     90036.0     West  OFF-LA-10000240  Office Supplies   \n",
       "3        Florida     33311.0    South  FUR-TA-10000577        Furniture   \n",
       "4        Florida     33311.0    South  OFF-ST-10000760  Office Supplies   \n",
       "...          ...         ...      ...              ...              ...   \n",
       "9795    Illinois     60610.0  Central  OFF-BI-10003429  Office Supplies   \n",
       "9796        Ohio     43615.0     East  OFF-AR-10001374  Office Supplies   \n",
       "9797        Ohio     43615.0     East  TEC-PH-10004977       Technology   \n",
       "9798        Ohio     43615.0     East  TEC-PH-10000912       Technology   \n",
       "9799        Ohio     43615.0     East  TEC-AC-10000487       Technology   \n",
       "\n",
       "     Sub-Category                                       Product Name   Sales  \n",
       "0       Bookcases                  Bush Somerset Collection Bookcase  261.96  \n",
       "1          Chairs  Hon Deluxe Fabric Upholstered Stacking Chairs,...  731.94  \n",
       "2          Labels  Self-Adhesive Address Labels for Typewriters b...   14.62  \n",
       "3          Tables      Bretford CR4500 Series Slim Rectangular Table  957.58  \n",
       "4         Storage                     Eldon Fold 'N Roll Cart System   22.37  \n",
       "...           ...                                                ...     ...  \n",
       "9795      Binders  Cardinal HOLDit! Binder Insert Strips,Extra St...    3.80  \n",
       "9796          Art           BIC Brite Liner Highlighters, Chisel Tip   10.37  \n",
       "9797       Phones                                        GE 30524EE4  235.19  \n",
       "9798       Phones           Anker 24W Portable Micro USB Car Charger   26.38  \n",
       "9799  Accessories                SanDisk Cruzer 4 GB USB Flash Drive   10.38  \n",
       "\n",
       "[9800 rows x 18 columns]"
      ]
     },
     "execution_count": 6,
     "metadata": {},
     "output_type": "execute_result"
    }
   ],
   "source": [
    "#Isi missing values dari kode pos\n",
    "df['Postal Code'] = df['Postal Code'].astype(str).str.zfill(5)\n",
    "\n",
    "#Konversi tipe data ke datetime\n",
    "df['Order Date'] = pd.to_datetime(df['Order Date'], format='%d/%m/%Y')\n",
    "df['Ship Date'] = pd.to_datetime(df['Ship Date'], format='%d/%m/%Y')\n",
    "\n",
    "#pembulatan 2 angka di belakang koma\n",
    "df['Sales'] = df['Sales'].round(2)\n",
    "\n",
    "#Strip whitespace from 'Product Name' column\n",
    "df['Product Name'] = df['Product Name'].str.strip()\n",
    "\n",
    "df"
   ]
  },
  {
   "cell_type": "markdown",
   "id": "b1d18fab",
   "metadata": {},
   "source": [
    "Periksa ulang missing values di dataset setelah dibersihkan:"
   ]
  },
  {
   "cell_type": "code",
   "execution_count": 7,
   "id": "093bcd3b",
   "metadata": {},
   "outputs": [
    {
     "name": "stdout",
     "output_type": "stream",
     "text": [
      "<class 'pandas.core.frame.DataFrame'>\n",
      "RangeIndex: 9800 entries, 0 to 9799\n",
      "Data columns (total 18 columns):\n",
      " #   Column         Non-Null Count  Dtype         \n",
      "---  ------         --------------  -----         \n",
      " 0   Row ID         9800 non-null   int64         \n",
      " 1   Order ID       9800 non-null   object        \n",
      " 2   Order Date     9800 non-null   datetime64[ns]\n",
      " 3   Ship Date      9800 non-null   datetime64[ns]\n",
      " 4   Ship Mode      9800 non-null   object        \n",
      " 5   Customer ID    9800 non-null   object        \n",
      " 6   Customer Name  9800 non-null   object        \n",
      " 7   Segment        9800 non-null   object        \n",
      " 8   Country        9800 non-null   object        \n",
      " 9   City           9800 non-null   object        \n",
      " 10  State          9800 non-null   object        \n",
      " 11  Postal Code    9800 non-null   object        \n",
      " 12  Region         9800 non-null   object        \n",
      " 13  Product ID     9800 non-null   object        \n",
      " 14  Category       9800 non-null   object        \n",
      " 15  Sub-Category   9800 non-null   object        \n",
      " 16  Product Name   9800 non-null   object        \n",
      " 17  Sales          9800 non-null   float64       \n",
      "dtypes: datetime64[ns](2), float64(1), int64(1), object(14)\n",
      "memory usage: 1.3+ MB\n"
     ]
    }
   ],
   "source": [
    "df.info()"
   ]
  },
  {
   "cell_type": "markdown",
   "id": "c18f1c7a",
   "metadata": {},
   "source": [
    "Dari hasil summary data diatas, data sudah terbebas dari missing value karena jumlah non-null valuenya sudah sesuai dengan total baris yakni 9800 dan penyesuaian Dtype sudah direvisi. Adapun data sudah dibersihkan, maka akan lanjut ke proses analisa."
   ]
  },
  {
   "cell_type": "markdown",
   "id": "d94a3cdc",
   "metadata": {},
   "source": [
    "Simpan dataset yang telah dibersihkan ke CSV baru:"
   ]
  },
  {
   "cell_type": "code",
   "execution_count": 8,
   "id": "78b6d9e5",
   "metadata": {},
   "outputs": [],
   "source": [
    "#save to csv\n",
    "df.to_csv('cleaned_dataset.csv', index=False)"
   ]
  },
  {
   "cell_type": "markdown",
   "id": "8014bf61",
   "metadata": {},
   "source": [
    "# d. Analysis dan Eksplorasi"
   ]
  },
  {
   "cell_type": "markdown",
   "id": "a208c99b",
   "metadata": {},
   "source": [
    "### Distribusi Statistika:"
   ]
  },
  {
   "cell_type": "code",
   "execution_count": 9,
   "id": "6d99a12d",
   "metadata": {},
   "outputs": [
    {
     "name": "stdout",
     "output_type": "stream",
     "text": [
      "count     9800.000000\n",
      "mean       230.769036\n",
      "std        626.651878\n",
      "min          0.440000\n",
      "25%         17.250000\n",
      "50%         54.490000\n",
      "75%        210.605000\n",
      "max      22638.480000\n",
      "Name: Sales, dtype: float64\n"
     ]
    }
   ],
   "source": [
    "print(df['Sales'].describe())\n",
    "#satuan value dari sales adalah $"
   ]
  },
  {
   "cell_type": "markdown",
   "id": "4597f464",
   "metadata": {},
   "source": [
    "Dari hasil describe untuk memaparkan hasil statistika, adapun hasil distribusi penjualan yang didapatkan adalah sebagai berikut:\n",
    "\n",
    "Rata-rata Penjualan: $230.77\n",
    "\n",
    "Count: 9,800 input data\n",
    "\n",
    "Standar Deviasi: $626.65\n",
    "\n",
    "Penjualan Minimum: $0.44\n",
    "\n",
    "Q1: $17.25\n",
    "\n",
    "Median (Q2): $54.49\n",
    "\n",
    "Q3: $210.61\n",
    "\n",
    "Penjualan Maksimum: $22,638.48\n",
    "\n"
   ]
  },
  {
   "cell_type": "markdown",
   "id": "e92b9182",
   "metadata": {},
   "source": [
    "### 1. Apakah ada perbedaan yang signifikan dalam penjualan dan kategori produk yang berbeda?"
   ]
  },
  {
   "cell_type": "markdown",
   "id": "165d1d3f",
   "metadata": {},
   "source": [
    "Variabel untuk mengkategorikan penjualan:"
   ]
  },
  {
   "cell_type": "code",
   "execution_count": 14,
   "id": "1403328a",
   "metadata": {},
   "outputs": [
    {
     "data": {
      "image/png": "[encoded data removed]",
      "text/plain": [
       "<Figure size 1000x600 with 1 Axes>"
      ]
     },
     "metadata": {},
     "output_type": "display_data"
    },
    {
     "name": "stderr",
     "output_type": "stream",
     "text": [
      "/var/folders/47/0h1065tj6rqd_vly1hg1tym80000gn/T/ipykernel_2006/2021726359.py:17: FutureWarning: \n",
      "\n",
      "The `ci` parameter is deprecated. Use `errorbar=None` for the same effect.\n",
      "\n",
      "  sns.barplot(x='Category', y='Sales', data=df, estimator='mean', ci=None)\n"
     ]
    },
    {
     "data": {
      "image/png": "[encoded data removed]",
      "text/plain": [
       "<Figure size 1000x600 with 1 Axes>"
      ]
     },
     "metadata": {},
     "output_type": "display_data"
    }
   ],
   "source": [
    "import matplotlib.pyplot as plt\n",
    "import seaborn as sns\n",
    "\n",
    "# Set plot style\n",
    "plt.style.use('seaborn-v0_8')\n",
    "\n",
    "# Box plot\n",
    "plt.figure(figsize=(10, 6))\n",
    "sns.boxplot(x='Category', y='Sales', data=df)\n",
    "plt.title('Sales Distribution by Product Category')\n",
    "plt.xlabel('Product Category')\n",
    "plt.ylabel('Sales ($)')\n",
    "plt.show()\n",
    "\n",
    "# Bar chart for mean sales\n",
    "plt.figure(figsize=(10, 6))\n",
    "sns.barplot(x='Category', y='Sales', data=df, estimator='mean', ci=None)\n",
    "plt.title('Average Sales by Product Category')\n",
    "plt.xlabel('Product Category')\n",
    "plt.ylabel('Average Sales ($)')\n",
    "plt.show()"
   ]
  },
  {
   "cell_type": "code",
   "execution_count": 15,
   "id": "82fc6a20",
   "metadata": {},
   "outputs": [
    {
     "name": "stdout",
     "output_type": "stream",
     "text": [
      "ANOVA Test Results:\n",
      "F-statistic: 262.16\n",
      "P-value: 0.0000\n",
      "Reject the null hypothesis: There is a significant difference in sales across product categories.\n"
     ]
    }
   ],
   "source": [
    "# Group sales by category\n",
    "furniture_sales = df[df['Category'] == 'Furniture']['Sales']\n",
    "office_sales = df[df['Category'] == 'Office Supplies']['Sales']\n",
    "tech_sales = df[df['Category'] == 'Technology']['Sales']\n",
    "\n",
    "# Perform ANOVA test\n",
    "f_stat, p_value = stats.f_oneway(furniture_sales, office_sales, tech_sales)\n",
    "\n",
    "# Print results\n",
    "print(f'ANOVA Test Results:')\n",
    "print(f'F-statistic: {f_stat:.2f}')\n",
    "print(f'P-value: {p_value:.4f}')\n",
    "\n",
    "# Interpret the result\n",
    "if p_value < 0.05:\n",
    "    print(\"Reject the null hypothesis: There is a significant difference in sales across product categories.\")\n",
    "else:\n",
    "    print(\"Fail to reject the null hypothesis: No significant difference in sales across product categories.\")"
   ]
  },
  {
   "cell_type": "code",
   "execution_count": null,
   "id": "f7eb824f",
   "metadata": {},
   "outputs": [],
   "source": [
    "categories = df['Category'].unique()\n",
    "sales_by_category = [df[df['Category'] == cat]['Sales'] for cat in categories]"
   ]
  },
  {
   "cell_type": "code",
   "execution_count": null,
   "id": "914aba46",
   "metadata": {},
   "outputs": [
    {
     "name": "stdout",
     "output_type": "stream",
     "text": [
      "\n",
      "One-Way ANOVA:\n",
      "F-statistic = 262.1646673068236, p-value = 1.217805034895499e-111\n",
      "Ada perbedaan signifikan antara masing-masing kategori\n"
     ]
    }
   ],
   "source": [
    "# One-Way ANOVA\n",
    "f_stat, p_val = stats.f_oneway(*sales_by_category)\n",
    "print(f\"\\nOne-Way ANOVA:\")\n",
    "print(f\"F-statistic = {f_stat:}, p-value = {p_val:}\")\n",
    "if p_val > 0.05:\n",
    "    print(\"Tidak ada perbedaan signifikan antara kategori\")\n",
    "else:\n",
    "    print(\"Ada perbedaan signifikan antara masing-masing kategori\")"
   ]
  },
  {
   "cell_type": "markdown",
   "id": "bc1aec53",
   "metadata": {},
   "source": [
    "Dari hasil uji ANOVA pada hasil penjualan dan semua kategori produk, hasil menunjukkan bahwa terdapat perbedaan signifikan antara total penjualan dari masing-masing kategori produk."
   ]
  },
  {
   "cell_type": "markdown",
   "id": "b05f1b24",
   "metadata": {},
   "source": [
    "### 2. Mengapa analisis perilaku pelanggan menjadi kunci dalam peningkatan penjualan dan loyalitas?"
   ]
  },
  {
   "cell_type": "code",
   "execution_count": null,
   "id": "d3ca07b7",
   "metadata": {},
   "outputs": [
    {
     "data": {
      "application/vnd.plotly.v1+json": {
       "config": {
        "plotlyServerURL": "https://plot.ly"
       },
       "data": [
        {
         "alignmentgroup": "True",
         "bingroup": "x",
         "hovertemplate": "Total Sales per Customer=%{x}<br>count=%{y}<extra></extra>",
         "legendgroup": "",
         "marker": {
          "color": "#636efa",
          "pattern": {
           "shape": ""
          }
         },
         "name": "",
         "nbinsx": 20,
         "offsetgroup": "",
         "orientation": "v",
         "showlegend": false,
         "type": "histogram",
         "x": [
          5563.56,
          1056.39,
          1790.51,
          5086.93,
          886.15,
          7755.63,
          14473.56,
          966.71,
          1113.8500000000001,
          914.53,
          1515.86,
          925.8000000000001,
          5527.85,
          2537.69,
          657.3100000000001,
          6106.88,
          2052.9100000000003,
          861.5600000000001,
          2582.9,
          367.55,
          660.97,
          200.95,
          1419.25,
          1455.0400000000002,
          3489.06,
          170.59,
          4510.79,
          1744.6999999999998,
          3250.35,
          1735.53,
          1587.45,
          4805.35,
          2495.4,
          738.5,
          7888.3,
          4375.79,
          4867.34,
          4501.38,
          1829.9,
          629.25,
          814.01,
          5664.0199999999995,
          161.28,
          545.9300000000001,
          3323.55,
          1055.69,
          2236.12,
          264.87,
          6608.450000000001,
          88.15,
          4523.33,
          3050.69,
          3255.3,
          58.82,
          4260.78,
          503.98,
          3214.24,
          833.41,
          1166.0700000000002,
          3831.87,
          649.37,
          2852.95,
          497.02,
          1622.03,
          744.3299999999999,
          6765.73,
          2933.67,
          5718.53,
          4411.25,
          320.54,
          2783.19,
          1538.12,
          582.65,
          1526.5,
          658.46,
          4204.68,
          2261.44,
          748.03,
          599.79,
          1333.8899999999999,
          2888.5,
          272.95,
          5907.97,
          1585.17,
          791.99,
          2798.96,
          1874.18,
          1006.35,
          6255.33,
          659.15,
          11789.64,
          808.16,
          7294.18,
          1338.82,
          265.31,
          1459.3400000000001,
          2682.73,
          130.83,
          983.42,
          2442.05,
          1697.87,
          3675.86,
          1181.49,
          2475.16,
          10501.650000000001,
          3887.8199999999997,
          2454.9300000000003,
          3288.12,
          2562.38,
          949.4300000000001,
          2567.66,
          2186.61,
          603.87,
          415.19999999999993,
          2684.5,
          3196.75,
          1523.28,
          385.51,
          4750.360000000001,
          1738.41,
          3789.7200000000003,
          1679.72,
          2638.33,
          1421.96,
          3041.56,
          5730.67,
          1949.21,
          4246.46,
          1685.8899999999999,
          2471.65,
          3670.27,
          12129.08,
          2870.05,
          1659.45,
          113.84,
          2540.63,
          2269.69,
          2854.11,
          2033.97,
          639.76,
          1205.58,
          1860.74,
          904.48,
          1148.78,
          1537.24,
          16.52,
          11164.97,
          3154.82,
          2945.32,
          2372.75,
          1582.1,
          1262.01,
          10880.56,
          2335.59,
          1673.89,
          565.39,
          1661.6100000000001,
          2533.3199999999997,
          1475.14,
          2305.71,
          8954.01,
          288,
          5890.51,
          3984.4500000000003,
          5402.25,
          5817.2,
          2148.85,
          475.9,
          1600.55,
          1397.88,
          1278.96,
          537.63,
          3036.5299999999997,
          884.64,
          844.46,
          2754.22,
          3202.16,
          3651.86,
          550.64,
          970.1099999999999,
          5690.0599999999995,
          3241.9,
          2830.63,
          2370.33,
          1136.5900000000001,
          2004.08,
          1300.08,
          156.76,
          2171.61,
          2469.67,
          4151.51,
          2973.09,
          2332.5699999999997,
          4655.89,
          1081.47,
          1711.69,
          3908.8,
          1989.05,
          1155.21,
          3336.17,
          1174.6200000000001,
          269.53000000000003,
          2550.87,
          2390.54,
          3195.82,
          3487.19,
          1043.09,
          2012.52,
          2501.69,
          3356.4,
          3256.48,
          4282.16,
          1687.0300000000002,
          2650.5499999999997,
          797.8299999999999,
          4802.39,
          3318.49,
          444.02,
          3272.2,
          1458.25,
          585.02,
          3539.32,
          1322.03,
          6345.09,
          4074.4700000000003,
          1376.8,
          2139.79,
          1300.03,
          1267.32,
          897.52,
          2214.9900000000002,
          1058.62,
          5480.73,
          6528.03,
          8350.87,
          1762.21,
          2881.8,
          1119.48,
          3254.48,
          1080.75,
          5271.63,
          344.08,
          1204.85,
          755.6,
          7198.77,
          2752.4500000000003,
          3644.97,
          3236.32,
          964.4499999999999,
          2767.2200000000003,
          944.6000000000001,
          1643.2600000000002,
          3071.14,
          1186.33,
          461.90999999999997,
          3484.9100000000003,
          1832.02,
          9940.369999999999,
          684.18,
          825.9499999999999,
          1219.52,
          3082.64,
          923.88,
          2162.1800000000003,
          2656.69,
          1303.48,
          124.28,
          2567,
          2339.6,
          933.6999999999999,
          228.99,
          1041.04,
          4588.44,
          366.83,
          2199.36,
          5478.06,
          1245.79,
          3510.46,
          4657.93,
          2984.05,
          3418.7400000000002,
          3889.36,
          1383.1299999999999,
          4256.28,
          2271.29,
          6987.2,
          2456.64,
          3736.2,
          2523.26,
          2678.4300000000003,
          4046.75,
          79.75,
          3797.23,
          1398.3899999999999,
          1568.44,
          4716.3,
          1888.0800000000002,
          2223.99,
          2819.45,
          4172.84,
          1361.24,
          146.94,
          6497.280000000001,
          3582.8199999999997,
          3078.63,
          1255.6799999999998,
          3163.63,
          6049.959999999999,
          236.53,
          1284.38,
          9351.199999999999,
          11820.12,
          226.43,
          2189.02,
          4355.150000000001,
          2454.62,
          2163.3199999999997,
          2584.17,
          251.36,
          755.4599999999999,
          2533.15,
          785.62,
          3247.65,
          3690.2799999999997,
          218.67000000000002,
          358.1,
          4877.8,
          12873.3,
          8236.76,
          736.28,
          1990.3100000000002,
          940.5899999999999,
          5248.79,
          4827.93,
          886.5199999999999,
          744.5699999999999,
          5040.74,
          48.4,
          4930.49,
          6491.0199999999995,
          1791.62,
          900.55,
          644.12,
          2518.11,
          71.27,
          1058.1100000000001,
          2772.06,
          858.5699999999999,
          2152.35,
          7610.87,
          385.43,
          695.4399999999999,
          8828.039999999999,
          1388.69,
          7754.97,
          8697.86,
          6760.8099999999995,
          2697.25,
          2239.61,
          955.12,
          1911.8400000000001,
          2309.43,
          890.95,
          4198.32,
          2358.6600000000003,
          6366.4,
          2240.58,
          1507.02,
          309.28999999999996,
          528.92,
          959.48,
          7954.99,
          2256.39,
          709.1700000000001,
          195,
          4262.29,
          383.80999999999995,
          2136.45,
          3760.0299999999997,
          4760.44,
          4769.91,
          3747.66,
          2932.49,
          1214.95,
          1571.52,
          2203.7,
          3173.87,
          9576.35,
          2725.25,
          3159.11,
          1804.14,
          1733.45,
          303.94,
          864.95,
          7625.070000000001,
          2833.92,
          3254.94,
          1934.27,
          1090.85,
          1669.12,
          3635.59,
          1707.71,
          1156.6599999999999,
          863.88,
          2201.69,
          1417.65,
          990.1999999999999,
          3868.0099999999998,
          469.16,
          2516.49,
          7721.71,
          1049.24,
          1428.73,
          1519.51,
          3152.61,
          1569.45,
          908.8199999999999,
          2744.7400000000002,
          983.9300000000001,
          2120.9500000000003,
          3908.27,
          1146.05,
          8282.36,
          1888.96,
          8181.240000000001,
          907.16,
          1453.28,
          10604.26,
          3312.87,
          3100.6,
          5229.7,
          3918.96,
          5990.79,
          5016.47,
          14175.22,
          2260.95,
          5620.18,
          453.53999999999996,
          4909.47,
          2224.1,
          2171.97,
          2003.01,
          88.47,
          3057.1,
          4642.1,
          4416.52,
          449.1,
          8673.23,
          50.19,
          4985.68,
          2580.71,
          7663.13,
          4492.9400000000005,
          3246.63,
          2095.06,
          2633.57,
          5.3,
          1961.9299999999998,
          1469.45,
          3930.52,
          287.43,
          2295.32,
          318.23,
          1739.69,
          2454.5499999999997,
          1346.78,
          644.35,
          756.6,
          3104.44,
          5142.89,
          1879.29,
          2845.27,
          2988.65,
          1010.25,
          368.88,
          1008.14,
          329.87,
          2936.25,
          2238.0499999999997,
          3230.3,
          1259.04,
          5420.5199999999995,
          4299.16,
          2453.2900000000004,
          1548.71,
          1428.24,
          2725.98,
          4432.139999999999,
          1303.89,
          2426.06,
          2258.2,
          795.15,
          3805.71,
          2218.99,
          1581.99,
          2716.43,
          1204.91,
          10663.73,
          1908.45,
          1256.95,
          937.04,
          1758.3,
          3785.28,
          2350.2000000000003,
          1342.29,
          1242.83,
          776.39,
          3061.54,
          16.740000000000002,
          1691.49,
          400.02,
          2146.69,
          1252.8,
          2203.78,
          2984.95,
          5503.09,
          6320.75,
          2302.36,
          1031.6000000000001,
          2722.84,
          2885.27,
          2071.91,
          742.08,
          162.23000000000002,
          1314.02,
          3640.25,
          2749.86,
          775.41,
          2477.94,
          922.49,
          1687.02,
          154.29,
          2945.81,
          3983.65,
          4757.34,
          639.1800000000001,
          7443.68,
          475.65999999999997,
          1613.39,
          3144.67,
          370.34000000000003,
          855.12,
          2890.14,
          1319.43,
          1560.03,
          1734.58,
          5341.900000000001,
          5253.88,
          2254.29,
          3601.8799999999997,
          593.61,
          2564.89,
          273.87,
          1972.61,
          2461.41,
          2218.9900000000002,
          8241.73,
          1821.75,
          4326.14,
          2893.46,
          8080.469999999999,
          377.17,
          2031.48,
          1869.57,
          1395.94,
          2518.67,
          572.0500000000001,
          1418.0800000000002,
          6459.34,
          2161.98,
          5529.62,
          3908.4,
          1164.73,
          7903.18,
          2367.27,
          2575.87,
          2857.75,
          7234.02,
          2488.33,
          1567.52,
          3818.62,
          729.41,
          740.36,
          688.3299999999999,
          1456.95,
          132.74,
          1832.07,
          1061.49,
          9062.859999999999,
          2770,
          2206.12,
          3086.89,
          1987.15,
          729.6500000000001,
          1220.1,
          1677.53,
          1441.15,
          8646.93,
          239.49,
          1405.3999999999999,
          4115.66,
          1467.16,
          7473.829999999999,
          2493.22,
          4893.05,
          1056.85,
          7252.61,
          1840.18,
          2181.47,
          1278.65,
          6843.629999999999,
          158.47,
          2876.05,
          3454.91,
          3922.41,
          6108.34,
          2617.89,
          3546.23,
          4793.53,
          1686.93,
          1008.2,
          15117.349999999999,
          1864.14,
          4715.47,
          528.53,
          221.09,
          2067.45,
          5633.31,
          966.4100000000001,
          652.64,
          4272.9400000000005,
          2832.91,
          2745.89,
          1419.74,
          1137.61,
          3133.92,
          970.95,
          48.36,
          666.52,
          3309.14,
          2341.3,
          938.86,
          3621.38,
          6979.18,
          740.39,
          2085.74,
          1460.19,
          6234.91,
          1453.47,
          5979.089999999999,
          98.35,
          3815.4700000000003,
          954.64,
          5153.06,
          2055.35,
          615.9300000000001,
          3302.2599999999998,
          3221.29,
          4159.77,
          22.330000000000002,
          7397.400000000001,
          3279.75,
          3495.64,
          4767.34,
          1348.02,
          6411,
          8057.89,
          3362.96,
          4624.57,
          14142.340000000002,
          4371.96,
          3729.7999999999997,
          3650.4700000000003,
          5992.530000000001,
          1875,
          799.8000000000001,
          1254.64,
          2576.4,
          5226.2,
          4492.68,
          279.25,
          14.11,
          6121.1,
          12209.440000000002,
          763.54,
          3422.7799999999997,
          3336.53,
          3406.58,
          1884.8000000000002,
          3118.9,
          47.95,
          2465.68,
          2180.7,
          2096.3900000000003,
          3949.6499999999996,
          1341.04,
          1318.77,
          883.4100000000001,
          3046.53,
          244.49,
          25043.07,
          1043.05,
          4464.87,
          1860.42,
          3127.97,
          2602.58,
          1306.09,
          5440.32,
          1872.4299999999998,
          4282.92,
          3990.6699999999996,
          3233.4700000000003,
          4345.88,
          1324.03,
          3056.81,
          613.4,
          418.49,
          964.6300000000001,
          433.34,
          2595.38,
          11470.939999999999,
          4105.31,
          1271.0900000000001,
          1903.49,
          1085.06,
          1966.65,
          1019.04,
          2835.56,
          758.6899999999999,
          3625.34,
          14595.619999999999,
          1451.3700000000001,
          3589.2899999999995,
          816.1700000000001,
          1602.3700000000001,
          2198.46,
          834.33,
          9108.74,
          4737.48,
          1240.88,
          2797.68,
          19052.22,
          1038.26,
          4266.8099999999995,
          1244.98,
          742.5500000000001,
          1434.56,
          3058.38,
          2074.66,
          2422.83,
          2942.78,
          1022.21,
          4234.1,
          2819.0299999999997,
          1094.6799999999998,
          3130.22,
          4454.06,
          5328.98,
          1936.62,
          675.9399999999999,
          4.83,
          2163.63,
          5371.11,
          974.78,
          11891.75,
          2054.14,
          2243.28,
          2820.42,
          3368.08,
          4915.59,
          1427.05,
          439.5,
          5364.8,
          5278.82,
          1707.28,
          2005.59,
          6442.26,
          847.95,
          846.02,
          418.43,
          2454.87,
          380.69,
          993.9,
          3360.54,
          1055.99,
          1736.6,
          6134.040000000001,
          6129.71,
          2374.66,
          5454.35,
          6720.4400000000005,
          8025.7,
          1493.94
         ],
         "xaxis": "x",
         "yaxis": "y"
        }
       ],
       "layout": {
        "bargap": 0.1,
        "barmode": "relative",
        "legend": {
         "tracegroupgap": 0
        },
        "template": {
         "data": {
          "bar": [
           {
            "error_x": {
             "color": "#2a3f5f"
            },
            "error_y": {
             "color": "#2a3f5f"
            },
            "marker": {
             "line": {
              "color": "#E5ECF6",
              "width": 0.5
             },
             "pattern": {
              "fillmode": "overlay",
              "size": 10,
              "solidity": 0.2
             }
            },
            "type": "bar"
           }
          ],
          "barpolar": [
           {
            "marker": {
             "line": {
              "color": "#E5ECF6",
              "width": 0.5
             },
             "pattern": {
              "fillmode": "overlay",
              "size": 10,
              "solidity": 0.2
             }
            },
            "type": "barpolar"
           }
          ],
          "carpet": [
           {
            "aaxis": {
             "endlinecolor": "#2a3f5f",
             "gridcolor": "white",
             "linecolor": "white",
             "minorgridcolor": "white",
             "startlinecolor": "#2a3f5f"
            },
            "baxis": {
             "endlinecolor": "#2a3f5f",
             "gridcolor": "white",
             "linecolor": "white",
             "minorgridcolor": "white",
             "startlinecolor": "#2a3f5f"
            },
            "type": "carpet"
           }
          ],
          "choropleth": [
           {
            "colorbar": {
             "outlinewidth": 0,
             "ticks": ""
            },
            "type": "choropleth"
           }
          ],
          "contour": [
           {
            "colorbar": {
             "outlinewidth": 0,
             "ticks": ""
            },
            "colorscale": [
             [
              0,
              "#0d0887"
             ],
             [
              0.1111111111111111,
              "#46039f"
             ],
             [
              0.2222222222222222,
              "#7201a8"
             ],
             [
              0.3333333333333333,
              "#9c179e"
             ],
             [
              0.4444444444444444,
              "#bd3786"
             ],
             [
              0.5555555555555556,
              "#d8576b"
             ],
             [
              0.6666666666666666,
              "#ed7953"
             ],
             [
              0.7777777777777778,
              "#fb9f3a"
             ],
             [
              0.8888888888888888,
              "#fdca26"
             ],
             [
              1,
              "#f0f921"
             ]
            ],
            "type": "contour"
           }
          ],
          "contourcarpet": [
           {
            "colorbar": {
             "outlinewidth": 0,
             "ticks": ""
            },
            "type": "contourcarpet"
           }
          ],
          "heatmap": [
           {
            "colorbar": {
             "outlinewidth": 0,
             "ticks": ""
            },
            "colorscale": [
             [
              0,
              "#0d0887"
             ],
             [
              0.1111111111111111,
              "#46039f"
             ],
             [
              0.2222222222222222,
              "#7201a8"
             ],
             [
              0.3333333333333333,
              "#9c179e"
             ],
             [
              0.4444444444444444,
              "#bd3786"
             ],
             [
              0.5555555555555556,
              "#d8576b"
             ],
             [
              0.6666666666666666,
              "#ed7953"
             ],
             [
              0.7777777777777778,
              "#fb9f3a"
             ],
             [
              0.8888888888888888,
              "#fdca26"
             ],
             [
              1,
              "#f0f921"
             ]
            ],
            "type": "heatmap"
           }
          ],
          "heatmapgl": [
           {
            "colorbar": {
             "outlinewidth": 0,
             "ticks": ""
            },
            "colorscale": [
             [
              0,
              "#0d0887"
             ],
             [
              0.1111111111111111,
              "#46039f"
             ],
             [
              0.2222222222222222,
              "#7201a8"
             ],
             [
              0.3333333333333333,
              "#9c179e"
             ],
             [
              0.4444444444444444,
              "#bd3786"
             ],
             [
              0.5555555555555556,
              "#d8576b"
             ],
             [
              0.6666666666666666,
              "#ed7953"
             ],
             [
              0.7777777777777778,
              "#fb9f3a"
             ],
             [
              0.8888888888888888,
              "#fdca26"
             ],
             [
              1,
              "#f0f921"
             ]
            ],
            "type": "heatmapgl"
           }
          ],
          "histogram": [
           {
            "marker": {
             "pattern": {
              "fillmode": "overlay",
              "size": 10,
              "solidity": 0.2
             }
            },
            "type": "histogram"
           }
          ],
          "histogram2d": [
           {
            "colorbar": {
             "outlinewidth": 0,
             "ticks": ""
            },
            "colorscale": [
             [
              0,
              "#0d0887"
             ],
             [
              0.1111111111111111,
              "#46039f"
             ],
             [
              0.2222222222222222,
              "#7201a8"
             ],
             [
              0.3333333333333333,
              "#9c179e"
             ],
             [
              0.4444444444444444,
              "#bd3786"
             ],
             [
              0.5555555555555556,
              "#d8576b"
             ],
             [
              0.6666666666666666,
              "#ed7953"
             ],
             [
              0.7777777777777778,
              "#fb9f3a"
             ],
             [
              0.8888888888888888,
              "#fdca26"
             ],
             [
              1,
              "#f0f921"
             ]
            ],
            "type": "histogram2d"
           }
          ],
          "histogram2dcontour": [
           {
            "colorbar": {
             "outlinewidth": 0,
             "ticks": ""
            },
            "colorscale": [
             [
              0,
              "#0d0887"
             ],
             [
              0.1111111111111111,
              "#46039f"
             ],
             [
              0.2222222222222222,
              "#7201a8"
             ],
             [
              0.3333333333333333,
              "#9c179e"
             ],
             [
              0.4444444444444444,
              "#bd3786"
             ],
             [
              0.5555555555555556,
              "#d8576b"
             ],
             [
              0.6666666666666666,
              "#ed7953"
             ],
             [
              0.7777777777777778,
              "#fb9f3a"
             ],
             [
              0.8888888888888888,
              "#fdca26"
             ],
             [
              1,
              "#f0f921"
             ]
            ],
            "type": "histogram2dcontour"
           }
          ],
          "mesh3d": [
           {
            "colorbar": {
             "outlinewidth": 0,
             "ticks": ""
            },
            "type": "mesh3d"
           }
          ],
          "parcoords": [
           {
            "line": {
             "colorbar": {
              "outlinewidth": 0,
              "ticks": ""
             }
            },
            "type": "parcoords"
           }
          ],
          "pie": [
           {
            "automargin": true,
            "type": "pie"
           }
          ],
          "scatter": [
           {
            "fillpattern": {
             "fillmode": "overlay",
             "size": 10,
             "solidity": 0.2
            },
            "type": "scatter"
           }
          ],
          "scatter3d": [
           {
            "line": {
             "colorbar": {
              "outlinewidth": 0,
              "ticks": ""
             }
            },
            "marker": {
             "colorbar": {
              "outlinewidth": 0,
              "ticks": ""
             }
            },
            "type": "scatter3d"
           }
          ],
          "scattercarpet": [
           {
            "marker": {
             "colorbar": {
              "outlinewidth": 0,
              "ticks": ""
             }
            },
            "type": "scattercarpet"
           }
          ],
          "scattergeo": [
           {
            "marker": {
             "colorbar": {
              "outlinewidth": 0,
              "ticks": ""
             }
            },
            "type": "scattergeo"
           }
          ],
          "scattergl": [
           {
            "marker": {
             "colorbar": {
              "outlinewidth": 0,
              "ticks": ""
             }
            },
            "type": "scattergl"
           }
          ],
          "scattermapbox": [
           {
            "marker": {
             "colorbar": {
              "outlinewidth": 0,
              "ticks": ""
             }
            },
            "type": "scattermapbox"
           }
          ],
          "scatterpolar": [
           {
            "marker": {
             "colorbar": {
              "outlinewidth": 0,
              "ticks": ""
             }
            },
            "type": "scatterpolar"
           }
          ],
          "scatterpolargl": [
           {
            "marker": {
             "colorbar": {
              "outlinewidth": 0,
              "ticks": ""
             }
            },
            "type": "scatterpolargl"
           }
          ],
          "scatterternary": [
           {
            "marker": {
             "colorbar": {
              "outlinewidth": 0,
              "ticks": ""
             }
            },
            "type": "scatterternary"
           }
          ],
          "surface": [
           {
            "colorbar": {
             "outlinewidth": 0,
             "ticks": ""
            },
            "colorscale": [
             [
              0,
              "#0d0887"
             ],
             [
              0.1111111111111111,
              "#46039f"
             ],
             [
              0.2222222222222222,
              "#7201a8"
             ],
             [
              0.3333333333333333,
              "#9c179e"
             ],
             [
              0.4444444444444444,
              "#bd3786"
             ],
             [
              0.5555555555555556,
              "#d8576b"
             ],
             [
              0.6666666666666666,
              "#ed7953"
             ],
             [
              0.7777777777777778,
              "#fb9f3a"
             ],
             [
              0.8888888888888888,
              "#fdca26"
             ],
             [
              1,
              "#f0f921"
             ]
            ],
            "type": "surface"
           }
          ],
          "table": [
           {
            "cells": {
             "fill": {
              "color": "#EBF0F8"
             },
             "line": {
              "color": "white"
             }
            },
            "header": {
             "fill": {
              "color": "#C8D4E3"
             },
             "line": {
              "color": "white"
             }
            },
            "type": "table"
           }
          ]
         },
         "layout": {
          "annotationdefaults": {
           "arrowcolor": "#2a3f5f",
           "arrowhead": 0,
           "arrowwidth": 1
          },
          "autotypenumbers": "strict",
          "coloraxis": {
           "colorbar": {
            "outlinewidth": 0,
            "ticks": ""
           }
          },
          "colorscale": {
           "diverging": [
            [
             0,
             "#8e0152"
            ],
            [
             0.1,
             "#c51b7d"
            ],
            [
             0.2,
             "#de77ae"
            ],
            [
             0.3,
             "#f1b6da"
            ],
            [
             0.4,
             "#fde0ef"
            ],
            [
             0.5,
             "#f7f7f7"
            ],
            [
             0.6,
             "#e6f5d0"
            ],
            [
             0.7,
             "#b8e186"
            ],
            [
             0.8,
             "#7fbc41"
            ],
            [
             0.9,
             "#4d9221"
            ],
            [
             1,
             "#276419"
            ]
           ],
           "sequential": [
            [
             0,
             "#0d0887"
            ],
            [
             0.1111111111111111,
             "#46039f"
            ],
            [
             0.2222222222222222,
             "#7201a8"
            ],
            [
             0.3333333333333333,
             "#9c179e"
            ],
            [
             0.4444444444444444,
             "#bd3786"
            ],
            [
             0.5555555555555556,
             "#d8576b"
            ],
            [
             0.6666666666666666,
             "#ed7953"
            ],
            [
             0.7777777777777778,
             "#fb9f3a"
            ],
            [
             0.8888888888888888,
             "#fdca26"
            ],
            [
             1,
             "#f0f921"
            ]
           ],
           "sequentialminus": [
            [
             0,
             "#0d0887"
            ],
            [
             0.1111111111111111,
             "#46039f"
            ],
            [
             0.2222222222222222,
             "#7201a8"
            ],
            [
             0.3333333333333333,
             "#9c179e"
            ],
            [
             0.4444444444444444,
             "#bd3786"
            ],
            [
             0.5555555555555556,
             "#d8576b"
            ],
            [
             0.6666666666666666,
             "#ed7953"
            ],
            [
             0.7777777777777778,
             "#fb9f3a"
            ],
            [
             0.8888888888888888,
             "#fdca26"
            ],
            [
             1,
             "#f0f921"
            ]
           ]
          },
          "colorway": [
           "#636efa",
           "#EF553B",
           "#00cc96",
           "#ab63fa",
           "#FFA15A",
           "#19d3f3",
           "#FF6692",
           "#B6E880",
           "#FF97FF",
           "#FECB52"
          ],
          "font": {
           "color": "#2a3f5f"
          },
          "geo": {
           "bgcolor": "white",
           "lakecolor": "white",
           "landcolor": "#E5ECF6",
           "showlakes": true,
           "showland": true,
           "subunitcolor": "white"
          },
          "hoverlabel": {
           "align": "left"
          },
          "hovermode": "closest",
          "mapbox": {
           "style": "light"
          },
          "paper_bgcolor": "white",
          "plot_bgcolor": "#E5ECF6",
          "polar": {
           "angularaxis": {
            "gridcolor": "white",
            "linecolor": "white",
            "ticks": ""
           },
           "bgcolor": "#E5ECF6",
           "radialaxis": {
            "gridcolor": "white",
            "linecolor": "white",
            "ticks": ""
           }
          },
          "scene": {
           "xaxis": {
            "backgroundcolor": "#E5ECF6",
            "gridcolor": "white",
            "gridwidth": 2,
            "linecolor": "white",
            "showbackground": true,
            "ticks": "",
            "zerolinecolor": "white"
           },
           "yaxis": {
            "backgroundcolor": "#E5ECF6",
            "gridcolor": "white",
            "gridwidth": 2,
            "linecolor": "white",
            "showbackground": true,
            "ticks": "",
            "zerolinecolor": "white"
           },
           "zaxis": {
            "backgroundcolor": "#E5ECF6",
            "gridcolor": "white",
            "gridwidth": 2,
            "linecolor": "white",
            "showbackground": true,
            "ticks": "",
            "zerolinecolor": "white"
           }
          },
          "shapedefaults": {
           "line": {
            "color": "#2a3f5f"
           }
          },
          "ternary": {
           "aaxis": {
            "gridcolor": "white",
            "linecolor": "white",
            "ticks": ""
           },
           "baxis": {
            "gridcolor": "white",
            "linecolor": "white",
            "ticks": ""
           },
           "bgcolor": "#E5ECF6",
           "caxis": {
            "gridcolor": "white",
            "linecolor": "white",
            "ticks": ""
           }
          },
          "title": {
           "x": 0.05
          },
          "xaxis": {
           "automargin": true,
           "gridcolor": "white",
           "linecolor": "white",
           "ticks": "",
           "title": {
            "standoff": 15
           },
           "zerolinecolor": "white",
           "zerolinewidth": 2
          },
          "yaxis": {
           "automargin": true,
           "gridcolor": "white",
           "linecolor": "white",
           "ticks": "",
           "title": {
            "standoff": 15
           },
           "zerolinecolor": "white",
           "zerolinewidth": 2
          }
         }
        },
        "title": {
         "text": "Customer Lifetime Value"
        },
        "xaxis": {
         "anchor": "y",
         "domain": [
          0,
          1
         ],
         "title": {
          "text": "Total Sales per Customer"
         }
        },
        "yaxis": {
         "anchor": "x",
         "domain": [
          0,
          1
         ],
         "title": {
          "text": "count"
         }
        }
       }
      }
     },
     "metadata": {},
     "output_type": "display_data"
    }
   ],
   "source": [
    "#Nilai Value Pelanggan\n",
    "customer_value = df.groupby('Customer ID')['Sales'].sum().reset_index()\n",
    "fig3 = px.histogram(customer_value, x='Sales', nbins=20,\n",
    "                   title='Customer Lifetime Value',\n",
    "                   labels={'Sales': 'Total Sales per Customer'})\n",
    "fig3.update_layout(bargap=0.1)"
   ]
  },
  {
   "cell_type": "markdown",
   "id": "6962e29f",
   "metadata": {},
   "source": [
    "Dari diagram batang diatas, dapat dilihat bahwa kontribusi pemasukkan dari transaksi pelanggan terbanyak ada di rentang 1000-2999. hal ini menandakan masih sebagian besar pelanggan belum berkontribusi secara besar terhadap pemasukkan dikarenakan transaksi penjualan yang minim. Oleh karena itu, pentingnya analisis perilaku pengguna guna untuk mengurangi skewness pada diagram adalah bertujuan untuk meningkatkan kontribusi transaksi penjualan yang lebih banyak sehingga kontribusi dari transaksi untuk pemasukkan bisa menjadi lebih besar.  "
   ]
  },
  {
   "cell_type": "markdown",
   "id": "e8af89b9",
   "metadata": {},
   "source": [
    "### 3. Siapa saja (segmentasi pelanggan) yang berpotensi terkena dampak negatif dari perubahan perilaku pelanggan?"
   ]
  },
  {
   "cell_type": "code",
   "execution_count": null,
   "id": "bc17fc1c",
   "metadata": {},
   "outputs": [
    {
     "data": {
      "application/vnd.plotly.v1+json": {
       "config": {
        "plotlyServerURL": "https://plot.ly"
       },
       "data": [
        {
         "alignmentgroup": "True",
         "hovertemplate": "Segmentasi=%{x}<br>Total Penjualan=%{text}<extra></extra>",
         "legendgroup": "Consumer",
         "marker": {
          "color": "#636efa",
          "pattern": {
           "shape": ""
          }
         },
         "name": "Consumer",
         "offsetgroup": "Consumer",
         "orientation": "v",
         "showlegend": true,
         "text": [
          1148060.29
         ],
         "textposition": "outside",
         "texttemplate": "%{text:.2s}",
         "type": "bar",
         "x": [
          "Consumer"
         ],
         "xaxis": "x",
         "y": [
          1148060.29
         ],
         "yaxis": "y"
        },
        {
         "alignmentgroup": "True",
         "hovertemplate": "Segmentasi=%{x}<br>Total Penjualan=%{text}<extra></extra>",
         "legendgroup": "Corporate",
         "marker": {
          "color": "#EF553B",
          "pattern": {
           "shape": ""
          }
         },
         "name": "Corporate",
         "offsetgroup": "Corporate",
         "orientation": "v",
         "showlegend": true,
         "text": [
          688494.02
         ],
         "textposition": "outside",
         "texttemplate": "%{text:.2s}",
         "type": "bar",
         "x": [
          "Corporate"
         ],
         "xaxis": "x",
         "y": [
          688494.02
         ],
         "yaxis": "y"
        },
        {
         "alignmentgroup": "True",
         "hovertemplate": "Segmentasi=%{x}<br>Total Penjualan=%{text}<extra></extra>",
         "legendgroup": "Home Office",
         "marker": {
          "color": "#00cc96",
          "pattern": {
           "shape": ""
          }
         },
         "name": "Home Office",
         "offsetgroup": "Home Office",
         "orientation": "v",
         "showlegend": true,
         "text": [
          424982.24
         ],
         "textposition": "outside",
         "texttemplate": "%{text:.2s}",
         "type": "bar",
         "x": [
          "Home Office"
         ],
         "xaxis": "x",
         "y": [
          424982.24
         ],
         "yaxis": "y"
        }
       ],
       "layout": {
        "barmode": "relative",
        "hovermode": "x",
        "legend": {
         "title": {
          "text": "Segmentasi"
         },
         "tracegroupgap": 0
        },
        "template": {
         "data": {
          "bar": [
           {
            "error_x": {
             "color": "#2a3f5f"
            },
            "error_y": {
             "color": "#2a3f5f"
            },
            "marker": {
             "line": {
              "color": "#E5ECF6",
              "width": 0.5
             },
             "pattern": {
              "fillmode": "overlay",
              "size": 10,
              "solidity": 0.2
             }
            },
            "type": "bar"
           }
          ],
          "barpolar": [
           {
            "marker": {
             "line": {
              "color": "#E5ECF6",
              "width": 0.5
             },
             "pattern": {
              "fillmode": "overlay",
              "size": 10,
              "solidity": 0.2
             }
            },
            "type": "barpolar"
           }
          ],
          "carpet": [
           {
            "aaxis": {
             "endlinecolor": "#2a3f5f",
             "gridcolor": "white",
             "linecolor": "white",
             "minorgridcolor": "white",
             "startlinecolor": "#2a3f5f"
            },
            "baxis": {
             "endlinecolor": "#2a3f5f",
             "gridcolor": "white",
             "linecolor": "white",
             "minorgridcolor": "white",
             "startlinecolor": "#2a3f5f"
            },
            "type": "carpet"
           }
          ],
          "choropleth": [
           {
            "colorbar": {
             "outlinewidth": 0,
             "ticks": ""
            },
            "type": "choropleth"
           }
          ],
          "contour": [
           {
            "colorbar": {
             "outlinewidth": 0,
             "ticks": ""
            },
            "colorscale": [
             [
              0,
              "#0d0887"
             ],
             [
              0.1111111111111111,
              "#46039f"
             ],
             [
              0.2222222222222222,
              "#7201a8"
             ],
             [
              0.3333333333333333,
              "#9c179e"
             ],
             [
              0.4444444444444444,
              "#bd3786"
             ],
             [
              0.5555555555555556,
              "#d8576b"
             ],
             [
              0.6666666666666666,
              "#ed7953"
             ],
             [
              0.7777777777777778,
              "#fb9f3a"
             ],
             [
              0.8888888888888888,
              "#fdca26"
             ],
             [
              1,
              "#f0f921"
             ]
            ],
            "type": "contour"
           }
          ],
          "contourcarpet": [
           {
            "colorbar": {
             "outlinewidth": 0,
             "ticks": ""
            },
            "type": "contourcarpet"
           }
          ],
          "heatmap": [
           {
            "colorbar": {
             "outlinewidth": 0,
             "ticks": ""
            },
            "colorscale": [
             [
              0,
              "#0d0887"
             ],
             [
              0.1111111111111111,
              "#46039f"
             ],
             [
              0.2222222222222222,
              "#7201a8"
             ],
             [
              0.3333333333333333,
              "#9c179e"
             ],
             [
              0.4444444444444444,
              "#bd3786"
             ],
             [
              0.5555555555555556,
              "#d8576b"
             ],
             [
              0.6666666666666666,
              "#ed7953"
             ],
             [
              0.7777777777777778,
              "#fb9f3a"
             ],
             [
              0.8888888888888888,
              "#fdca26"
             ],
             [
              1,
              "#f0f921"
             ]
            ],
            "type": "heatmap"
           }
          ],
          "heatmapgl": [
           {
            "colorbar": {
             "outlinewidth": 0,
             "ticks": ""
            },
            "colorscale": [
             [
              0,
              "#0d0887"
             ],
             [
              0.1111111111111111,
              "#46039f"
             ],
             [
              0.2222222222222222,
              "#7201a8"
             ],
             [
              0.3333333333333333,
              "#9c179e"
             ],
             [
              0.4444444444444444,
              "#bd3786"
             ],
             [
              0.5555555555555556,
              "#d8576b"
             ],
             [
              0.6666666666666666,
              "#ed7953"
             ],
             [
              0.7777777777777778,
              "#fb9f3a"
             ],
             [
              0.8888888888888888,
              "#fdca26"
             ],
             [
              1,
              "#f0f921"
             ]
            ],
            "type": "heatmapgl"
           }
          ],
          "histogram": [
           {
            "marker": {
             "pattern": {
              "fillmode": "overlay",
              "size": 10,
              "solidity": 0.2
             }
            },
            "type": "histogram"
           }
          ],
          "histogram2d": [
           {
            "colorbar": {
             "outlinewidth": 0,
             "ticks": ""
            },
            "colorscale": [
             [
              0,
              "#0d0887"
             ],
             [
              0.1111111111111111,
              "#46039f"
             ],
             [
              0.2222222222222222,
              "#7201a8"
             ],
             [
              0.3333333333333333,
              "#9c179e"
             ],
             [
              0.4444444444444444,
              "#bd3786"
             ],
             [
              0.5555555555555556,
              "#d8576b"
             ],
             [
              0.6666666666666666,
              "#ed7953"
             ],
             [
              0.7777777777777778,
              "#fb9f3a"
             ],
             [
              0.8888888888888888,
              "#fdca26"
             ],
             [
              1,
              "#f0f921"
             ]
            ],
            "type": "histogram2d"
           }
          ],
          "histogram2dcontour": [
           {
            "colorbar": {
             "outlinewidth": 0,
             "ticks": ""
            },
            "colorscale": [
             [
              0,
              "#0d0887"
             ],
             [
              0.1111111111111111,
              "#46039f"
             ],
             [
              0.2222222222222222,
              "#7201a8"
             ],
             [
              0.3333333333333333,
              "#9c179e"
             ],
             [
              0.4444444444444444,
              "#bd3786"
             ],
             [
              0.5555555555555556,
              "#d8576b"
             ],
             [
              0.6666666666666666,
              "#ed7953"
             ],
             [
              0.7777777777777778,
              "#fb9f3a"
             ],
             [
              0.8888888888888888,
              "#fdca26"
             ],
             [
              1,
              "#f0f921"
             ]
            ],
            "type": "histogram2dcontour"
           }
          ],
          "mesh3d": [
           {
            "colorbar": {
             "outlinewidth": 0,
             "ticks": ""
            },
            "type": "mesh3d"
           }
          ],
          "parcoords": [
           {
            "line": {
             "colorbar": {
              "outlinewidth": 0,
              "ticks": ""
             }
            },
            "type": "parcoords"
           }
          ],
          "pie": [
           {
            "automargin": true,
            "type": "pie"
           }
          ],
          "scatter": [
           {
            "fillpattern": {
             "fillmode": "overlay",
             "size": 10,
             "solidity": 0.2
            },
            "type": "scatter"
           }
          ],
          "scatter3d": [
           {
            "line": {
             "colorbar": {
              "outlinewidth": 0,
              "ticks": ""
             }
            },
            "marker": {
             "colorbar": {
              "outlinewidth": 0,
              "ticks": ""
             }
            },
            "type": "scatter3d"
           }
          ],
          "scattercarpet": [
           {
            "marker": {
             "colorbar": {
              "outlinewidth": 0,
              "ticks": ""
             }
            },
            "type": "scattercarpet"
           }
          ],
          "scattergeo": [
           {
            "marker": {
             "colorbar": {
              "outlinewidth": 0,
              "ticks": ""
             }
            },
            "type": "scattergeo"
           }
          ],
          "scattergl": [
           {
            "marker": {
             "colorbar": {
              "outlinewidth": 0,
              "ticks": ""
             }
            },
            "type": "scattergl"
           }
          ],
          "scattermapbox": [
           {
            "marker": {
             "colorbar": {
              "outlinewidth": 0,
              "ticks": ""
             }
            },
            "type": "scattermapbox"
           }
          ],
          "scatterpolar": [
           {
            "marker": {
             "colorbar": {
              "outlinewidth": 0,
              "ticks": ""
             }
            },
            "type": "scatterpolar"
           }
          ],
          "scatterpolargl": [
           {
            "marker": {
             "colorbar": {
              "outlinewidth": 0,
              "ticks": ""
             }
            },
            "type": "scatterpolargl"
           }
          ],
          "scatterternary": [
           {
            "marker": {
             "colorbar": {
              "outlinewidth": 0,
              "ticks": ""
             }
            },
            "type": "scatterternary"
           }
          ],
          "surface": [
           {
            "colorbar": {
             "outlinewidth": 0,
             "ticks": ""
            },
            "colorscale": [
             [
              0,
              "#0d0887"
             ],
             [
              0.1111111111111111,
              "#46039f"
             ],
             [
              0.2222222222222222,
              "#7201a8"
             ],
             [
              0.3333333333333333,
              "#9c179e"
             ],
             [
              0.4444444444444444,
              "#bd3786"
             ],
             [
              0.5555555555555556,
              "#d8576b"
             ],
             [
              0.6666666666666666,
              "#ed7953"
             ],
             [
              0.7777777777777778,
              "#fb9f3a"
             ],
             [
              0.8888888888888888,
              "#fdca26"
             ],
             [
              1,
              "#f0f921"
             ]
            ],
            "type": "surface"
           }
          ],
          "table": [
           {
            "cells": {
             "fill": {
              "color": "#EBF0F8"
             },
             "line": {
              "color": "white"
             }
            },
            "header": {
             "fill": {
              "color": "#C8D4E3"
             },
             "line": {
              "color": "white"
             }
            },
            "type": "table"
           }
          ]
         },
         "layout": {
          "annotationdefaults": {
           "arrowcolor": "#2a3f5f",
           "arrowhead": 0,
           "arrowwidth": 1
          },
          "autotypenumbers": "strict",
          "coloraxis": {
           "colorbar": {
            "outlinewidth": 0,
            "ticks": ""
           }
          },
          "colorscale": {
           "diverging": [
            [
             0,
             "#8e0152"
            ],
            [
             0.1,
             "#c51b7d"
            ],
            [
             0.2,
             "#de77ae"
            ],
            [
             0.3,
             "#f1b6da"
            ],
            [
             0.4,
             "#fde0ef"
            ],
            [
             0.5,
             "#f7f7f7"
            ],
            [
             0.6,
             "#e6f5d0"
            ],
            [
             0.7,
             "#b8e186"
            ],
            [
             0.8,
             "#7fbc41"
            ],
            [
             0.9,
             "#4d9221"
            ],
            [
             1,
             "#276419"
            ]
           ],
           "sequential": [
            [
             0,
             "#0d0887"
            ],
            [
             0.1111111111111111,
             "#46039f"
            ],
            [
             0.2222222222222222,
             "#7201a8"
            ],
            [
             0.3333333333333333,
             "#9c179e"
            ],
            [
             0.4444444444444444,
             "#bd3786"
            ],
            [
             0.5555555555555556,
             "#d8576b"
            ],
            [
             0.6666666666666666,
             "#ed7953"
            ],
            [
             0.7777777777777778,
             "#fb9f3a"
            ],
            [
             0.8888888888888888,
             "#fdca26"
            ],
            [
             1,
             "#f0f921"
            ]
           ],
           "sequentialminus": [
            [
             0,
             "#0d0887"
            ],
            [
             0.1111111111111111,
             "#46039f"
            ],
            [
             0.2222222222222222,
             "#7201a8"
            ],
            [
             0.3333333333333333,
             "#9c179e"
            ],
            [
             0.4444444444444444,
             "#bd3786"
            ],
            [
             0.5555555555555556,
             "#d8576b"
            ],
            [
             0.6666666666666666,
             "#ed7953"
            ],
            [
             0.7777777777777778,
             "#fb9f3a"
            ],
            [
             0.8888888888888888,
             "#fdca26"
            ],
            [
             1,
             "#f0f921"
            ]
           ]
          },
          "colorway": [
           "#636efa",
           "#EF553B",
           "#00cc96",
           "#ab63fa",
           "#FFA15A",
           "#19d3f3",
           "#FF6692",
           "#B6E880",
           "#FF97FF",
           "#FECB52"
          ],
          "font": {
           "color": "#2a3f5f"
          },
          "geo": {
           "bgcolor": "white",
           "lakecolor": "white",
           "landcolor": "#E5ECF6",
           "showlakes": true,
           "showland": true,
           "subunitcolor": "white"
          },
          "hoverlabel": {
           "align": "left"
          },
          "hovermode": "closest",
          "mapbox": {
           "style": "light"
          },
          "paper_bgcolor": "white",
          "plot_bgcolor": "#E5ECF6",
          "polar": {
           "angularaxis": {
            "gridcolor": "white",
            "linecolor": "white",
            "ticks": ""
           },
           "bgcolor": "#E5ECF6",
           "radialaxis": {
            "gridcolor": "white",
            "linecolor": "white",
            "ticks": ""
           }
          },
          "scene": {
           "xaxis": {
            "backgroundcolor": "#E5ECF6",
            "gridcolor": "white",
            "gridwidth": 2,
            "linecolor": "white",
            "showbackground": true,
            "ticks": "",
            "zerolinecolor": "white"
           },
           "yaxis": {
            "backgroundcolor": "#E5ECF6",
            "gridcolor": "white",
            "gridwidth": 2,
            "linecolor": "white",
            "showbackground": true,
            "ticks": "",
            "zerolinecolor": "white"
           },
           "zaxis": {
            "backgroundcolor": "#E5ECF6",
            "gridcolor": "white",
            "gridwidth": 2,
            "linecolor": "white",
            "showbackground": true,
            "ticks": "",
            "zerolinecolor": "white"
           }
          },
          "shapedefaults": {
           "line": {
            "color": "#2a3f5f"
           }
          },
          "ternary": {
           "aaxis": {
            "gridcolor": "white",
            "linecolor": "white",
            "ticks": ""
           },
           "baxis": {
            "gridcolor": "white",
            "linecolor": "white",
            "ticks": ""
           },
           "bgcolor": "#E5ECF6",
           "caxis": {
            "gridcolor": "white",
            "linecolor": "white",
            "ticks": ""
           }
          },
          "title": {
           "x": 0.05
          },
          "xaxis": {
           "automargin": true,
           "gridcolor": "white",
           "linecolor": "white",
           "ticks": "",
           "title": {
            "standoff": 15
           },
           "zerolinecolor": "white",
           "zerolinewidth": 2
          },
          "yaxis": {
           "automargin": true,
           "gridcolor": "white",
           "linecolor": "white",
           "ticks": "",
           "title": {
            "standoff": 15
           },
           "zerolinecolor": "white",
           "zerolinewidth": 2
          }
         }
        },
        "title": {
         "text": "Total Penjualan per Segmentasi Pelanggan"
        },
        "xaxis": {
         "anchor": "y",
         "categoryarray": [
          "Consumer",
          "Corporate",
          "Home Office"
         ],
         "categoryorder": "array",
         "domain": [
          0,
          1
         ],
         "title": {
          "text": "Segmentasi Pelanggan"
         }
        },
        "yaxis": {
         "anchor": "x",
         "domain": [
          0,
          1
         ],
         "title": {
          "text": "Total Penjualan ($)"
         }
        }
       }
      }
     },
     "metadata": {},
     "output_type": "display_data"
    }
   ],
   "source": [
    "# Menghitung total penjualan per segment\n",
    "sales_by_segment = df.groupby('Segment')['Sales'].sum().reset_index()\n",
    "\n",
    "#Visualisasi\n",
    "fig5 = px.bar(\n",
    "    sales_by_segment,\n",
    "    x='Segment',\n",
    "    y='Sales',\n",
    "    title='Total Penjualan per Segmentasi Pelanggan',\n",
    "    labels={'Sales': 'Total Penjualan', 'Segment': 'Segmentasi'},\n",
    "    color='Segment',\n",
    "    text='Sales'\n",
    ")\n",
    "\n",
    "#Atur sumbu x dan y serta label\n",
    "fig5.update_traces(texttemplate='%{text:.2s}', textposition='outside')\n",
    "fig5.update_layout(\n",
    "    yaxis_title='Total Penjualan ($)',\n",
    "    xaxis_title='Segmentasi Pelanggan',\n",
    "    hovermode='x'\n",
    ")\n",
    "\n",
    "fig5.show()"
   ]
  },
  {
   "cell_type": "markdown",
   "id": "624206af",
   "metadata": {},
   "source": [
    "Berdasarkan hasil visualisasi dari diagram diatas, segmen home office berpotensi besar terkena dampak negatif dari perubahan perilaku pelanggan karena memiliki total penjualan rendah."
   ]
  },
  {
   "cell_type": "markdown",
   "id": "f6260c32",
   "metadata": {},
   "source": [
    "### 4. Apa indikator dari permasalahan yang muncul dari faktor perilaku pelanggan?"
   ]
  },
  {
   "cell_type": "code",
   "execution_count": null,
   "id": "566168c2",
   "metadata": {},
   "outputs": [
    {
     "data": {
      "application/vnd.plotly.v1+json": {
       "config": {
        "plotlyServerURL": "https://plot.ly"
       },
       "data": [
        {
         "hovertemplate": "Month=%{x}<br>Number of Orders=%{y}<extra></extra>",
         "legendgroup": "",
         "line": {
          "color": "#636efa",
          "dash": "solid"
         },
         "marker": {
          "symbol": "circle"
         },
         "mode": "lines",
         "name": "",
         "orientation": "v",
         "showlegend": false,
         "type": "scatter",
         "x": [
          "2015-01",
          "2015-02",
          "2015-03",
          "2015-04",
          "2015-05",
          "2015-06",
          "2015-07",
          "2015-08",
          "2015-09",
          "2015-10",
          "2015-11",
          "2015-12",
          "2016-01",
          "2016-02",
          "2016-03",
          "2016-04",
          "2016-05",
          "2016-06",
          "2016-07",
          "2016-08",
          "2016-09",
          "2016-10",
          "2016-11",
          "2016-12",
          "2017-01",
          "2017-02",
          "2017-03",
          "2017-04",
          "2017-05",
          "2017-06",
          "2017-07",
          "2017-08",
          "2017-09",
          "2017-10",
          "2017-11",
          "2017-12",
          "2018-01",
          "2018-02",
          "2018-03",
          "2018-04",
          "2018-05",
          "2018-06",
          "2018-07",
          "2018-08",
          "2018-09",
          "2018-10",
          "2018-11",
          "2018-12"
         ],
         "xaxis": "x",
         "y": [
          30,
          28,
          69,
          63,
          68,
          64,
          64,
          70,
          129,
          78,
          145,
          139,
          29,
          36,
          75,
          71,
          72,
          66,
          64,
          67,
          137,
          86,
          157,
          159,
          48,
          45,
          85,
          88,
          107,
          95,
          95,
          89,
          186,
          103,
          182,
          172,
          67,
          52,
          117,
          115,
          116,
          129,
          108,
          109,
          222,
          144,
          259,
          223
         ],
         "yaxis": "y"
        }
       ],
       "layout": {
        "legend": {
         "tracegroupgap": 0
        },
        "template": {
         "data": {
          "bar": [
           {
            "error_x": {
             "color": "#2a3f5f"
            },
            "error_y": {
             "color": "#2a3f5f"
            },
            "marker": {
             "line": {
              "color": "#E5ECF6",
              "width": 0.5
             },
             "pattern": {
              "fillmode": "overlay",
              "size": 10,
              "solidity": 0.2
             }
            },
            "type": "bar"
           }
          ],
          "barpolar": [
           {
            "marker": {
             "line": {
              "color": "#E5ECF6",
              "width": 0.5
             },
             "pattern": {
              "fillmode": "overlay",
              "size": 10,
              "solidity": 0.2
             }
            },
            "type": "barpolar"
           }
          ],
          "carpet": [
           {
            "aaxis": {
             "endlinecolor": "#2a3f5f",
             "gridcolor": "white",
             "linecolor": "white",
             "minorgridcolor": "white",
             "startlinecolor": "#2a3f5f"
            },
            "baxis": {
             "endlinecolor": "#2a3f5f",
             "gridcolor": "white",
             "linecolor": "white",
             "minorgridcolor": "white",
             "startlinecolor": "#2a3f5f"
            },
            "type": "carpet"
           }
          ],
          "choropleth": [
           {
            "colorbar": {
             "outlinewidth": 0,
             "ticks": ""
            },
            "type": "choropleth"
           }
          ],
          "contour": [
           {
            "colorbar": {
             "outlinewidth": 0,
             "ticks": ""
            },
            "colorscale": [
             [
              0,
              "#0d0887"
             ],
             [
              0.1111111111111111,
              "#46039f"
             ],
             [
              0.2222222222222222,
              "#7201a8"
             ],
             [
              0.3333333333333333,
              "#9c179e"
             ],
             [
              0.4444444444444444,
              "#bd3786"
             ],
             [
              0.5555555555555556,
              "#d8576b"
             ],
             [
              0.6666666666666666,
              "#ed7953"
             ],
             [
              0.7777777777777778,
              "#fb9f3a"
             ],
             [
              0.8888888888888888,
              "#fdca26"
             ],
             [
              1,
              "#f0f921"
             ]
            ],
            "type": "contour"
           }
          ],
          "contourcarpet": [
           {
            "colorbar": {
             "outlinewidth": 0,
             "ticks": ""
            },
            "type": "contourcarpet"
           }
          ],
          "heatmap": [
           {
            "colorbar": {
             "outlinewidth": 0,
             "ticks": ""
            },
            "colorscale": [
             [
              0,
              "#0d0887"
             ],
             [
              0.1111111111111111,
              "#46039f"
             ],
             [
              0.2222222222222222,
              "#7201a8"
             ],
             [
              0.3333333333333333,
              "#9c179e"
             ],
             [
              0.4444444444444444,
              "#bd3786"
             ],
             [
              0.5555555555555556,
              "#d8576b"
             ],
             [
              0.6666666666666666,
              "#ed7953"
             ],
             [
              0.7777777777777778,
              "#fb9f3a"
             ],
             [
              0.8888888888888888,
              "#fdca26"
             ],
             [
              1,
              "#f0f921"
             ]
            ],
            "type": "heatmap"
           }
          ],
          "heatmapgl": [
           {
            "colorbar": {
             "outlinewidth": 0,
             "ticks": ""
            },
            "colorscale": [
             [
              0,
              "#0d0887"
             ],
             [
              0.1111111111111111,
              "#46039f"
             ],
             [
              0.2222222222222222,
              "#7201a8"
             ],
             [
              0.3333333333333333,
              "#9c179e"
             ],
             [
              0.4444444444444444,
              "#bd3786"
             ],
             [
              0.5555555555555556,
              "#d8576b"
             ],
             [
              0.6666666666666666,
              "#ed7953"
             ],
             [
              0.7777777777777778,
              "#fb9f3a"
             ],
             [
              0.8888888888888888,
              "#fdca26"
             ],
             [
              1,
              "#f0f921"
             ]
            ],
            "type": "heatmapgl"
           }
          ],
          "histogram": [
           {
            "marker": {
             "pattern": {
              "fillmode": "overlay",
              "size": 10,
              "solidity": 0.2
             }
            },
            "type": "histogram"
           }
          ],
          "histogram2d": [
           {
            "colorbar": {
             "outlinewidth": 0,
             "ticks": ""
            },
            "colorscale": [
             [
              0,
              "#0d0887"
             ],
             [
              0.1111111111111111,
              "#46039f"
             ],
             [
              0.2222222222222222,
              "#7201a8"
             ],
             [
              0.3333333333333333,
              "#9c179e"
             ],
             [
              0.4444444444444444,
              "#bd3786"
             ],
             [
              0.5555555555555556,
              "#d8576b"
             ],
             [
              0.6666666666666666,
              "#ed7953"
             ],
             [
              0.7777777777777778,
              "#fb9f3a"
             ],
             [
              0.8888888888888888,
              "#fdca26"
             ],
             [
              1,
              "#f0f921"
             ]
            ],
            "type": "histogram2d"
           }
          ],
          "histogram2dcontour": [
           {
            "colorbar": {
             "outlinewidth": 0,
             "ticks": ""
            },
            "colorscale": [
             [
              0,
              "#0d0887"
             ],
             [
              0.1111111111111111,
              "#46039f"
             ],
             [
              0.2222222222222222,
              "#7201a8"
             ],
             [
              0.3333333333333333,
              "#9c179e"
             ],
             [
              0.4444444444444444,
              "#bd3786"
             ],
             [
              0.5555555555555556,
              "#d8576b"
             ],
             [
              0.6666666666666666,
              "#ed7953"
             ],
             [
              0.7777777777777778,
              "#fb9f3a"
             ],
             [
              0.8888888888888888,
              "#fdca26"
             ],
             [
              1,
              "#f0f921"
             ]
            ],
            "type": "histogram2dcontour"
           }
          ],
          "mesh3d": [
           {
            "colorbar": {
             "outlinewidth": 0,
             "ticks": ""
            },
            "type": "mesh3d"
           }
          ],
          "parcoords": [
           {
            "line": {
             "colorbar": {
              "outlinewidth": 0,
              "ticks": ""
             }
            },
            "type": "parcoords"
           }
          ],
          "pie": [
           {
            "automargin": true,
            "type": "pie"
           }
          ],
          "scatter": [
           {
            "fillpattern": {
             "fillmode": "overlay",
             "size": 10,
             "solidity": 0.2
            },
            "type": "scatter"
           }
          ],
          "scatter3d": [
           {
            "line": {
             "colorbar": {
              "outlinewidth": 0,
              "ticks": ""
             }
            },
            "marker": {
             "colorbar": {
              "outlinewidth": 0,
              "ticks": ""
             }
            },
            "type": "scatter3d"
           }
          ],
          "scattercarpet": [
           {
            "marker": {
             "colorbar": {
              "outlinewidth": 0,
              "ticks": ""
             }
            },
            "type": "scattercarpet"
           }
          ],
          "scattergeo": [
           {
            "marker": {
             "colorbar": {
              "outlinewidth": 0,
              "ticks": ""
             }
            },
            "type": "scattergeo"
           }
          ],
          "scattergl": [
           {
            "marker": {
             "colorbar": {
              "outlinewidth": 0,
              "ticks": ""
             }
            },
            "type": "scattergl"
           }
          ],
          "scattermapbox": [
           {
            "marker": {
             "colorbar": {
              "outlinewidth": 0,
              "ticks": ""
             }
            },
            "type": "scattermapbox"
           }
          ],
          "scatterpolar": [
           {
            "marker": {
             "colorbar": {
              "outlinewidth": 0,
              "ticks": ""
             }
            },
            "type": "scatterpolar"
           }
          ],
          "scatterpolargl": [
           {
            "marker": {
             "colorbar": {
              "outlinewidth": 0,
              "ticks": ""
             }
            },
            "type": "scatterpolargl"
           }
          ],
          "scatterternary": [
           {
            "marker": {
             "colorbar": {
              "outlinewidth": 0,
              "ticks": ""
             }
            },
            "type": "scatterternary"
           }
          ],
          "surface": [
           {
            "colorbar": {
             "outlinewidth": 0,
             "ticks": ""
            },
            "colorscale": [
             [
              0,
              "#0d0887"
             ],
             [
              0.1111111111111111,
              "#46039f"
             ],
             [
              0.2222222222222222,
              "#7201a8"
             ],
             [
              0.3333333333333333,
              "#9c179e"
             ],
             [
              0.4444444444444444,
              "#bd3786"
             ],
             [
              0.5555555555555556,
              "#d8576b"
             ],
             [
              0.6666666666666666,
              "#ed7953"
             ],
             [
              0.7777777777777778,
              "#fb9f3a"
             ],
             [
              0.8888888888888888,
              "#fdca26"
             ],
             [
              1,
              "#f0f921"
             ]
            ],
            "type": "surface"
           }
          ],
          "table": [
           {
            "cells": {
             "fill": {
              "color": "#EBF0F8"
             },
             "line": {
              "color": "white"
             }
            },
            "header": {
             "fill": {
              "color": "#C8D4E3"
             },
             "line": {
              "color": "white"
             }
            },
            "type": "table"
           }
          ]
         },
         "layout": {
          "annotationdefaults": {
           "arrowcolor": "#2a3f5f",
           "arrowhead": 0,
           "arrowwidth": 1
          },
          "autotypenumbers": "strict",
          "coloraxis": {
           "colorbar": {
            "outlinewidth": 0,
            "ticks": ""
           }
          },
          "colorscale": {
           "diverging": [
            [
             0,
             "#8e0152"
            ],
            [
             0.1,
             "#c51b7d"
            ],
            [
             0.2,
             "#de77ae"
            ],
            [
             0.3,
             "#f1b6da"
            ],
            [
             0.4,
             "#fde0ef"
            ],
            [
             0.5,
             "#f7f7f7"
            ],
            [
             0.6,
             "#e6f5d0"
            ],
            [
             0.7,
             "#b8e186"
            ],
            [
             0.8,
             "#7fbc41"
            ],
            [
             0.9,
             "#4d9221"
            ],
            [
             1,
             "#276419"
            ]
           ],
           "sequential": [
            [
             0,
             "#0d0887"
            ],
            [
             0.1111111111111111,
             "#46039f"
            ],
            [
             0.2222222222222222,
             "#7201a8"
            ],
            [
             0.3333333333333333,
             "#9c179e"
            ],
            [
             0.4444444444444444,
             "#bd3786"
            ],
            [
             0.5555555555555556,
             "#d8576b"
            ],
            [
             0.6666666666666666,
             "#ed7953"
            ],
            [
             0.7777777777777778,
             "#fb9f3a"
            ],
            [
             0.8888888888888888,
             "#fdca26"
            ],
            [
             1,
             "#f0f921"
            ]
           ],
           "sequentialminus": [
            [
             0,
             "#0d0887"
            ],
            [
             0.1111111111111111,
             "#46039f"
            ],
            [
             0.2222222222222222,
             "#7201a8"
            ],
            [
             0.3333333333333333,
             "#9c179e"
            ],
            [
             0.4444444444444444,
             "#bd3786"
            ],
            [
             0.5555555555555556,
             "#d8576b"
            ],
            [
             0.6666666666666666,
             "#ed7953"
            ],
            [
             0.7777777777777778,
             "#fb9f3a"
            ],
            [
             0.8888888888888888,
             "#fdca26"
            ],
            [
             1,
             "#f0f921"
            ]
           ]
          },
          "colorway": [
           "#636efa",
           "#EF553B",
           "#00cc96",
           "#ab63fa",
           "#FFA15A",
           "#19d3f3",
           "#FF6692",
           "#B6E880",
           "#FF97FF",
           "#FECB52"
          ],
          "font": {
           "color": "#2a3f5f"
          },
          "geo": {
           "bgcolor": "white",
           "lakecolor": "white",
           "landcolor": "#E5ECF6",
           "showlakes": true,
           "showland": true,
           "subunitcolor": "white"
          },
          "hoverlabel": {
           "align": "left"
          },
          "hovermode": "closest",
          "mapbox": {
           "style": "light"
          },
          "paper_bgcolor": "white",
          "plot_bgcolor": "#E5ECF6",
          "polar": {
           "angularaxis": {
            "gridcolor": "white",
            "linecolor": "white",
            "ticks": ""
           },
           "bgcolor": "#E5ECF6",
           "radialaxis": {
            "gridcolor": "white",
            "linecolor": "white",
            "ticks": ""
           }
          },
          "scene": {
           "xaxis": {
            "backgroundcolor": "#E5ECF6",
            "gridcolor": "white",
            "gridwidth": 2,
            "linecolor": "white",
            "showbackground": true,
            "ticks": "",
            "zerolinecolor": "white"
           },
           "yaxis": {
            "backgroundcolor": "#E5ECF6",
            "gridcolor": "white",
            "gridwidth": 2,
            "linecolor": "white",
            "showbackground": true,
            "ticks": "",
            "zerolinecolor": "white"
           },
           "zaxis": {
            "backgroundcolor": "#E5ECF6",
            "gridcolor": "white",
            "gridwidth": 2,
            "linecolor": "white",
            "showbackground": true,
            "ticks": "",
            "zerolinecolor": "white"
           }
          },
          "shapedefaults": {
           "line": {
            "color": "#2a3f5f"
           }
          },
          "ternary": {
           "aaxis": {
            "gridcolor": "white",
            "linecolor": "white",
            "ticks": ""
           },
           "baxis": {
            "gridcolor": "white",
            "linecolor": "white",
            "ticks": ""
           },
           "bgcolor": "#E5ECF6",
           "caxis": {
            "gridcolor": "white",
            "linecolor": "white",
            "ticks": ""
           }
          },
          "title": {
           "x": 0.05
          },
          "xaxis": {
           "automargin": true,
           "gridcolor": "white",
           "linecolor": "white",
           "ticks": "",
           "title": {
            "standoff": 15
           },
           "zerolinecolor": "white",
           "zerolinewidth": 2
          },
          "yaxis": {
           "automargin": true,
           "gridcolor": "white",
           "linecolor": "white",
           "ticks": "",
           "title": {
            "standoff": 15
           },
           "zerolinecolor": "white",
           "zerolinewidth": 2
          }
         }
        },
        "title": {
         "text": "Tren Pesanan Bulanan"
        },
        "xaxis": {
         "anchor": "y",
         "domain": [
          0,
          1
         ],
         "title": {
          "text": "Month"
         }
        },
        "yaxis": {
         "anchor": "x",
         "domain": [
          0,
          1
         ],
         "title": {
          "text": "Number of Orders"
         }
        }
       }
      }
     },
     "metadata": {},
     "output_type": "display_data"
    }
   ],
   "source": [
    "df['Order Month'] = df['Order Date'].dt.to_period('M').astype(str)\n",
    "monthly_orders = df.groupby('Order Month')['Order ID'].nunique().reset_index()\n",
    "fig6 = px.line(monthly_orders, x='Order Month', y='Order ID',\n",
    "              title='Tren Pesanan Bulanan',\n",
    "              labels={'Order ID': 'Number of Orders', 'Order Month': 'Month'})\n",
    "fig6.show()\n"
   ]
  },
  {
   "cell_type": "markdown",
   "id": "1c0bb03a",
   "metadata": {},
   "source": [
    "Berikut adalah line chart untuk order bulanan. Dari visualisasi diatas, kenaikan garis menandakan bahwa pemesanan sedang tinggi di bulan tersebut, begitupun sebaliknya jika garis turun maka menandakan kalau tren pesanan ikut turun. Selain itu, fluktuasi pada chart dapat memaparkan periode ketidakstabilan permintaan barang."
   ]
  },
  {
   "cell_type": "code",
   "execution_count": null,
   "id": "72dcce39",
   "metadata": {},
   "outputs": [
    {
     "data": {
      "application/vnd.plotly.v1+json": {
       "config": {
        "plotlyServerURL": "https://plot.ly"
       },
       "data": [
        {
         "alignmentgroup": "True",
         "hovertemplate": "Ship Mode=%{x}<br>Total Sales ($)=%{y}<extra></extra>",
         "legendgroup": "",
         "marker": {
          "color": "#636efa",
          "pattern": {
           "shape": ""
          }
         },
         "name": "",
         "offsetgroup": "",
         "orientation": "v",
         "showlegend": false,
         "textposition": "auto",
         "type": "bar",
         "x": [
          "First Class",
          "Same Day",
          "Second Class",
          "Standard Class"
         ],
         "xaxis": "x",
         "y": [
          345572.15,
          125219,
          449914,
          1340831.4
         ],
         "yaxis": "y"
        }
       ],
       "layout": {
        "barmode": "relative",
        "legend": {
         "tracegroupgap": 0
        },
        "template": {
         "data": {
          "bar": [
           {
            "error_x": {
             "color": "#2a3f5f"
            },
            "error_y": {
             "color": "#2a3f5f"
            },
            "marker": {
             "line": {
              "color": "#E5ECF6",
              "width": 0.5
             },
             "pattern": {
              "fillmode": "overlay",
              "size": 10,
              "solidity": 0.2
             }
            },
            "type": "bar"
           }
          ],
          "barpolar": [
           {
            "marker": {
             "line": {
              "color": "#E5ECF6",
              "width": 0.5
             },
             "pattern": {
              "fillmode": "overlay",
              "size": 10,
              "solidity": 0.2
             }
            },
            "type": "barpolar"
           }
          ],
          "carpet": [
           {
            "aaxis": {
             "endlinecolor": "#2a3f5f",
             "gridcolor": "white",
             "linecolor": "white",
             "minorgridcolor": "white",
             "startlinecolor": "#2a3f5f"
            },
            "baxis": {
             "endlinecolor": "#2a3f5f",
             "gridcolor": "white",
             "linecolor": "white",
             "minorgridcolor": "white",
             "startlinecolor": "#2a3f5f"
            },
            "type": "carpet"
           }
          ],
          "choropleth": [
           {
            "colorbar": {
             "outlinewidth": 0,
             "ticks": ""
            },
            "type": "choropleth"
           }
          ],
          "contour": [
           {
            "colorbar": {
             "outlinewidth": 0,
             "ticks": ""
            },
            "colorscale": [
             [
              0,
              "#0d0887"
             ],
             [
              0.1111111111111111,
              "#46039f"
             ],
             [
              0.2222222222222222,
              "#7201a8"
             ],
             [
              0.3333333333333333,
              "#9c179e"
             ],
             [
              0.4444444444444444,
              "#bd3786"
             ],
             [
              0.5555555555555556,
              "#d8576b"
             ],
             [
              0.6666666666666666,
              "#ed7953"
             ],
             [
              0.7777777777777778,
              "#fb9f3a"
             ],
             [
              0.8888888888888888,
              "#fdca26"
             ],
             [
              1,
              "#f0f921"
             ]
            ],
            "type": "contour"
           }
          ],
          "contourcarpet": [
           {
            "colorbar": {
             "outlinewidth": 0,
             "ticks": ""
            },
            "type": "contourcarpet"
           }
          ],
          "heatmap": [
           {
            "colorbar": {
             "outlinewidth": 0,
             "ticks": ""
            },
            "colorscale": [
             [
              0,
              "#0d0887"
             ],
             [
              0.1111111111111111,
              "#46039f"
             ],
             [
              0.2222222222222222,
              "#7201a8"
             ],
             [
              0.3333333333333333,
              "#9c179e"
             ],
             [
              0.4444444444444444,
              "#bd3786"
             ],
             [
              0.5555555555555556,
              "#d8576b"
             ],
             [
              0.6666666666666666,
              "#ed7953"
             ],
             [
              0.7777777777777778,
              "#fb9f3a"
             ],
             [
              0.8888888888888888,
              "#fdca26"
             ],
             [
              1,
              "#f0f921"
             ]
            ],
            "type": "heatmap"
           }
          ],
          "heatmapgl": [
           {
            "colorbar": {
             "outlinewidth": 0,
             "ticks": ""
            },
            "colorscale": [
             [
              0,
              "#0d0887"
             ],
             [
              0.1111111111111111,
              "#46039f"
             ],
             [
              0.2222222222222222,
              "#7201a8"
             ],
             [
              0.3333333333333333,
              "#9c179e"
             ],
             [
              0.4444444444444444,
              "#bd3786"
             ],
             [
              0.5555555555555556,
              "#d8576b"
             ],
             [
              0.6666666666666666,
              "#ed7953"
             ],
             [
              0.7777777777777778,
              "#fb9f3a"
             ],
             [
              0.8888888888888888,
              "#fdca26"
             ],
             [
              1,
              "#f0f921"
             ]
            ],
            "type": "heatmapgl"
           }
          ],
          "histogram": [
           {
            "marker": {
             "pattern": {
              "fillmode": "overlay",
              "size": 10,
              "solidity": 0.2
             }
            },
            "type": "histogram"
           }
          ],
          "histogram2d": [
           {
            "colorbar": {
             "outlinewidth": 0,
             "ticks": ""
            },
            "colorscale": [
             [
              0,
              "#0d0887"
             ],
             [
              0.1111111111111111,
              "#46039f"
             ],
             [
              0.2222222222222222,
              "#7201a8"
             ],
             [
              0.3333333333333333,
              "#9c179e"
             ],
             [
              0.4444444444444444,
              "#bd3786"
             ],
             [
              0.5555555555555556,
              "#d8576b"
             ],
             [
              0.6666666666666666,
              "#ed7953"
             ],
             [
              0.7777777777777778,
              "#fb9f3a"
             ],
             [
              0.8888888888888888,
              "#fdca26"
             ],
             [
              1,
              "#f0f921"
             ]
            ],
            "type": "histogram2d"
           }
          ],
          "histogram2dcontour": [
           {
            "colorbar": {
             "outlinewidth": 0,
             "ticks": ""
            },
            "colorscale": [
             [
              0,
              "#0d0887"
             ],
             [
              0.1111111111111111,
              "#46039f"
             ],
             [
              0.2222222222222222,
              "#7201a8"
             ],
             [
              0.3333333333333333,
              "#9c179e"
             ],
             [
              0.4444444444444444,
              "#bd3786"
             ],
             [
              0.5555555555555556,
              "#d8576b"
             ],
             [
              0.6666666666666666,
              "#ed7953"
             ],
             [
              0.7777777777777778,
              "#fb9f3a"
             ],
             [
              0.8888888888888888,
              "#fdca26"
             ],
             [
              1,
              "#f0f921"
             ]
            ],
            "type": "histogram2dcontour"
           }
          ],
          "mesh3d": [
           {
            "colorbar": {
             "outlinewidth": 0,
             "ticks": ""
            },
            "type": "mesh3d"
           }
          ],
          "parcoords": [
           {
            "line": {
             "colorbar": {
              "outlinewidth": 0,
              "ticks": ""
             }
            },
            "type": "parcoords"
           }
          ],
          "pie": [
           {
            "automargin": true,
            "type": "pie"
           }
          ],
          "scatter": [
           {
            "fillpattern": {
             "fillmode": "overlay",
             "size": 10,
             "solidity": 0.2
            },
            "type": "scatter"
           }
          ],
          "scatter3d": [
           {
            "line": {
             "colorbar": {
              "outlinewidth": 0,
              "ticks": ""
             }
            },
            "marker": {
             "colorbar": {
              "outlinewidth": 0,
              "ticks": ""
             }
            },
            "type": "scatter3d"
           }
          ],
          "scattercarpet": [
           {
            "marker": {
             "colorbar": {
              "outlinewidth": 0,
              "ticks": ""
             }
            },
            "type": "scattercarpet"
           }
          ],
          "scattergeo": [
           {
            "marker": {
             "colorbar": {
              "outlinewidth": 0,
              "ticks": ""
             }
            },
            "type": "scattergeo"
           }
          ],
          "scattergl": [
           {
            "marker": {
             "colorbar": {
              "outlinewidth": 0,
              "ticks": ""
             }
            },
            "type": "scattergl"
           }
          ],
          "scattermapbox": [
           {
            "marker": {
             "colorbar": {
              "outlinewidth": 0,
              "ticks": ""
             }
            },
            "type": "scattermapbox"
           }
          ],
          "scatterpolar": [
           {
            "marker": {
             "colorbar": {
              "outlinewidth": 0,
              "ticks": ""
             }
            },
            "type": "scatterpolar"
           }
          ],
          "scatterpolargl": [
           {
            "marker": {
             "colorbar": {
              "outlinewidth": 0,
              "ticks": ""
             }
            },
            "type": "scatterpolargl"
           }
          ],
          "scatterternary": [
           {
            "marker": {
             "colorbar": {
              "outlinewidth": 0,
              "ticks": ""
             }
            },
            "type": "scatterternary"
           }
          ],
          "surface": [
           {
            "colorbar": {
             "outlinewidth": 0,
             "ticks": ""
            },
            "colorscale": [
             [
              0,
              "#0d0887"
             ],
             [
              0.1111111111111111,
              "#46039f"
             ],
             [
              0.2222222222222222,
              "#7201a8"
             ],
             [
              0.3333333333333333,
              "#9c179e"
             ],
             [
              0.4444444444444444,
              "#bd3786"
             ],
             [
              0.5555555555555556,
              "#d8576b"
             ],
             [
              0.6666666666666666,
              "#ed7953"
             ],
             [
              0.7777777777777778,
              "#fb9f3a"
             ],
             [
              0.8888888888888888,
              "#fdca26"
             ],
             [
              1,
              "#f0f921"
             ]
            ],
            "type": "surface"
           }
          ],
          "table": [
           {
            "cells": {
             "fill": {
              "color": "#EBF0F8"
             },
             "line": {
              "color": "white"
             }
            },
            "header": {
             "fill": {
              "color": "#C8D4E3"
             },
             "line": {
              "color": "white"
             }
            },
            "type": "table"
           }
          ]
         },
         "layout": {
          "annotationdefaults": {
           "arrowcolor": "#2a3f5f",
           "arrowhead": 0,
           "arrowwidth": 1
          },
          "autotypenumbers": "strict",
          "coloraxis": {
           "colorbar": {
            "outlinewidth": 0,
            "ticks": ""
           }
          },
          "colorscale": {
           "diverging": [
            [
             0,
             "#8e0152"
            ],
            [
             0.1,
             "#c51b7d"
            ],
            [
             0.2,
             "#de77ae"
            ],
            [
             0.3,
             "#f1b6da"
            ],
            [
             0.4,
             "#fde0ef"
            ],
            [
             0.5,
             "#f7f7f7"
            ],
            [
             0.6,
             "#e6f5d0"
            ],
            [
             0.7,
             "#b8e186"
            ],
            [
             0.8,
             "#7fbc41"
            ],
            [
             0.9,
             "#4d9221"
            ],
            [
             1,
             "#276419"
            ]
           ],
           "sequential": [
            [
             0,
             "#0d0887"
            ],
            [
             0.1111111111111111,
             "#46039f"
            ],
            [
             0.2222222222222222,
             "#7201a8"
            ],
            [
             0.3333333333333333,
             "#9c179e"
            ],
            [
             0.4444444444444444,
             "#bd3786"
            ],
            [
             0.5555555555555556,
             "#d8576b"
            ],
            [
             0.6666666666666666,
             "#ed7953"
            ],
            [
             0.7777777777777778,
             "#fb9f3a"
            ],
            [
             0.8888888888888888,
             "#fdca26"
            ],
            [
             1,
             "#f0f921"
            ]
           ],
           "sequentialminus": [
            [
             0,
             "#0d0887"
            ],
            [
             0.1111111111111111,
             "#46039f"
            ],
            [
             0.2222222222222222,
             "#7201a8"
            ],
            [
             0.3333333333333333,
             "#9c179e"
            ],
            [
             0.4444444444444444,
             "#bd3786"
            ],
            [
             0.5555555555555556,
             "#d8576b"
            ],
            [
             0.6666666666666666,
             "#ed7953"
            ],
            [
             0.7777777777777778,
             "#fb9f3a"
            ],
            [
             0.8888888888888888,
             "#fdca26"
            ],
            [
             1,
             "#f0f921"
            ]
           ]
          },
          "colorway": [
           "#636efa",
           "#EF553B",
           "#00cc96",
           "#ab63fa",
           "#FFA15A",
           "#19d3f3",
           "#FF6692",
           "#B6E880",
           "#FF97FF",
           "#FECB52"
          ],
          "font": {
           "color": "#2a3f5f"
          },
          "geo": {
           "bgcolor": "white",
           "lakecolor": "white",
           "landcolor": "#E5ECF6",
           "showlakes": true,
           "showland": true,
           "subunitcolor": "white"
          },
          "hoverlabel": {
           "align": "left"
          },
          "hovermode": "closest",
          "mapbox": {
           "style": "light"
          },
          "paper_bgcolor": "white",
          "plot_bgcolor": "#E5ECF6",
          "polar": {
           "angularaxis": {
            "gridcolor": "white",
            "linecolor": "white",
            "ticks": ""
           },
           "bgcolor": "#E5ECF6",
           "radialaxis": {
            "gridcolor": "white",
            "linecolor": "white",
            "ticks": ""
           }
          },
          "scene": {
           "xaxis": {
            "backgroundcolor": "#E5ECF6",
            "gridcolor": "white",
            "gridwidth": 2,
            "linecolor": "white",
            "showbackground": true,
            "ticks": "",
            "zerolinecolor": "white"
           },
           "yaxis": {
            "backgroundcolor": "#E5ECF6",
            "gridcolor": "white",
            "gridwidth": 2,
            "linecolor": "white",
            "showbackground": true,
            "ticks": "",
            "zerolinecolor": "white"
           },
           "zaxis": {
            "backgroundcolor": "#E5ECF6",
            "gridcolor": "white",
            "gridwidth": 2,
            "linecolor": "white",
            "showbackground": true,
            "ticks": "",
            "zerolinecolor": "white"
           }
          },
          "shapedefaults": {
           "line": {
            "color": "#2a3f5f"
           }
          },
          "ternary": {
           "aaxis": {
            "gridcolor": "white",
            "linecolor": "white",
            "ticks": ""
           },
           "baxis": {
            "gridcolor": "white",
            "linecolor": "white",
            "ticks": ""
           },
           "bgcolor": "#E5ECF6",
           "caxis": {
            "gridcolor": "white",
            "linecolor": "white",
            "ticks": ""
           }
          },
          "title": {
           "x": 0.05
          },
          "xaxis": {
           "automargin": true,
           "gridcolor": "white",
           "linecolor": "white",
           "ticks": "",
           "title": {
            "standoff": 15
           },
           "zerolinecolor": "white",
           "zerolinewidth": 2
          },
          "yaxis": {
           "automargin": true,
           "gridcolor": "white",
           "linecolor": "white",
           "ticks": "",
           "title": {
            "standoff": 15
           },
           "zerolinecolor": "white",
           "zerolinewidth": 2
          }
         }
        },
        "title": {
         "text": "Total Penjualan Berdasarkan Mode Pengiriman"
        },
        "xaxis": {
         "anchor": "y",
         "domain": [
          0,
          1
         ],
         "title": {
          "text": "Ship Mode"
         }
        },
        "yaxis": {
         "anchor": "x",
         "domain": [
          0,
          1
         ],
         "title": {
          "text": "Total Sales ($)"
         }
        }
       }
      }
     },
     "metadata": {},
     "output_type": "display_data"
    }
   ],
   "source": [
    "ship_mode = df.groupby('Ship Mode')['Sales'].agg(['sum', 'count']).reset_index()\n",
    "fig7 = px.bar(ship_mode, x='Ship Mode', y='sum',\n",
    "             title='Total Penjualan Berdasarkan Mode Pengiriman',\n",
    "             labels={'sum': 'Total Sales ($)'})\n",
    "fig7.show()"
   ]
  },
  {
   "cell_type": "markdown",
   "id": "88106597",
   "metadata": {},
   "source": [
    "Insight yang dapat diambil dari grafik diatas adalah mode pengiriman yang paling sering digunakan adalah standard class. Hal ini bisa terjadi karena standard class merupakan tipe pengiriman reguler dengan harga yang jauh lebih terjangkau dari tipe pengiriman class lainnya. "
   ]
  },
  {
   "cell_type": "markdown",
   "id": "027cb894",
   "metadata": {},
   "source": [
    "### 5. Divisi mana saja yang berpotensi terkena dampak penurunan penjualan akibat perilaku pelanggan?"
   ]
  },
  {
   "cell_type": "code",
   "execution_count": null,
   "id": "d24d3dff",
   "metadata": {},
   "outputs": [
    {
     "data": {
      "application/vnd.plotly.v1+json": {
       "config": {
        "plotlyServerURL": "https://plot.ly"
       },
       "data": [
        {
         "branchvalues": "total",
         "domain": {
          "x": [
           0,
           1
          ],
          "y": [
           0,
           1
          ]
         },
         "hovertemplate": "labels=%{label}<br>Sales=%{value}<br>parent=%{parent}<br>id=%{id}<extra></extra>",
         "ids": [
          "Technology/Accessories",
          "Office Supplies/Appliances",
          "Office Supplies/Art",
          "Office Supplies/Binders",
          "Furniture/Bookcases",
          "Furniture/Chairs",
          "Technology/Copiers",
          "Office Supplies/Envelopes",
          "Office Supplies/Fasteners",
          "Furniture/Furnishings",
          "Office Supplies/Labels",
          "Technology/Machines",
          "Office Supplies/Paper",
          "Technology/Phones",
          "Office Supplies/Storage",
          "Office Supplies/Supplies",
          "Furniture/Tables",
          "Furniture",
          "Office Supplies",
          "Technology"
         ],
         "labels": [
          "Accessories",
          "Appliances",
          "Art",
          "Binders",
          "Bookcases",
          "Chairs",
          "Copiers",
          "Envelopes",
          "Fasteners",
          "Furnishings",
          "Labels",
          "Machines",
          "Paper",
          "Phones",
          "Storage",
          "Supplies",
          "Tables",
          "Furniture",
          "Office Supplies",
          "Technology"
         ],
         "name": "",
         "parents": [
          "Technology",
          "Office Supplies",
          "Office Supplies",
          "Office Supplies",
          "Furniture",
          "Furniture",
          "Technology",
          "Office Supplies",
          "Office Supplies",
          "Furniture",
          "Office Supplies",
          "Technology",
          "Office Supplies",
          "Technology",
          "Office Supplies",
          "Office Supplies",
          "Furniture",
          "",
          "",
          ""
         ],
         "type": "treemap",
         "values": [
          164186.7,
          104618.38,
          26705.42,
          200028.73,
          113813.18,
          322822.72,
          146248.07,
          16128.02,
          3001.93,
          89211.98,
          12347.71,
          189238.6,
          76828.34,
          327782.49,
          219343.37,
          46420.29,
          202810.62,
          728658.5,
          705422.1900000001,
          827455.86
         ]
        }
       ],
       "layout": {
        "legend": {
         "tracegroupgap": 0
        },
        "template": {
         "data": {
          "bar": [
           {
            "error_x": {
             "color": "#2a3f5f"
            },
            "error_y": {
             "color": "#2a3f5f"
            },
            "marker": {
             "line": {
              "color": "#E5ECF6",
              "width": 0.5
             },
             "pattern": {
              "fillmode": "overlay",
              "size": 10,
              "solidity": 0.2
             }
            },
            "type": "bar"
           }
          ],
          "barpolar": [
           {
            "marker": {
             "line": {
              "color": "#E5ECF6",
              "width": 0.5
             },
             "pattern": {
              "fillmode": "overlay",
              "size": 10,
              "solidity": 0.2
             }
            },
            "type": "barpolar"
           }
          ],
          "carpet": [
           {
            "aaxis": {
             "endlinecolor": "#2a3f5f",
             "gridcolor": "white",
             "linecolor": "white",
             "minorgridcolor": "white",
             "startlinecolor": "#2a3f5f"
            },
            "baxis": {
             "endlinecolor": "#2a3f5f",
             "gridcolor": "white",
             "linecolor": "white",
             "minorgridcolor": "white",
             "startlinecolor": "#2a3f5f"
            },
            "type": "carpet"
           }
          ],
          "choropleth": [
           {
            "colorbar": {
             "outlinewidth": 0,
             "ticks": ""
            },
            "type": "choropleth"
           }
          ],
          "contour": [
           {
            "colorbar": {
             "outlinewidth": 0,
             "ticks": ""
            },
            "colorscale": [
             [
              0,
              "#0d0887"
             ],
             [
              0.1111111111111111,
              "#46039f"
             ],
             [
              0.2222222222222222,
              "#7201a8"
             ],
             [
              0.3333333333333333,
              "#9c179e"
             ],
             [
              0.4444444444444444,
              "#bd3786"
             ],
             [
              0.5555555555555556,
              "#d8576b"
             ],
             [
              0.6666666666666666,
              "#ed7953"
             ],
             [
              0.7777777777777778,
              "#fb9f3a"
             ],
             [
              0.8888888888888888,
              "#fdca26"
             ],
             [
              1,
              "#f0f921"
             ]
            ],
            "type": "contour"
           }
          ],
          "contourcarpet": [
           {
            "colorbar": {
             "outlinewidth": 0,
             "ticks": ""
            },
            "type": "contourcarpet"
           }
          ],
          "heatmap": [
           {
            "colorbar": {
             "outlinewidth": 0,
             "ticks": ""
            },
            "colorscale": [
             [
              0,
              "#0d0887"
             ],
             [
              0.1111111111111111,
              "#46039f"
             ],
             [
              0.2222222222222222,
              "#7201a8"
             ],
             [
              0.3333333333333333,
              "#9c179e"
             ],
             [
              0.4444444444444444,
              "#bd3786"
             ],
             [
              0.5555555555555556,
              "#d8576b"
             ],
             [
              0.6666666666666666,
              "#ed7953"
             ],
             [
              0.7777777777777778,
              "#fb9f3a"
             ],
             [
              0.8888888888888888,
              "#fdca26"
             ],
             [
              1,
              "#f0f921"
             ]
            ],
            "type": "heatmap"
           }
          ],
          "heatmapgl": [
           {
            "colorbar": {
             "outlinewidth": 0,
             "ticks": ""
            },
            "colorscale": [
             [
              0,
              "#0d0887"
             ],
             [
              0.1111111111111111,
              "#46039f"
             ],
             [
              0.2222222222222222,
              "#7201a8"
             ],
             [
              0.3333333333333333,
              "#9c179e"
             ],
             [
              0.4444444444444444,
              "#bd3786"
             ],
             [
              0.5555555555555556,
              "#d8576b"
             ],
             [
              0.6666666666666666,
              "#ed7953"
             ],
             [
              0.7777777777777778,
              "#fb9f3a"
             ],
             [
              0.8888888888888888,
              "#fdca26"
             ],
             [
              1,
              "#f0f921"
             ]
            ],
            "type": "heatmapgl"
           }
          ],
          "histogram": [
           {
            "marker": {
             "pattern": {
              "fillmode": "overlay",
              "size": 10,
              "solidity": 0.2
             }
            },
            "type": "histogram"
           }
          ],
          "histogram2d": [
           {
            "colorbar": {
             "outlinewidth": 0,
             "ticks": ""
            },
            "colorscale": [
             [
              0,
              "#0d0887"
             ],
             [
              0.1111111111111111,
              "#46039f"
             ],
             [
              0.2222222222222222,
              "#7201a8"
             ],
             [
              0.3333333333333333,
              "#9c179e"
             ],
             [
              0.4444444444444444,
              "#bd3786"
             ],
             [
              0.5555555555555556,
              "#d8576b"
             ],
             [
              0.6666666666666666,
              "#ed7953"
             ],
             [
              0.7777777777777778,
              "#fb9f3a"
             ],
             [
              0.8888888888888888,
              "#fdca26"
             ],
             [
              1,
              "#f0f921"
             ]
            ],
            "type": "histogram2d"
           }
          ],
          "histogram2dcontour": [
           {
            "colorbar": {
             "outlinewidth": 0,
             "ticks": ""
            },
            "colorscale": [
             [
              0,
              "#0d0887"
             ],
             [
              0.1111111111111111,
              "#46039f"
             ],
             [
              0.2222222222222222,
              "#7201a8"
             ],
             [
              0.3333333333333333,
              "#9c179e"
             ],
             [
              0.4444444444444444,
              "#bd3786"
             ],
             [
              0.5555555555555556,
              "#d8576b"
             ],
             [
              0.6666666666666666,
              "#ed7953"
             ],
             [
              0.7777777777777778,
              "#fb9f3a"
             ],
             [
              0.8888888888888888,
              "#fdca26"
             ],
             [
              1,
              "#f0f921"
             ]
            ],
            "type": "histogram2dcontour"
           }
          ],
          "mesh3d": [
           {
            "colorbar": {
             "outlinewidth": 0,
             "ticks": ""
            },
            "type": "mesh3d"
           }
          ],
          "parcoords": [
           {
            "line": {
             "colorbar": {
              "outlinewidth": 0,
              "ticks": ""
             }
            },
            "type": "parcoords"
           }
          ],
          "pie": [
           {
            "automargin": true,
            "type": "pie"
           }
          ],
          "scatter": [
           {
            "fillpattern": {
             "fillmode": "overlay",
             "size": 10,
             "solidity": 0.2
            },
            "type": "scatter"
           }
          ],
          "scatter3d": [
           {
            "line": {
             "colorbar": {
              "outlinewidth": 0,
              "ticks": ""
             }
            },
            "marker": {
             "colorbar": {
              "outlinewidth": 0,
              "ticks": ""
             }
            },
            "type": "scatter3d"
           }
          ],
          "scattercarpet": [
           {
            "marker": {
             "colorbar": {
              "outlinewidth": 0,
              "ticks": ""
             }
            },
            "type": "scattercarpet"
           }
          ],
          "scattergeo": [
           {
            "marker": {
             "colorbar": {
              "outlinewidth": 0,
              "ticks": ""
             }
            },
            "type": "scattergeo"
           }
          ],
          "scattergl": [
           {
            "marker": {
             "colorbar": {
              "outlinewidth": 0,
              "ticks": ""
             }
            },
            "type": "scattergl"
           }
          ],
          "scattermapbox": [
           {
            "marker": {
             "colorbar": {
              "outlinewidth": 0,
              "ticks": ""
             }
            },
            "type": "scattermapbox"
           }
          ],
          "scatterpolar": [
           {
            "marker": {
             "colorbar": {
              "outlinewidth": 0,
              "ticks": ""
             }
            },
            "type": "scatterpolar"
           }
          ],
          "scatterpolargl": [
           {
            "marker": {
             "colorbar": {
              "outlinewidth": 0,
              "ticks": ""
             }
            },
            "type": "scatterpolargl"
           }
          ],
          "scatterternary": [
           {
            "marker": {
             "colorbar": {
              "outlinewidth": 0,
              "ticks": ""
             }
            },
            "type": "scatterternary"
           }
          ],
          "surface": [
           {
            "colorbar": {
             "outlinewidth": 0,
             "ticks": ""
            },
            "colorscale": [
             [
              0,
              "#0d0887"
             ],
             [
              0.1111111111111111,
              "#46039f"
             ],
             [
              0.2222222222222222,
              "#7201a8"
             ],
             [
              0.3333333333333333,
              "#9c179e"
             ],
             [
              0.4444444444444444,
              "#bd3786"
             ],
             [
              0.5555555555555556,
              "#d8576b"
             ],
             [
              0.6666666666666666,
              "#ed7953"
             ],
             [
              0.7777777777777778,
              "#fb9f3a"
             ],
             [
              0.8888888888888888,
              "#fdca26"
             ],
             [
              1,
              "#f0f921"
             ]
            ],
            "type": "surface"
           }
          ],
          "table": [
           {
            "cells": {
             "fill": {
              "color": "#EBF0F8"
             },
             "line": {
              "color": "white"
             }
            },
            "header": {
             "fill": {
              "color": "#C8D4E3"
             },
             "line": {
              "color": "white"
             }
            },
            "type": "table"
           }
          ]
         },
         "layout": {
          "annotationdefaults": {
           "arrowcolor": "#2a3f5f",
           "arrowhead": 0,
           "arrowwidth": 1
          },
          "autotypenumbers": "strict",
          "coloraxis": {
           "colorbar": {
            "outlinewidth": 0,
            "ticks": ""
           }
          },
          "colorscale": {
           "diverging": [
            [
             0,
             "#8e0152"
            ],
            [
             0.1,
             "#c51b7d"
            ],
            [
             0.2,
             "#de77ae"
            ],
            [
             0.3,
             "#f1b6da"
            ],
            [
             0.4,
             "#fde0ef"
            ],
            [
             0.5,
             "#f7f7f7"
            ],
            [
             0.6,
             "#e6f5d0"
            ],
            [
             0.7,
             "#b8e186"
            ],
            [
             0.8,
             "#7fbc41"
            ],
            [
             0.9,
             "#4d9221"
            ],
            [
             1,
             "#276419"
            ]
           ],
           "sequential": [
            [
             0,
             "#0d0887"
            ],
            [
             0.1111111111111111,
             "#46039f"
            ],
            [
             0.2222222222222222,
             "#7201a8"
            ],
            [
             0.3333333333333333,
             "#9c179e"
            ],
            [
             0.4444444444444444,
             "#bd3786"
            ],
            [
             0.5555555555555556,
             "#d8576b"
            ],
            [
             0.6666666666666666,
             "#ed7953"
            ],
            [
             0.7777777777777778,
             "#fb9f3a"
            ],
            [
             0.8888888888888888,
             "#fdca26"
            ],
            [
             1,
             "#f0f921"
            ]
           ],
           "sequentialminus": [
            [
             0,
             "#0d0887"
            ],
            [
             0.1111111111111111,
             "#46039f"
            ],
            [
             0.2222222222222222,
             "#7201a8"
            ],
            [
             0.3333333333333333,
             "#9c179e"
            ],
            [
             0.4444444444444444,
             "#bd3786"
            ],
            [
             0.5555555555555556,
             "#d8576b"
            ],
            [
             0.6666666666666666,
             "#ed7953"
            ],
            [
             0.7777777777777778,
             "#fb9f3a"
            ],
            [
             0.8888888888888888,
             "#fdca26"
            ],
            [
             1,
             "#f0f921"
            ]
           ]
          },
          "colorway": [
           "#636efa",
           "#EF553B",
           "#00cc96",
           "#ab63fa",
           "#FFA15A",
           "#19d3f3",
           "#FF6692",
           "#B6E880",
           "#FF97FF",
           "#FECB52"
          ],
          "font": {
           "color": "#2a3f5f"
          },
          "geo": {
           "bgcolor": "white",
           "lakecolor": "white",
           "landcolor": "#E5ECF6",
           "showlakes": true,
           "showland": true,
           "subunitcolor": "white"
          },
          "hoverlabel": {
           "align": "left"
          },
          "hovermode": "closest",
          "mapbox": {
           "style": "light"
          },
          "paper_bgcolor": "white",
          "plot_bgcolor": "#E5ECF6",
          "polar": {
           "angularaxis": {
            "gridcolor": "white",
            "linecolor": "white",
            "ticks": ""
           },
           "bgcolor": "#E5ECF6",
           "radialaxis": {
            "gridcolor": "white",
            "linecolor": "white",
            "ticks": ""
           }
          },
          "scene": {
           "xaxis": {
            "backgroundcolor": "#E5ECF6",
            "gridcolor": "white",
            "gridwidth": 2,
            "linecolor": "white",
            "showbackground": true,
            "ticks": "",
            "zerolinecolor": "white"
           },
           "yaxis": {
            "backgroundcolor": "#E5ECF6",
            "gridcolor": "white",
            "gridwidth": 2,
            "linecolor": "white",
            "showbackground": true,
            "ticks": "",
            "zerolinecolor": "white"
           },
           "zaxis": {
            "backgroundcolor": "#E5ECF6",
            "gridcolor": "white",
            "gridwidth": 2,
            "linecolor": "white",
            "showbackground": true,
            "ticks": "",
            "zerolinecolor": "white"
           }
          },
          "shapedefaults": {
           "line": {
            "color": "#2a3f5f"
           }
          },
          "ternary": {
           "aaxis": {
            "gridcolor": "white",
            "linecolor": "white",
            "ticks": ""
           },
           "baxis": {
            "gridcolor": "white",
            "linecolor": "white",
            "ticks": ""
           },
           "bgcolor": "#E5ECF6",
           "caxis": {
            "gridcolor": "white",
            "linecolor": "white",
            "ticks": ""
           }
          },
          "title": {
           "x": 0.05
          },
          "xaxis": {
           "automargin": true,
           "gridcolor": "white",
           "linecolor": "white",
           "ticks": "",
           "title": {
            "standoff": 15
           },
           "zerolinecolor": "white",
           "zerolinewidth": 2
          },
          "yaxis": {
           "automargin": true,
           "gridcolor": "white",
           "linecolor": "white",
           "ticks": "",
           "title": {
            "standoff": 15
           },
           "zerolinecolor": "white",
           "zerolinewidth": 2
          }
         }
        },
        "title": {
         "text": "Rincian Penjualan berdasarkan Category dan Sub-Category"
        }
       }
      }
     },
     "metadata": {},
     "output_type": "display_data"
    }
   ],
   "source": [
    "subcat_sales = df.groupby(['Category', 'Sub-Category'])['Sales'].sum().reset_index()\n",
    "fig8 = px.treemap(subcat_sales, path=['Category', 'Sub-Category'], values='Sales',\n",
    "                 title='Rincian Penjualan berdasarkan Category dan Sub-Category')\n",
    "\n",
    "fig8.show()"
   ]
  },
  {
   "cell_type": "markdown",
   "id": "5e4ea9d9",
   "metadata": {},
   "source": [
    "Insight yang dapat diambil dari treemap diatas adalah antara lain kategori yang memiliki performa produk bagus. Contohnya dapat dilihat di treemap bagian kategori elektronik dan furniture dimana kursi dan handphone mempunyai angka perjualan terbesar."
   ]
  },
  {
   "cell_type": "markdown",
   "id": "73688e5b",
   "metadata": {},
   "source": [
    "### 6. Bagaimana penyebaran pola perilaku pelanggan terbentuk?"
   ]
  },
  {
   "cell_type": "code",
   "execution_count": null,
   "id": "468c0f90",
   "metadata": {},
   "outputs": [
    {
     "data": {
      "application/vnd.plotly.v1+json": {
       "config": {
        "plotlyServerURL": "https://plot.ly"
       },
       "data": [
        {
         "hovertemplate": "Days Since Last Purchase=%{x}<br>Number of Purchases=%{y}<br>Total Spending ($)=%{marker.color}<extra></extra>",
         "legendgroup": "",
         "marker": {
          "color": [
           5563.56,
           1056.39,
           1790.51,
           5086.93,
           886.15,
           7755.63,
           14473.56,
           966.71,
           1113.8500000000001,
           914.53,
           1515.86,
           925.8000000000001,
           5527.85,
           2537.69,
           657.3100000000001,
           6106.88,
           2052.9100000000003,
           861.5600000000001,
           2582.9,
           367.55,
           660.97,
           200.95,
           1419.25,
           1455.0400000000002,
           3489.06,
           170.59,
           4510.79,
           1744.6999999999998,
           3250.35,
           1735.53,
           1587.45,
           4805.35,
           2495.4,
           738.5,
           7888.3,
           4375.79,
           4867.34,
           4501.38,
           1829.9,
           629.25,
           814.01,
           5664.0199999999995,
           161.28,
           545.9300000000001,
           3323.55,
           1055.69,
           2236.12,
           264.87,
           6608.450000000001,
           88.15,
           4523.33,
           3050.69,
           3255.3,
           58.82,
           4260.78,
           503.98,
           3214.24,
           833.41,
           1166.0700000000002,
           3831.87,
           649.37,
           2852.95,
           497.02,
           1622.03,
           744.3299999999999,
           6765.73,
           2933.67,
           5718.53,
           4411.25,
           320.54,
           2783.19,
           1538.12,
           582.65,
           1526.5,
           658.46,
           4204.68,
           2261.44,
           748.03,
           599.79,
           1333.8899999999999,
           2888.5,
           272.95,
           5907.97,
           1585.17,
           791.99,
           2798.96,
           1874.18,
           1006.35,
           6255.33,
           659.15,
           11789.64,
           808.16,
           7294.18,
           1338.82,
           265.31,
           1459.3400000000001,
           2682.73,
           130.83,
           983.42,
           2442.05,
           1697.87,
           3675.86,
           1181.49,
           2475.16,
           10501.650000000001,
           3887.8199999999997,
           2454.9300000000003,
           3288.12,
           2562.38,
           949.4300000000001,
           2567.66,
           2186.61,
           603.87,
           415.19999999999993,
           2684.5,
           3196.75,
           1523.28,
           385.51,
           4750.360000000001,
           1738.41,
           3789.7200000000003,
           1679.72,
           2638.33,
           1421.96,
           3041.56,
           5730.67,
           1949.21,
           4246.46,
           1685.8899999999999,
           2471.65,
           3670.27,
           12129.08,
           2870.05,
           1659.45,
           113.84,
           2540.63,
           2269.69,
           2854.11,
           2033.97,
           639.76,
           1205.58,
           1860.74,
           904.48,
           1148.78,
           1537.24,
           16.52,
           11164.97,
           3154.82,
           2945.32,
           2372.75,
           1582.1,
           1262.01,
           10880.56,
           2335.59,
           1673.89,
           565.39,
           1661.6100000000001,
           2533.3199999999997,
           1475.14,
           2305.71,
           8954.01,
           288,
           5890.51,
           3984.4500000000003,
           5402.25,
           5817.2,
           2148.85,
           475.9,
           1600.55,
           1397.88,
           1278.96,
           537.63,
           3036.5299999999997,
           884.64,
           844.46,
           2754.22,
           3202.16,
           3651.86,
           550.64,
           970.1099999999999,
           5690.0599999999995,
           3241.9,
           2830.63,
           2370.33,
           1136.5900000000001,
           2004.08,
           1300.08,
           156.76,
           2171.61,
           2469.67,
           4151.51,
           2973.09,
           2332.5699999999997,
           4655.89,
           1081.47,
           1711.69,
           3908.8,
           1989.05,
           1155.21,
           3336.17,
           1174.6200000000001,
           269.53000000000003,
           2550.87,
           2390.54,
           3195.82,
           3487.19,
           1043.09,
           2012.52,
           2501.69,
           3356.4,
           3256.48,
           4282.16,
           1687.0300000000002,
           2650.5499999999997,
           797.8299999999999,
           4802.39,
           3318.49,
           444.02,
           3272.2,
           1458.25,
           585.02,
           3539.32,
           1322.03,
           6345.09,
           4074.4700000000003,
           1376.8,
           2139.79,
           1300.03,
           1267.32,
           897.52,
           2214.9900000000002,
           1058.62,
           5480.73,
           6528.03,
           8350.87,
           1762.21,
           2881.8,
           1119.48,
           3254.48,
           1080.75,
           5271.63,
           344.08,
           1204.85,
           755.6,
           7198.77,
           2752.4500000000003,
           3644.97,
           3236.32,
           964.4499999999999,
           2767.2200000000003,
           944.6000000000001,
           1643.2600000000002,
           3071.14,
           1186.33,
           461.90999999999997,
           3484.9100000000003,
           1832.02,
           9940.369999999999,
           684.18,
           825.9499999999999,
           1219.52,
           3082.64,
           923.88,
           2162.1800000000003,
           2656.69,
           1303.48,
           124.28,
           2567,
           2339.6,
           933.6999999999999,
           228.99,
           1041.04,
           4588.44,
           366.83,
           2199.36,
           5478.06,
           1245.79,
           3510.46,
           4657.93,
           2984.05,
           3418.7400000000002,
           3889.36,
           1383.1299999999999,
           4256.28,
           2271.29,
           6987.2,
           2456.64,
           3736.2,
           2523.26,
           2678.4300000000003,
           4046.75,
           79.75,
           3797.23,
           1398.3899999999999,
           1568.44,
           4716.3,
           1888.0800000000002,
           2223.99,
           2819.45,
           4172.84,
           1361.24,
           146.94,
           6497.280000000001,
           3582.8199999999997,
           3078.63,
           1255.6799999999998,
           3163.63,
           6049.959999999999,
           236.53,
           1284.38,
           9351.199999999999,
           11820.12,
           226.43,
           2189.02,
           4355.150000000001,
           2454.62,
           2163.3199999999997,
           2584.17,
           251.36,
           755.4599999999999,
           2533.15,
           785.62,
           3247.65,
           3690.2799999999997,
           218.67000000000002,
           358.1,
           4877.8,
           12873.3,
           8236.76,
           736.28,
           1990.3100000000002,
           940.5899999999999,
           5248.79,
           4827.93,
           886.5199999999999,
           744.5699999999999,
           5040.74,
           48.4,
           4930.49,
           6491.0199999999995,
           1791.62,
           900.55,
           644.12,
           2518.11,
           71.27,
           1058.1100000000001,
           2772.06,
           858.5699999999999,
           2152.35,
           7610.87,
           385.43,
           695.4399999999999,
           8828.039999999999,
           1388.69,
           7754.97,
           8697.86,
           6760.8099999999995,
           2697.25,
           2239.61,
           955.12,
           1911.8400000000001,
           2309.43,
           890.95,
           4198.32,
           2358.6600000000003,
           6366.4,
           2240.58,
           1507.02,
           309.28999999999996,
           528.92,
           959.48,
           7954.99,
           2256.39,
           709.1700000000001,
           195,
           4262.29,
           383.80999999999995,
           2136.45,
           3760.0299999999997,
           4760.44,
           4769.91,
           3747.66,
           2932.49,
           1214.95,
           1571.52,
           2203.7,
           3173.87,
           9576.35,
           2725.25,
           3159.11,
           1804.14,
           1733.45,
           303.94,
           864.95,
           7625.070000000001,
           2833.92,
           3254.94,
           1934.27,
           1090.85,
           1669.12,
           3635.59,
           1707.71,
           1156.6599999999999,
           863.88,
           2201.69,
           1417.65,
           990.1999999999999,
           3868.0099999999998,
           469.16,
           2516.49,
           7721.71,
           1049.24,
           1428.73,
           1519.51,
           3152.61,
           1569.45,
           908.8199999999999,
           2744.7400000000002,
           983.9300000000001,
           2120.9500000000003,
           3908.27,
           1146.05,
           8282.36,
           1888.96,
           8181.240000000001,
           907.16,
           1453.28,
           10604.26,
           3312.87,
           3100.6,
           5229.7,
           3918.96,
           5990.79,
           5016.47,
           14175.22,
           2260.95,
           5620.18,
           453.53999999999996,
           4909.47,
           2224.1,
           2171.97,
           2003.01,
           88.47,
           3057.1,
           4642.1,
           4416.52,
           449.1,
           8673.23,
           50.19,
           4985.68,
           2580.71,
           7663.13,
           4492.9400000000005,
           3246.63,
           2095.06,
           2633.57,
           5.3,
           1961.9299999999998,
           1469.45,
           3930.52,
           287.43,
           2295.32,
           318.23,
           1739.69,
           2454.5499999999997,
           1346.78,
           644.35,
           756.6,
           3104.44,
           5142.89,
           1879.29,
           2845.27,
           2988.65,
           1010.25,
           368.88,
           1008.14,
           329.87,
           2936.25,
           2238.0499999999997,
           3230.3,
           1259.04,
           5420.5199999999995,
           4299.16,
           2453.2900000000004,
           1548.71,
           1428.24,
           2725.98,
           4432.139999999999,
           1303.89,
           2426.06,
           2258.2,
           795.15,
           3805.71,
           2218.99,
           1581.99,
           2716.43,
           1204.91,
           10663.73,
           1908.45,
           1256.95,
           937.04,
           1758.3,
           3785.28,
           2350.2000000000003,
           1342.29,
           1242.83,
           776.39,
           3061.54,
           16.740000000000002,
           1691.49,
           400.02,
           2146.69,
           1252.8,
           2203.78,
           2984.95,
           5503.09,
           6320.75,
           2302.36,
           1031.6000000000001,
           2722.84,
           2885.27,
           2071.91,
           742.08,
           162.23000000000002,
           1314.02,
           3640.25,
           2749.86,
           775.41,
           2477.94,
           922.49,
           1687.02,
           154.29,
           2945.81,
           3983.65,
           4757.34,
           639.1800000000001,
           7443.68,
           475.65999999999997,
           1613.39,
           3144.67,
           370.34000000000003,
           855.12,
           2890.14,
           1319.43,
           1560.03,
           1734.58,
           5341.900000000001,
           5253.88,
           2254.29,
           3601.8799999999997,
           593.61,
           2564.89,
           273.87,
           1972.61,
           2461.41,
           2218.9900000000002,
           8241.73,
           1821.75,
           4326.14,
           2893.46,
           8080.469999999999,
           377.17,
           2031.48,
           1869.57,
           1395.94,
           2518.67,
           572.0500000000001,
           1418.0800000000002,
           6459.34,
           2161.98,
           5529.62,
           3908.4,
           1164.73,
           7903.18,
           2367.27,
           2575.87,
           2857.75,
           7234.02,
           2488.33,
           1567.52,
           3818.62,
           729.41,
           740.36,
           688.3299999999999,
           1456.95,
           132.74,
           1832.07,
           1061.49,
           9062.859999999999,
           2770,
           2206.12,
           3086.89,
           1987.15,
           729.6500000000001,
           1220.1,
           1677.53,
           1441.15,
           8646.93,
           239.49,
           1405.3999999999999,
           4115.66,
           1467.16,
           7473.829999999999,
           2493.22,
           4893.05,
           1056.85,
           7252.61,
           1840.18,
           2181.47,
           1278.65,
           6843.629999999999,
           158.47,
           2876.05,
           3454.91,
           3922.41,
           6108.34,
           2617.89,
           3546.23,
           4793.53,
           1686.93,
           1008.2,
           15117.349999999999,
           1864.14,
           4715.47,
           528.53,
           221.09,
           2067.45,
           5633.31,
           966.4100000000001,
           652.64,
           4272.9400000000005,
           2832.91,
           2745.89,
           1419.74,
           1137.61,
           3133.92,
           970.95,
           48.36,
           666.52,
           3309.14,
           2341.3,
           938.86,
           3621.38,
           6979.18,
           740.39,
           2085.74,
           1460.19,
           6234.91,
           1453.47,
           5979.089999999999,
           98.35,
           3815.4700000000003,
           954.64,
           5153.06,
           2055.35,
           615.9300000000001,
           3302.2599999999998,
           3221.29,
           4159.77,
           22.330000000000002,
           7397.400000000001,
           3279.75,
           3495.64,
           4767.34,
           1348.02,
           6411,
           8057.89,
           3362.96,
           4624.57,
           14142.340000000002,
           4371.96,
           3729.7999999999997,
           3650.4700000000003,
           5992.530000000001,
           1875,
           799.8000000000001,
           1254.64,
           2576.4,
           5226.2,
           4492.68,
           279.25,
           14.11,
           6121.1,
           12209.440000000002,
           763.54,
           3422.7799999999997,
           3336.53,
           3406.58,
           1884.8000000000002,
           3118.9,
           47.95,
           2465.68,
           2180.7,
           2096.3900000000003,
           3949.6499999999996,
           1341.04,
           1318.77,
           883.4100000000001,
           3046.53,
           244.49,
           25043.07,
           1043.05,
           4464.87,
           1860.42,
           3127.97,
           2602.58,
           1306.09,
           5440.32,
           1872.4299999999998,
           4282.92,
           3990.6699999999996,
           3233.4700000000003,
           4345.88,
           1324.03,
           3056.81,
           613.4,
           418.49,
           964.6300000000001,
           433.34,
           2595.38,
           11470.939999999999,
           4105.31,
           1271.0900000000001,
           1903.49,
           1085.06,
           1966.65,
           1019.04,
           2835.56,
           758.6899999999999,
           3625.34,
           14595.619999999999,
           1451.3700000000001,
           3589.2899999999995,
           816.1700000000001,
           1602.3700000000001,
           2198.46,
           834.33,
           9108.74,
           4737.48,
           1240.88,
           2797.68,
           19052.22,
           1038.26,
           4266.8099999999995,
           1244.98,
           742.5500000000001,
           1434.56,
           3058.38,
           2074.66,
           2422.83,
           2942.78,
           1022.21,
           4234.1,
           2819.0299999999997,
           1094.6799999999998,
           3130.22,
           4454.06,
           5328.98,
           1936.62,
           675.9399999999999,
           4.83,
           2163.63,
           5371.11,
           974.78,
           11891.75,
           2054.14,
           2243.28,
           2820.42,
           3368.08,
           4915.59,
           1427.05,
           439.5,
           5364.8,
           5278.82,
           1707.28,
           2005.59,
           6442.26,
           847.95,
           846.02,
           418.43,
           2454.87,
           380.69,
           993.9,
           3360.54,
           1055.99,
           1736.6,
           6134.040000000001,
           6129.71,
           2374.66,
           5454.35,
           6720.4400000000005,
           8025.7,
           1493.94
          ],
          "coloraxis": "coloraxis",
          "size": [
           5563.56,
           1056.39,
           1790.51,
           5086.93,
           886.15,
           7755.63,
           14473.56,
           966.71,
           1113.8500000000001,
           914.53,
           1515.86,
           925.8000000000001,
           5527.85,
           2537.69,
           657.3100000000001,
           6106.88,
           2052.9100000000003,
           861.5600000000001,
           2582.9,
           367.55,
           660.97,
           200.95,
           1419.25,
           1455.0400000000002,
           3489.06,
           170.59,
           4510.79,
           1744.6999999999998,
           3250.35,
           1735.53,
           1587.45,
           4805.35,
           2495.4,
           738.5,
           7888.3,
           4375.79,
           4867.34,
           4501.38,
           1829.9,
           629.25,
           814.01,
           5664.0199999999995,
           161.28,
           545.9300000000001,
           3323.55,
           1055.69,
           2236.12,
           264.87,
           6608.450000000001,
           88.15,
           4523.33,
           3050.69,
           3255.3,
           58.82,
           4260.78,
           503.98,
           3214.24,
           833.41,
           1166.0700000000002,
           3831.87,
           649.37,
           2852.95,
           497.02,
           1622.03,
           744.3299999999999,
           6765.73,
           2933.67,
           5718.53,
           4411.25,
           320.54,
           2783.19,
           1538.12,
           582.65,
           1526.5,
           658.46,
           4204.68,
           2261.44,
           748.03,
           599.79,
           1333.8899999999999,
           2888.5,
           272.95,
           5907.97,
           1585.17,
           791.99,
           2798.96,
           1874.18,
           1006.35,
           6255.33,
           659.15,
           11789.64,
           808.16,
           7294.18,
           1338.82,
           265.31,
           1459.3400000000001,
           2682.73,
           130.83,
           983.42,
           2442.05,
           1697.87,
           3675.86,
           1181.49,
           2475.16,
           10501.650000000001,
           3887.8199999999997,
           2454.9300000000003,
           3288.12,
           2562.38,
           949.4300000000001,
           2567.66,
           2186.61,
           603.87,
           415.19999999999993,
           2684.5,
           3196.75,
           1523.28,
           385.51,
           4750.360000000001,
           1738.41,
           3789.7200000000003,
           1679.72,
           2638.33,
           1421.96,
           3041.56,
           5730.67,
           1949.21,
           4246.46,
           1685.8899999999999,
           2471.65,
           3670.27,
           12129.08,
           2870.05,
           1659.45,
           113.84,
           2540.63,
           2269.69,
           2854.11,
           2033.97,
           639.76,
           1205.58,
           1860.74,
           904.48,
           1148.78,
           1537.24,
           16.52,
           11164.97,
           3154.82,
           2945.32,
           2372.75,
           1582.1,
           1262.01,
           10880.56,
           2335.59,
           1673.89,
           565.39,
           1661.6100000000001,
           2533.3199999999997,
           1475.14,
           2305.71,
           8954.01,
           288,
           5890.51,
           3984.4500000000003,
           5402.25,
           5817.2,
           2148.85,
           475.9,
           1600.55,
           1397.88,
           1278.96,
           537.63,
           3036.5299999999997,
           884.64,
           844.46,
           2754.22,
           3202.16,
           3651.86,
           550.64,
           970.1099999999999,
           5690.0599999999995,
           3241.9,
           2830.63,
           2370.33,
           1136.5900000000001,
           2004.08,
           1300.08,
           156.76,
           2171.61,
           2469.67,
           4151.51,
           2973.09,
           2332.5699999999997,
           4655.89,
           1081.47,
           1711.69,
           3908.8,
           1989.05,
           1155.21,
           3336.17,
           1174.6200000000001,
           269.53000000000003,
           2550.87,
           2390.54,
           3195.82,
           3487.19,
           1043.09,
           2012.52,
           2501.69,
           3356.4,
           3256.48,
           4282.16,
           1687.0300000000002,
           2650.5499999999997,
           797.8299999999999,
           4802.39,
           3318.49,
           444.02,
           3272.2,
           1458.25,
           585.02,
           3539.32,
           1322.03,
           6345.09,
           4074.4700000000003,
           1376.8,
           2139.79,
           1300.03,
           1267.32,
           897.52,
           2214.9900000000002,
           1058.62,
           5480.73,
           6528.03,
           8350.87,
           1762.21,
           2881.8,
           1119.48,
           3254.48,
           1080.75,
           5271.63,
           344.08,
           1204.85,
           755.6,
           7198.77,
           2752.4500000000003,
           3644.97,
           3236.32,
           964.4499999999999,
           2767.2200000000003,
           944.6000000000001,
           1643.2600000000002,
           3071.14,
           1186.33,
           461.90999999999997,
           3484.9100000000003,
           1832.02,
           9940.369999999999,
           684.18,
           825.9499999999999,
           1219.52,
           3082.64,
           923.88,
           2162.1800000000003,
           2656.69,
           1303.48,
           124.28,
           2567,
           2339.6,
           933.6999999999999,
           228.99,
           1041.04,
           4588.44,
           366.83,
           2199.36,
           5478.06,
           1245.79,
           3510.46,
           4657.93,
           2984.05,
           3418.7400000000002,
           3889.36,
           1383.1299999999999,
           4256.28,
           2271.29,
           6987.2,
           2456.64,
           3736.2,
           2523.26,
           2678.4300000000003,
           4046.75,
           79.75,
           3797.23,
           1398.3899999999999,
           1568.44,
           4716.3,
           1888.0800000000002,
           2223.99,
           2819.45,
           4172.84,
           1361.24,
           146.94,
           6497.280000000001,
           3582.8199999999997,
           3078.63,
           1255.6799999999998,
           3163.63,
           6049.959999999999,
           236.53,
           1284.38,
           9351.199999999999,
           11820.12,
           226.43,
           2189.02,
           4355.150000000001,
           2454.62,
           2163.3199999999997,
           2584.17,
           251.36,
           755.4599999999999,
           2533.15,
           785.62,
           3247.65,
           3690.2799999999997,
           218.67000000000002,
           358.1,
           4877.8,
           12873.3,
           8236.76,
           736.28,
           1990.3100000000002,
           940.5899999999999,
           5248.79,
           4827.93,
           886.5199999999999,
           744.5699999999999,
           5040.74,
           48.4,
           4930.49,
           6491.0199999999995,
           1791.62,
           900.55,
           644.12,
           2518.11,
           71.27,
           1058.1100000000001,
           2772.06,
           858.5699999999999,
           2152.35,
           7610.87,
           385.43,
           695.4399999999999,
           8828.039999999999,
           1388.69,
           7754.97,
           8697.86,
           6760.8099999999995,
           2697.25,
           2239.61,
           955.12,
           1911.8400000000001,
           2309.43,
           890.95,
           4198.32,
           2358.6600000000003,
           6366.4,
           2240.58,
           1507.02,
           309.28999999999996,
           528.92,
           959.48,
           7954.99,
           2256.39,
           709.1700000000001,
           195,
           4262.29,
           383.80999999999995,
           2136.45,
           3760.0299999999997,
           4760.44,
           4769.91,
           3747.66,
           2932.49,
           1214.95,
           1571.52,
           2203.7,
           3173.87,
           9576.35,
           2725.25,
           3159.11,
           1804.14,
           1733.45,
           303.94,
           864.95,
           7625.070000000001,
           2833.92,
           3254.94,
           1934.27,
           1090.85,
           1669.12,
           3635.59,
           1707.71,
           1156.6599999999999,
           863.88,
           2201.69,
           1417.65,
           990.1999999999999,
           3868.0099999999998,
           469.16,
           2516.49,
           7721.71,
           1049.24,
           1428.73,
           1519.51,
           3152.61,
           1569.45,
           908.8199999999999,
           2744.7400000000002,
           983.9300000000001,
           2120.9500000000003,
           3908.27,
           1146.05,
           8282.36,
           1888.96,
           8181.240000000001,
           907.16,
           1453.28,
           10604.26,
           3312.87,
           3100.6,
           5229.7,
           3918.96,
           5990.79,
           5016.47,
           14175.22,
           2260.95,
           5620.18,
           453.53999999999996,
           4909.47,
           2224.1,
           2171.97,
           2003.01,
           88.47,
           3057.1,
           4642.1,
           4416.52,
           449.1,
           8673.23,
           50.19,
           4985.68,
           2580.71,
           7663.13,
           4492.9400000000005,
           3246.63,
           2095.06,
           2633.57,
           5.3,
           1961.9299999999998,
           1469.45,
           3930.52,
           287.43,
           2295.32,
           318.23,
           1739.69,
           2454.5499999999997,
           1346.78,
           644.35,
           756.6,
           3104.44,
           5142.89,
           1879.29,
           2845.27,
           2988.65,
           1010.25,
           368.88,
           1008.14,
           329.87,
           2936.25,
           2238.0499999999997,
           3230.3,
           1259.04,
           5420.5199999999995,
           4299.16,
           2453.2900000000004,
           1548.71,
           1428.24,
           2725.98,
           4432.139999999999,
           1303.89,
           2426.06,
           2258.2,
           795.15,
           3805.71,
           2218.99,
           1581.99,
           2716.43,
           1204.91,
           10663.73,
           1908.45,
           1256.95,
           937.04,
           1758.3,
           3785.28,
           2350.2000000000003,
           1342.29,
           1242.83,
           776.39,
           3061.54,
           16.740000000000002,
           1691.49,
           400.02,
           2146.69,
           1252.8,
           2203.78,
           2984.95,
           5503.09,
           6320.75,
           2302.36,
           1031.6000000000001,
           2722.84,
           2885.27,
           2071.91,
           742.08,
           162.23000000000002,
           1314.02,
           3640.25,
           2749.86,
           775.41,
           2477.94,
           922.49,
           1687.02,
           154.29,
           2945.81,
           3983.65,
           4757.34,
           639.1800000000001,
           7443.68,
           475.65999999999997,
           1613.39,
           3144.67,
           370.34000000000003,
           855.12,
           2890.14,
           1319.43,
           1560.03,
           1734.58,
           5341.900000000001,
           5253.88,
           2254.29,
           3601.8799999999997,
           593.61,
           2564.89,
           273.87,
           1972.61,
           2461.41,
           2218.9900000000002,
           8241.73,
           1821.75,
           4326.14,
           2893.46,
           8080.469999999999,
           377.17,
           2031.48,
           1869.57,
           1395.94,
           2518.67,
           572.0500000000001,
           1418.0800000000002,
           6459.34,
           2161.98,
           5529.62,
           3908.4,
           1164.73,
           7903.18,
           2367.27,
           2575.87,
           2857.75,
           7234.02,
           2488.33,
           1567.52,
           3818.62,
           729.41,
           740.36,
           688.3299999999999,
           1456.95,
           132.74,
           1832.07,
           1061.49,
           9062.859999999999,
           2770,
           2206.12,
           3086.89,
           1987.15,
           729.6500000000001,
           1220.1,
           1677.53,
           1441.15,
           8646.93,
           239.49,
           1405.3999999999999,
           4115.66,
           1467.16,
           7473.829999999999,
           2493.22,
           4893.05,
           1056.85,
           7252.61,
           1840.18,
           2181.47,
           1278.65,
           6843.629999999999,
           158.47,
           2876.05,
           3454.91,
           3922.41,
           6108.34,
           2617.89,
           3546.23,
           4793.53,
           1686.93,
           1008.2,
           15117.349999999999,
           1864.14,
           4715.47,
           528.53,
           221.09,
           2067.45,
           5633.31,
           966.4100000000001,
           652.64,
           4272.9400000000005,
           2832.91,
           2745.89,
           1419.74,
           1137.61,
           3133.92,
           970.95,
           48.36,
           666.52,
           3309.14,
           2341.3,
           938.86,
           3621.38,
           6979.18,
           740.39,
           2085.74,
           1460.19,
           6234.91,
           1453.47,
           5979.089999999999,
           98.35,
           3815.4700000000003,
           954.64,
           5153.06,
           2055.35,
           615.9300000000001,
           3302.2599999999998,
           3221.29,
           4159.77,
           22.330000000000002,
           7397.400000000001,
           3279.75,
           3495.64,
           4767.34,
           1348.02,
           6411,
           8057.89,
           3362.96,
           4624.57,
           14142.340000000002,
           4371.96,
           3729.7999999999997,
           3650.4700000000003,
           5992.530000000001,
           1875,
           799.8000000000001,
           1254.64,
           2576.4,
           5226.2,
           4492.68,
           279.25,
           14.11,
           6121.1,
           12209.440000000002,
           763.54,
           3422.7799999999997,
           3336.53,
           3406.58,
           1884.8000000000002,
           3118.9,
           47.95,
           2465.68,
           2180.7,
           2096.3900000000003,
           3949.6499999999996,
           1341.04,
           1318.77,
           883.4100000000001,
           3046.53,
           244.49,
           25043.07,
           1043.05,
           4464.87,
           1860.42,
           3127.97,
           2602.58,
           1306.09,
           5440.32,
           1872.4299999999998,
           4282.92,
           3990.6699999999996,
           3233.4700000000003,
           4345.88,
           1324.03,
           3056.81,
           613.4,
           418.49,
           964.6300000000001,
           433.34,
           2595.38,
           11470.939999999999,
           4105.31,
           1271.0900000000001,
           1903.49,
           1085.06,
           1966.65,
           1019.04,
           2835.56,
           758.6899999999999,
           3625.34,
           14595.619999999999,
           1451.3700000000001,
           3589.2899999999995,
           816.1700000000001,
           1602.3700000000001,
           2198.46,
           834.33,
           9108.74,
           4737.48,
           1240.88,
           2797.68,
           19052.22,
           1038.26,
           4266.8099999999995,
           1244.98,
           742.5500000000001,
           1434.56,
           3058.38,
           2074.66,
           2422.83,
           2942.78,
           1022.21,
           4234.1,
           2819.0299999999997,
           1094.6799999999998,
           3130.22,
           4454.06,
           5328.98,
           1936.62,
           675.9399999999999,
           4.83,
           2163.63,
           5371.11,
           974.78,
           11891.75,
           2054.14,
           2243.28,
           2820.42,
           3368.08,
           4915.59,
           1427.05,
           439.5,
           5364.8,
           5278.82,
           1707.28,
           2005.59,
           6442.26,
           847.95,
           846.02,
           418.43,
           2454.87,
           380.69,
           993.9,
           3360.54,
           1055.99,
           1736.6,
           6134.040000000001,
           6129.71,
           2374.66,
           5454.35,
           6720.4400000000005,
           8025.7,
           1493.94
          ],
          "sizemode": "area",
          "sizeref": 62.607675,
          "symbol": "circle"
         },
         "mode": "markers",
         "name": "",
         "orientation": "v",
         "showlegend": false,
         "type": "scatter",
         "x": [
          185,
          20,
          260,
          56,
          416,
          55,
          42,
          42,
          26,
          167,
          51,
          233,
          12,
          7,
          283,
          30,
          42,
          416,
          279,
          119,
          9,
          115,
          79,
          845,
          98,
          78,
          97,
          13,
          35,
          61,
          56,
          7,
          231,
          22,
          411,
          14,
          76,
          167,
          122,
          75,
          29,
          163,
          502,
          42,
          99,
          112,
          126,
          15,
          7,
          535,
          59,
          89,
          29,
          42,
          23,
          193,
          20,
          93,
          22,
          14,
          21,
          47,
          15,
          161,
          106,
          29,
          203,
          34,
          36,
          279,
          98,
          70,
          10,
          94,
          328,
          120,
          99,
          482,
          92,
          40,
          75,
          26,
          17,
          66,
          58,
          29,
          37,
          58,
          24,
          78,
          308,
          101,
          34,
          219,
          25,
          10,
          138,
          76,
          84,
          18,
          90,
          2,
          40,
          13,
          559,
          29,
          36,
          583,
          2,
          266,
          337,
          303,
          561,
          660,
          92,
          21,
          335,
          213,
          122,
          204,
          97,
          402,
          57,
          14,
          121,
          48,
          27,
          198,
          458,
          107,
          21,
          44,
          1,
          40,
          28,
          35,
          30,
          799,
          41,
          55,
          43,
          400,
          50,
          339,
          691,
          366,
          190,
          40,
          121,
          44,
          83,
          107,
          285,
          261,
          132,
          708,
          9,
          27,
          9,
          386,
          38,
          437,
          28,
          1035,
          83,
          161,
          58,
          471,
          79,
          86,
          92,
          163,
          26,
          490,
          233,
          27,
          7,
          3,
          28,
          425,
          59,
          97,
          255,
          6,
          23,
          61,
          550,
          353,
          22,
          242,
          17,
          49,
          10,
          54,
          265,
          188,
          108,
          34,
          13,
          38,
          24,
          42,
          719,
          700,
          33,
          278,
          776,
          638,
          49,
          13,
          22,
          46,
          8,
          43,
          11,
          11,
          20,
          101,
          58,
          23,
          58,
          77,
          115,
          58,
          23,
          482,
          218,
          134,
          27,
          127,
          7,
          812,
          359,
          4,
          51,
          94,
          24,
          20,
          30,
          70,
          218,
          99,
          243,
          120,
          85,
          153,
          49,
          36,
          91,
          101,
          162,
          1,
          114,
          83,
          54,
          136,
          23,
          136,
          218,
          406,
          3,
          153,
          106,
          303,
          58,
          45,
          78,
          133,
          56,
          152,
          48,
          114,
          49,
          159,
          288,
          13,
          422,
          41,
          29,
          98,
          71,
          185,
          35,
          38,
          213,
          6,
          8,
          37,
          146,
          39,
          24,
          363,
          150,
          6,
          63,
          14,
          6,
          44,
          76,
          51,
          388,
          3,
          113,
          84,
          17,
          107,
          153,
          118,
          765,
          1136,
          57,
          37,
          35,
          29,
          8,
          158,
          70,
          21,
          769,
          13,
          22,
          55,
          24,
          7,
          73,
          127,
          152,
          44,
          3,
          248,
          31,
          14,
          160,
          118,
          36,
          72,
          143,
          410,
          391,
          93,
          8,
          737,
          44,
          8,
          115,
          176,
          159,
          58,
          118,
          395,
          113,
          301,
          42,
          194,
          49,
          47,
          52,
          21,
          66,
          226,
          106,
          3,
          122,
          55,
          758,
          2,
          3,
          224,
          6,
          175,
          42,
          30,
          405,
          484,
          753,
          62,
          288,
          45,
          62,
          181,
          85,
          29,
          118,
          9,
          7,
          120,
          50,
          22,
          615,
          38,
          38,
          103,
          1,
          9,
          110,
          58,
          58,
          93,
          216,
          38,
          9,
          103,
          594,
          69,
          34,
          120,
          43,
          535,
          464,
          29,
          43,
          6,
          462,
          37,
          5,
          297,
          118,
          231,
          2,
          408,
          98,
          58,
          485,
          42,
          113,
          290,
          27,
          98,
          41,
          2,
          23,
          59,
          3,
          17,
          48,
          15,
          57,
          16,
          29,
          20,
          53,
          99,
          296,
          392,
          101,
          97,
          771,
          155,
          49,
          153,
          28,
          17,
          42,
          437,
          55,
          14,
          553,
          415,
          22,
          23,
          152,
          22,
          240,
          386,
          250,
          392,
          3,
          41,
          10,
          27,
          133,
          179,
          21,
          97,
          777,
          35,
          27,
          35,
          89,
          34,
          206,
          22,
          65,
          187,
          49,
          45,
          77,
          400,
          28,
          52,
          113,
          190,
          2,
          42,
          370,
          118,
          37,
          43,
          29,
          93,
          422,
          8,
          30,
          93,
          556,
          117,
          100,
          85,
          265,
          295,
          377,
          171,
          156,
          99,
          50,
          6,
          23,
          29,
          241,
          70,
          55,
          30,
          80,
          101,
          169,
          8,
          62,
          86,
          35,
          73,
          105,
          181,
          719,
          73,
          17,
          126,
          274,
          435,
          414,
          122,
          453,
          27,
          50,
          204,
          28,
          20,
          18,
          45,
          30,
          72,
          31,
          283,
          1166,
          20,
          225,
          42,
          7,
          205,
          28,
          184,
          80,
          526,
          115,
          49,
          49,
          190,
          71,
          59,
          161,
          245,
          26,
          59,
          407,
          139,
          211,
          7,
          175,
          173,
          86,
          411,
          66,
          104,
          26,
          58,
          98,
          688,
          3,
          882,
          835,
          197,
          115,
          37,
          58,
          71,
          40,
          135,
          484,
          10,
          16,
          387,
          52,
          31,
          5,
          1,
          161,
          87,
          98,
          37,
          108,
          70,
          237,
          72,
          90,
          47,
          465,
          26,
          6,
          56,
          13,
          62,
          69,
          97,
          42,
          10,
          26,
          649,
          55,
          33,
          370,
          111,
          73,
          181,
          115,
          22,
          15,
          115,
          43,
          1098,
          303,
          391,
          90,
          7,
          33,
          468,
          520,
          535,
          120,
          122,
          346,
          7,
          300,
          36,
          497,
          34,
          29,
          20,
          171,
          77,
          37,
          20,
          121,
          90,
          80,
          64,
          202,
          189,
          48,
          781,
          41,
          350,
          150,
          188,
          30,
          31,
          37,
          93,
          127,
          90,
          188,
          42,
          31,
          415,
          201,
          10,
          60,
          60,
          49,
          9,
          184,
          109,
          227,
          30,
          24,
          765,
          96,
          30,
          254,
          9,
          71,
          422,
          80,
          607,
          26,
          112,
          80,
          30,
          328,
          48,
          387,
          80,
          71,
          9,
          197,
          16,
          111,
          492,
          433,
          121,
          126,
          21,
          102,
          321,
          77,
          3,
          82,
          31,
          163,
          163,
          535,
          36,
          70,
          120,
          59,
          50,
          350,
          584,
          147,
          203,
          108,
          286,
          31,
          400,
          107,
          28,
          154,
          5,
          38,
          338,
          115,
          345,
          59,
          118,
          73,
          104,
          131,
          91,
          9,
          105,
          351,
          194,
          358,
          505,
          199,
          227,
          37,
          173,
          12,
          56,
          239,
          32,
          184,
          407,
          13,
          65,
          36,
          55,
          582,
          14,
          155,
          492,
          55,
          118,
          31,
          76,
          222,
          1000,
          29,
          21,
          44,
          5,
          10,
          55,
          203
         ],
         "xaxis": "x",
         "y": [
          5,
          9,
          4,
          6,
          3,
          8,
          10,
          5,
          8,
          9,
          4,
          3,
          7,
          5,
          5,
          8,
          7,
          4,
          5,
          4,
          5,
          5,
          7,
          4,
          7,
          4,
          10,
          7,
          10,
          7,
          4,
          9,
          5,
          4,
          12,
          10,
          7,
          7,
          6,
          3,
          5,
          8,
          1,
          6,
          10,
          4,
          5,
          5,
          6,
          1,
          8,
          7,
          9,
          2,
          5,
          5,
          6,
          7,
          5,
          10,
          4,
          7,
          4,
          6,
          5,
          9,
          9,
          12,
          6,
          2,
          6,
          6,
          3,
          6,
          6,
          5,
          5,
          5,
          7,
          4,
          8,
          3,
          11,
          4,
          3,
          8,
          6,
          6,
          8,
          6,
          4,
          6,
          11,
          10,
          4,
          5,
          5,
          2,
          5,
          12,
          6,
          9,
          5,
          7,
          5,
          5,
          6,
          3,
          7,
          2,
          5,
          6,
          4,
          2,
          5,
          7,
          5,
          3,
          8,
          6,
          6,
          5,
          8,
          4,
          7,
          9,
          8,
          8,
          5,
          7,
          11,
          5,
          10,
          9,
          3,
          7,
          7,
          4,
          5,
          3,
          2,
          5,
          6,
          3,
          3,
          1,
          8,
          13,
          5,
          11,
          9,
          4,
          12,
          4,
          6,
          2,
          4,
          6,
          6,
          5,
          4,
          3,
          5,
          4,
          8,
          7,
          4,
          3,
          4,
          3,
          5,
          6,
          11,
          4,
          5,
          12,
          11,
          9,
          2,
          4,
          6,
          8,
          5,
          9,
          6,
          7,
          5,
          4,
          8,
          4,
          6,
          7,
          10,
          8,
          5,
          4,
          7,
          7,
          7,
          9,
          5,
          6,
          5,
          3,
          5,
          5,
          4,
          4,
          8,
          3,
          12,
          5,
          5,
          7,
          2,
          9,
          8,
          7,
          6,
          8,
          4,
          8,
          7,
          7,
          8,
          3,
          7,
          9,
          7,
          8,
          8,
          2,
          9,
          9,
          8,
          4,
          9,
          5,
          5,
          6,
          5,
          5,
          7,
          5,
          11,
          12,
          9,
          10,
          4,
          10,
          5,
          4,
          6,
          6,
          5,
          8,
          5,
          10,
          8,
          6,
          7,
          10,
          6,
          4,
          5,
          4,
          2,
          5,
          8,
          5,
          4,
          4,
          6,
          3,
          4,
          17,
          3,
          5,
          9,
          7,
          7,
          7,
          7,
          10,
          4,
          8,
          10,
          9,
          9,
          10,
          8,
          3,
          5,
          11,
          11,
          5,
          4,
          9,
          9,
          4,
          2,
          2,
          9,
          7,
          6,
          10,
          6,
          3,
          2,
          2,
          3,
          11,
          4,
          7,
          9,
          4,
          7,
          8,
          3,
          3,
          7,
          5,
          12,
          7,
          2,
          5,
          8,
          6,
          10,
          4,
          7,
          4,
          7,
          7,
          5,
          4,
          7,
          2,
          7,
          8,
          10,
          3,
          7,
          5,
          4,
          1,
          9,
          5,
          5,
          11,
          6,
          3,
          8,
          6,
          7,
          10,
          13,
          3,
          6,
          5,
          6,
          5,
          10,
          8,
          3,
          11,
          6,
          6,
          4,
          6,
          7,
          6,
          4,
          5,
          2,
          4,
          3,
          7,
          7,
          9,
          9,
          3,
          10,
          6,
          5,
          5,
          6,
          10,
          6,
          6,
          5,
          7,
          5,
          5,
          7,
          10,
          9,
          6,
          5,
          7,
          7,
          9,
          2,
          1,
          5,
          4,
          3,
          5,
          5,
          6,
          6,
          6,
          4,
          7,
          7,
          9,
          3,
          12,
          7,
          6,
          4,
          4,
          5,
          6,
          12,
          4,
          7,
          7,
          8,
          6,
          6,
          9,
          7,
          8,
          12,
          6,
          8,
          5,
          8,
          8,
          5,
          7,
          3,
          7,
          10,
          5,
          4,
          11,
          3,
          8,
          8,
          12,
          8,
          4,
          5,
          9,
          1,
          4,
          6,
          7,
          3,
          9,
          4,
          9,
          5,
          5,
          5,
          4,
          6,
          6,
          5,
          6,
          9,
          6,
          3,
          6,
          3,
          8,
          5,
          6,
          3,
          7,
          11,
          6,
          10,
          7,
          8,
          5,
          8,
          6,
          8,
          4,
          7,
          10,
          5,
          6,
          5,
          10,
          8,
          4,
          5,
          5,
          7,
          4,
          3,
          5,
          9,
          4,
          1,
          5,
          4,
          7,
          4,
          7,
          5,
          9,
          7,
          8,
          4,
          9,
          5,
          7,
          3,
          2,
          4,
          10,
          8,
          9,
          6,
          4,
          8,
          2,
          6,
          9,
          8,
          4,
          10,
          4,
          6,
          9,
          4,
          6,
          6,
          4,
          9,
          7,
          7,
          2,
          7,
          10,
          4,
          6,
          2,
          9,
          5,
          6,
          7,
          5,
          9,
          6,
          6,
          4,
          7,
          5,
          5,
          6,
          7,
          4,
          7,
          10,
          6,
          5,
          5,
          7,
          5,
          4,
          12,
          7,
          9,
          9,
          5,
          6,
          3,
          4,
          8,
          2,
          4,
          2,
          4,
          6,
          5,
          13,
          9,
          1,
          8,
          6,
          2,
          12,
          5,
          3,
          4,
          8,
          11,
          7,
          9,
          5,
          10,
          5,
          6,
          8,
          7,
          3,
          5,
          10,
          7,
          9,
          9,
          6,
          9,
          5,
          2,
          6,
          7,
          12,
          5,
          5,
          4,
          8,
          6,
          4,
          8,
          9,
          4,
          10,
          8,
          9,
          4,
          1,
          4,
          8,
          7,
          7,
          5,
          6,
          2,
          3,
          3,
          8,
          6,
          5,
          1,
          7,
          4,
          12,
          7,
          2,
          6,
          5,
          8,
          2,
          7,
          9,
          5,
          10,
          3,
          6,
          7,
          5,
          9,
          9,
          4,
          8,
          6,
          9,
          7,
          4,
          6,
          10,
          11,
          7,
          4,
          1,
          9,
          11,
          7,
          9,
          9,
          3,
          8,
          5,
          3,
          12,
          10,
          2,
          12,
          6,
          5,
          3,
          6,
          4,
          5,
          1,
          11,
          6,
          7,
          6,
          6,
          9,
          9,
          10,
          6,
          5,
          8,
          8,
          6,
          3,
          6,
          5,
          7,
          7,
          10,
          9,
          4,
          8,
          7,
          6,
          3,
          6,
          2,
          11,
          4,
          4,
          4,
          4,
          7,
          6,
          5,
          6,
          9,
          4,
          9,
          5,
          1,
          8,
          9,
          7,
          9,
          5,
          4,
          5,
          4,
          8,
          7,
          7,
          3,
          7,
          9,
          5,
          4,
          5,
          2,
          6,
          7,
          5,
          6,
          5,
          6,
          7,
          5,
          7,
          8,
          3,
          7,
          7,
          4,
          6,
          6,
          5,
          6,
          4,
          7,
          5,
          3,
          7,
          4,
          2,
          10,
          10,
          11,
          5,
          8,
          13,
          5
         ],
         "yaxis": "y"
        }
       ],
       "layout": {
        "coloraxis": {
         "colorbar": {
          "title": {
           "text": "Total Spending ($)"
          }
         },
         "colorscale": [
          [
           0,
           "#0d0887"
          ],
          [
           0.1111111111111111,
           "#46039f"
          ],
          [
           0.2222222222222222,
           "#7201a8"
          ],
          [
           0.3333333333333333,
           "#9c179e"
          ],
          [
           0.4444444444444444,
           "#bd3786"
          ],
          [
           0.5555555555555556,
           "#d8576b"
          ],
          [
           0.6666666666666666,
           "#ed7953"
          ],
          [
           0.7777777777777778,
           "#fb9f3a"
          ],
          [
           0.8888888888888888,
           "#fdca26"
          ],
          [
           1,
           "#f0f921"
          ]
         ]
        },
        "legend": {
         "itemsizing": "constant",
         "tracegroupgap": 0
        },
        "template": {
         "data": {
          "bar": [
           {
            "error_x": {
             "color": "#2a3f5f"
            },
            "error_y": {
             "color": "#2a3f5f"
            },
            "marker": {
             "line": {
              "color": "#E5ECF6",
              "width": 0.5
             },
             "pattern": {
              "fillmode": "overlay",
              "size": 10,
              "solidity": 0.2
             }
            },
            "type": "bar"
           }
          ],
          "barpolar": [
           {
            "marker": {
             "line": {
              "color": "#E5ECF6",
              "width": 0.5
             },
             "pattern": {
              "fillmode": "overlay",
              "size": 10,
              "solidity": 0.2
             }
            },
            "type": "barpolar"
           }
          ],
          "carpet": [
           {
            "aaxis": {
             "endlinecolor": "#2a3f5f",
             "gridcolor": "white",
             "linecolor": "white",
             "minorgridcolor": "white",
             "startlinecolor": "#2a3f5f"
            },
            "baxis": {
             "endlinecolor": "#2a3f5f",
             "gridcolor": "white",
             "linecolor": "white",
             "minorgridcolor": "white",
             "startlinecolor": "#2a3f5f"
            },
            "type": "carpet"
           }
          ],
          "choropleth": [
           {
            "colorbar": {
             "outlinewidth": 0,
             "ticks": ""
            },
            "type": "choropleth"
           }
          ],
          "contour": [
           {
            "colorbar": {
             "outlinewidth": 0,
             "ticks": ""
            },
            "colorscale": [
             [
              0,
              "#0d0887"
             ],
             [
              0.1111111111111111,
              "#46039f"
             ],
             [
              0.2222222222222222,
              "#7201a8"
             ],
             [
              0.3333333333333333,
              "#9c179e"
             ],
             [
              0.4444444444444444,
              "#bd3786"
             ],
             [
              0.5555555555555556,
              "#d8576b"
             ],
             [
              0.6666666666666666,
              "#ed7953"
             ],
             [
              0.7777777777777778,
              "#fb9f3a"
             ],
             [
              0.8888888888888888,
              "#fdca26"
             ],
             [
              1,
              "#f0f921"
             ]
            ],
            "type": "contour"
           }
          ],
          "contourcarpet": [
           {
            "colorbar": {
             "outlinewidth": 0,
             "ticks": ""
            },
            "type": "contourcarpet"
           }
          ],
          "heatmap": [
           {
            "colorbar": {
             "outlinewidth": 0,
             "ticks": ""
            },
            "colorscale": [
             [
              0,
              "#0d0887"
             ],
             [
              0.1111111111111111,
              "#46039f"
             ],
             [
              0.2222222222222222,
              "#7201a8"
             ],
             [
              0.3333333333333333,
              "#9c179e"
             ],
             [
              0.4444444444444444,
              "#bd3786"
             ],
             [
              0.5555555555555556,
              "#d8576b"
             ],
             [
              0.6666666666666666,
              "#ed7953"
             ],
             [
              0.7777777777777778,
              "#fb9f3a"
             ],
             [
              0.8888888888888888,
              "#fdca26"
             ],
             [
              1,
              "#f0f921"
             ]
            ],
            "type": "heatmap"
           }
          ],
          "heatmapgl": [
           {
            "colorbar": {
             "outlinewidth": 0,
             "ticks": ""
            },
            "colorscale": [
             [
              0,
              "#0d0887"
             ],
             [
              0.1111111111111111,
              "#46039f"
             ],
             [
              0.2222222222222222,
              "#7201a8"
             ],
             [
              0.3333333333333333,
              "#9c179e"
             ],
             [
              0.4444444444444444,
              "#bd3786"
             ],
             [
              0.5555555555555556,
              "#d8576b"
             ],
             [
              0.6666666666666666,
              "#ed7953"
             ],
             [
              0.7777777777777778,
              "#fb9f3a"
             ],
             [
              0.8888888888888888,
              "#fdca26"
             ],
             [
              1,
              "#f0f921"
             ]
            ],
            "type": "heatmapgl"
           }
          ],
          "histogram": [
           {
            "marker": {
             "pattern": {
              "fillmode": "overlay",
              "size": 10,
              "solidity": 0.2
             }
            },
            "type": "histogram"
           }
          ],
          "histogram2d": [
           {
            "colorbar": {
             "outlinewidth": 0,
             "ticks": ""
            },
            "colorscale": [
             [
              0,
              "#0d0887"
             ],
             [
              0.1111111111111111,
              "#46039f"
             ],
             [
              0.2222222222222222,
              "#7201a8"
             ],
             [
              0.3333333333333333,
              "#9c179e"
             ],
             [
              0.4444444444444444,
              "#bd3786"
             ],
             [
              0.5555555555555556,
              "#d8576b"
             ],
             [
              0.6666666666666666,
              "#ed7953"
             ],
             [
              0.7777777777777778,
              "#fb9f3a"
             ],
             [
              0.8888888888888888,
              "#fdca26"
             ],
             [
              1,
              "#f0f921"
             ]
            ],
            "type": "histogram2d"
           }
          ],
          "histogram2dcontour": [
           {
            "colorbar": {
             "outlinewidth": 0,
             "ticks": ""
            },
            "colorscale": [
             [
              0,
              "#0d0887"
             ],
             [
              0.1111111111111111,
              "#46039f"
             ],
             [
              0.2222222222222222,
              "#7201a8"
             ],
             [
              0.3333333333333333,
              "#9c179e"
             ],
             [
              0.4444444444444444,
              "#bd3786"
             ],
             [
              0.5555555555555556,
              "#d8576b"
             ],
             [
              0.6666666666666666,
              "#ed7953"
             ],
             [
              0.7777777777777778,
              "#fb9f3a"
             ],
             [
              0.8888888888888888,
              "#fdca26"
             ],
             [
              1,
              "#f0f921"
             ]
            ],
            "type": "histogram2dcontour"
           }
          ],
          "mesh3d": [
           {
            "colorbar": {
             "outlinewidth": 0,
             "ticks": ""
            },
            "type": "mesh3d"
           }
          ],
          "parcoords": [
           {
            "line": {
             "colorbar": {
              "outlinewidth": 0,
              "ticks": ""
             }
            },
            "type": "parcoords"
           }
          ],
          "pie": [
           {
            "automargin": true,
            "type": "pie"
           }
          ],
          "scatter": [
           {
            "fillpattern": {
             "fillmode": "overlay",
             "size": 10,
             "solidity": 0.2
            },
            "type": "scatter"
           }
          ],
          "scatter3d": [
           {
            "line": {
             "colorbar": {
              "outlinewidth": 0,
              "ticks": ""
             }
            },
            "marker": {
             "colorbar": {
              "outlinewidth": 0,
              "ticks": ""
             }
            },
            "type": "scatter3d"
           }
          ],
          "scattercarpet": [
           {
            "marker": {
             "colorbar": {
              "outlinewidth": 0,
              "ticks": ""
             }
            },
            "type": "scattercarpet"
           }
          ],
          "scattergeo": [
           {
            "marker": {
             "colorbar": {
              "outlinewidth": 0,
              "ticks": ""
             }
            },
            "type": "scattergeo"
           }
          ],
          "scattergl": [
           {
            "marker": {
             "colorbar": {
              "outlinewidth": 0,
              "ticks": ""
             }
            },
            "type": "scattergl"
           }
          ],
          "scattermapbox": [
           {
            "marker": {
             "colorbar": {
              "outlinewidth": 0,
              "ticks": ""
             }
            },
            "type": "scattermapbox"
           }
          ],
          "scatterpolar": [
           {
            "marker": {
             "colorbar": {
              "outlinewidth": 0,
              "ticks": ""
             }
            },
            "type": "scatterpolar"
           }
          ],
          "scatterpolargl": [
           {
            "marker": {
             "colorbar": {
              "outlinewidth": 0,
              "ticks": ""
             }
            },
            "type": "scatterpolargl"
           }
          ],
          "scatterternary": [
           {
            "marker": {
             "colorbar": {
              "outlinewidth": 0,
              "ticks": ""
             }
            },
            "type": "scatterternary"
           }
          ],
          "surface": [
           {
            "colorbar": {
             "outlinewidth": 0,
             "ticks": ""
            },
            "colorscale": [
             [
              0,
              "#0d0887"
             ],
             [
              0.1111111111111111,
              "#46039f"
             ],
             [
              0.2222222222222222,
              "#7201a8"
             ],
             [
              0.3333333333333333,
              "#9c179e"
             ],
             [
              0.4444444444444444,
              "#bd3786"
             ],
             [
              0.5555555555555556,
              "#d8576b"
             ],
             [
              0.6666666666666666,
              "#ed7953"
             ],
             [
              0.7777777777777778,
              "#fb9f3a"
             ],
             [
              0.8888888888888888,
              "#fdca26"
             ],
             [
              1,
              "#f0f921"
             ]
            ],
            "type": "surface"
           }
          ],
          "table": [
           {
            "cells": {
             "fill": {
              "color": "#EBF0F8"
             },
             "line": {
              "color": "white"
             }
            },
            "header": {
             "fill": {
              "color": "#C8D4E3"
             },
             "line": {
              "color": "white"
             }
            },
            "type": "table"
           }
          ]
         },
         "layout": {
          "annotationdefaults": {
           "arrowcolor": "#2a3f5f",
           "arrowhead": 0,
           "arrowwidth": 1
          },
          "autotypenumbers": "strict",
          "coloraxis": {
           "colorbar": {
            "outlinewidth": 0,
            "ticks": ""
           }
          },
          "colorscale": {
           "diverging": [
            [
             0,
             "#8e0152"
            ],
            [
             0.1,
             "#c51b7d"
            ],
            [
             0.2,
             "#de77ae"
            ],
            [
             0.3,
             "#f1b6da"
            ],
            [
             0.4,
             "#fde0ef"
            ],
            [
             0.5,
             "#f7f7f7"
            ],
            [
             0.6,
             "#e6f5d0"
            ],
            [
             0.7,
             "#b8e186"
            ],
            [
             0.8,
             "#7fbc41"
            ],
            [
             0.9,
             "#4d9221"
            ],
            [
             1,
             "#276419"
            ]
           ],
           "sequential": [
            [
             0,
             "#0d0887"
            ],
            [
             0.1111111111111111,
             "#46039f"
            ],
            [
             0.2222222222222222,
             "#7201a8"
            ],
            [
             0.3333333333333333,
             "#9c179e"
            ],
            [
             0.4444444444444444,
             "#bd3786"
            ],
            [
             0.5555555555555556,
             "#d8576b"
            ],
            [
             0.6666666666666666,
             "#ed7953"
            ],
            [
             0.7777777777777778,
             "#fb9f3a"
            ],
            [
             0.8888888888888888,
             "#fdca26"
            ],
            [
             1,
             "#f0f921"
            ]
           ],
           "sequentialminus": [
            [
             0,
             "#0d0887"
            ],
            [
             0.1111111111111111,
             "#46039f"
            ],
            [
             0.2222222222222222,
             "#7201a8"
            ],
            [
             0.3333333333333333,
             "#9c179e"
            ],
            [
             0.4444444444444444,
             "#bd3786"
            ],
            [
             0.5555555555555556,
             "#d8576b"
            ],
            [
             0.6666666666666666,
             "#ed7953"
            ],
            [
             0.7777777777777778,
             "#fb9f3a"
            ],
            [
             0.8888888888888888,
             "#fdca26"
            ],
            [
             1,
             "#f0f921"
            ]
           ]
          },
          "colorway": [
           "#636efa",
           "#EF553B",
           "#00cc96",
           "#ab63fa",
           "#FFA15A",
           "#19d3f3",
           "#FF6692",
           "#B6E880",
           "#FF97FF",
           "#FECB52"
          ],
          "font": {
           "color": "#2a3f5f"
          },
          "geo": {
           "bgcolor": "white",
           "lakecolor": "white",
           "landcolor": "#E5ECF6",
           "showlakes": true,
           "showland": true,
           "subunitcolor": "white"
          },
          "hoverlabel": {
           "align": "left"
          },
          "hovermode": "closest",
          "mapbox": {
           "style": "light"
          },
          "paper_bgcolor": "white",
          "plot_bgcolor": "#E5ECF6",
          "polar": {
           "angularaxis": {
            "gridcolor": "white",
            "linecolor": "white",
            "ticks": ""
           },
           "bgcolor": "#E5ECF6",
           "radialaxis": {
            "gridcolor": "white",
            "linecolor": "white",
            "ticks": ""
           }
          },
          "scene": {
           "xaxis": {
            "backgroundcolor": "#E5ECF6",
            "gridcolor": "white",
            "gridwidth": 2,
            "linecolor": "white",
            "showbackground": true,
            "ticks": "",
            "zerolinecolor": "white"
           },
           "yaxis": {
            "backgroundcolor": "#E5ECF6",
            "gridcolor": "white",
            "gridwidth": 2,
            "linecolor": "white",
            "showbackground": true,
            "ticks": "",
            "zerolinecolor": "white"
           },
           "zaxis": {
            "backgroundcolor": "#E5ECF6",
            "gridcolor": "white",
            "gridwidth": 2,
            "linecolor": "white",
            "showbackground": true,
            "ticks": "",
            "zerolinecolor": "white"
           }
          },
          "shapedefaults": {
           "line": {
            "color": "#2a3f5f"
           }
          },
          "ternary": {
           "aaxis": {
            "gridcolor": "white",
            "linecolor": "white",
            "ticks": ""
           },
           "baxis": {
            "gridcolor": "white",
            "linecolor": "white",
            "ticks": ""
           },
           "bgcolor": "#E5ECF6",
           "caxis": {
            "gridcolor": "white",
            "linecolor": "white",
            "ticks": ""
           }
          },
          "title": {
           "x": 0.05
          },
          "xaxis": {
           "automargin": true,
           "gridcolor": "white",
           "linecolor": "white",
           "ticks": "",
           "title": {
            "standoff": 15
           },
           "zerolinecolor": "white",
           "zerolinewidth": 2
          },
          "yaxis": {
           "automargin": true,
           "gridcolor": "white",
           "linecolor": "white",
           "ticks": "",
           "title": {
            "standoff": 15
           },
           "zerolinecolor": "white",
           "zerolinewidth": 2
          }
         }
        },
        "title": {
         "text": "Customer Purchasing Behavior"
        },
        "xaxis": {
         "anchor": "y",
         "domain": [
          0,
          1
         ],
         "title": {
          "text": "Days Since Last Purchase"
         }
        },
        "yaxis": {
         "anchor": "x",
         "domain": [
          0,
          1
         ],
         "title": {
          "text": "Number of Purchases"
         }
        }
       }
      }
     },
     "metadata": {},
     "output_type": "display_data"
    }
   ],
   "source": [
    "# RFM Analysis\n",
    "current_date = df['Order Date'].max() + pd.Timedelta(days=1)   \n",
    "rfm = df.groupby('Customer ID').agg({\n",
    "    'Order Date': lambda x: (current_date - x.max()).days,\n",
    "    'Order ID': 'nunique',\n",
    "    'Sales': 'sum'\n",
    "}).reset_index()\n",
    "\n",
    "rfm.columns = ['Customer ID', 'Recency', 'Frequency', 'Monetary']\n",
    "\n",
    "fig9 = px.scatter(rfm, x='Recency', y='Frequency', size='Monetary',\n",
    "                 color='Monetary', title='Customer Purchasing Behavior',\n",
    "                 labels={\n",
    "                     'Recency': 'Days Since Last Purchase',\n",
    "                     'Frequency': 'Number of Purchases',\n",
    "                     'Monetary': 'Total Spending ($)'\n",
    "                 })\n",
    "\n",
    "fig9.show()"
   ]
  },
  {
   "cell_type": "markdown",
   "id": "cdfd86c6",
   "metadata": {},
   "source": [
    "Dari scatter diagram diatas dapat disimpulkan bahwa perilaku pelanggan untuk melakukan transaksi kembali dapat terlihat mulai dari 0 hingga 200 hari terakhir transaksi sebelumnya dilakukan. Selain itu, jika kita mengtooltip lingkaran-lingkaran di sebarannya, pelanggan dengan nilai spending besar juga bisa disimpulkan berkontribusi secara signifikan terhadap pemasukkan."
   ]
  },
  {
   "cell_type": "markdown",
   "id": "370b2660",
   "metadata": {},
   "source": [
    "# Kesimpulan"
   ]
  },
  {
   "cell_type": "markdown",
   "id": "087badf3",
   "metadata": {},
   "source": [
    "Analisis yang dilakukan dalam notebook ini memberikan wawasan tentang perilaku pembelian pelanggan dan kinerja penjualan. Poin-poin utama meliputi yang didefinisikan meliputi analisis perilaku pelanggan untuk mengidentifikasi pelanggan yang bertransaksi dengan nominal tinggi dan memberikan kontribusi besar terdahap pendapatan toko, ditambah dengan pelanggan dengan transaksi yang masih minim masih perlu dievaluasi kembali untuk meningkatkan transaksi. Selain itu, Performa penjualan juga didominasi oleh kategori produk elektronik dan furnitur dengan masing-masing barang tertingginya adalah handphone dan kursi. Tren penjualan bulanan juga mengindikasikan adanya pola musiman yang dimana jumlah pesanan bisa meningkat atau menurun. Selain tren penjualan dan perilaku pelanggan, ada juga faktor moda pengiriman dengan biaya terjangkau sehingga dijadikan sebagai pilihan favorit pelanggan untuk pilihan ekspedisi pengiriman barang ke alamat pelanggan masing-masing. "
   ]
  },
  {
   "cell_type": "markdown",
   "id": "2694b57e",
   "metadata": {},
   "source": [
    "# Rekomendasi"
   ]
  },
  {
   "cell_type": "markdown",
   "id": "fbf0c3f2",
   "metadata": {},
   "source": [
    "- Implementasi loyalty program atau promo khusus untuk para pelanggan dengan jumlah transaksi yang besar guna untuk meningkatkan transaksi berulang.\n",
    "\n",
    "- Adakan kampanye marketing terarah untuk meningkatkan kasta pelanggan dengan transaksi kecil menjadi sedang atau besar.\n",
    "\n",
    "- Fokus pada segmen dengan penjualan tinggi (misalnya Corporate) untuk mempertahankan loyalitas.\n",
    "\n",
    "- Buat strategi retensi untuk segmen dengan penjualan rendah (misalnya Home Office) jika terdeteksi penurunan.\n",
    "\n",
    "- Lakukan analisa untuk mencari tau mengapa beberapa sub-kategori memiliki nilai penjualan yang rendah dan buatkan strategi untuk meningkat penjualannya.\n",
    "\n",
    "- Mempertahankan loyalitas pada moda pengiriman regular dengan meningkatkan promosi pengiriman seperti diskon pengiriman atau gratis ongkos kirim."
   ]
  }
 ],
 "metadata": {
  "kernelspec": {
   "display_name": "base",
   "language": "python",
   "name": "python3"
  },
  "language_info": {
   "codemirror_mode": {
    "name": "ipython",
    "version": 3
   },
   "file_extension": ".py",
   "mimetype": "text/x-python",
   "name": "python",
   "nbconvert_exporter": "python",
   "pygments_lexer": "ipython3",
   "version": "3.12.7"
  }
 },
 "nbformat": 4,
 "nbformat_minor": 5
}
